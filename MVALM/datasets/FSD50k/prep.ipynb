{
 "cells": [
  {
   "cell_type": "code",
   "execution_count": 1,
   "metadata": {
    "collapsed": true
   },
   "outputs": [],
   "source": [
    "import sys\n",
    "\n",
    "sys.path.append('/home/t9s9/PycharmProjects/Multimodal-VAL-Models')\n",
    "\n",
    "import json\n",
    "from pathlib import Path\n",
    "\n",
    "import pandas as pd\n",
    "\n",
    "from MVALM.datasets import FSD50k"
   ]
  },
  {
   "cell_type": "code",
   "execution_count": 108,
   "outputs": [],
   "source": [
    "root = Path('/media/t9s9/SSD_ubuntu/datasets/FSD50k/')\n",
    "\n",
    "df_train = pd.read_csv(root / 'FSD50K.ground_truth/dev.csv')\n",
    "df_test = pd.read_csv(root / 'FSD50K.ground_truth/eval.csv')\n",
    "voc = pd.read_csv(root / 'FSD50K.ground_truth/vocabulary.csv',\n",
    "                  names=['label', 'mids'])\n",
    "\n",
    "idx_2_label = voc['label'].to_dict()\n",
    "label_2_idx = {v: k for k, v in idx_2_label.items()}\n",
    "\n",
    "with open(root / 'FSD50K.metadata/dev_clips_info_FSD50K.json', 'r') as f:\n",
    "    meta_dev = json.load(f)\n",
    "with open(root / 'FSD50K.metadata/eval_clips_info_FSD50K.json', 'r') as f:\n",
    "    meta_test = json.load(f)\n",
    "\n",
    "voc.to_parquet(root / 'idx_2_label.parquet', index=True)"
   ],
   "metadata": {
    "collapsed": false
   }
  },
  {
   "cell_type": "markdown",
   "source": [
    "# Test data"
   ],
   "metadata": {
    "collapsed": false
   }
  },
  {
   "cell_type": "code",
   "execution_count": 34,
   "outputs": [],
   "source": [
    "# move files to new location\n",
    "test_data_dir = root / 'data' / 'test'\n",
    "test_data_dir.mkdir(exist_ok=True)\n",
    "\n",
    "for file in (root / 'FSD50K.eval_audio').iterdir():\n",
    "    file.rename(test_data_dir / file.name)"
   ],
   "metadata": {
    "collapsed": false
   }
  },
  {
   "cell_type": "code",
   "execution_count": 74,
   "outputs": [],
   "source": [
    "df_test['labels_str'] = df_test.labels.str.split(',')\n",
    "df_test['labels'] = df_test['labels_str'].apply(lambda x: list(map(label_2_idx.get, x)))\n",
    "df_test['filename'] = df_test['fname'].apply(lambda x: str((Path('test') / str(x)).with_suffix('.flac')))\n",
    "\n",
    "exists = df_test.filename.apply(lambda x: (root / 'data' / x).exists())\n",
    "assert sum(exists) == len(df_test)\n",
    "\n",
    "df_test['tags'] = df_test.fname.apply(lambda idx: meta_test[str(idx)]['tags'])\n",
    "df_test['title'] = df_test.fname.apply(lambda idx: meta_test[str(idx)]['title'])\n",
    "\n",
    "df_test = df_test.drop(columns=['fname', 'mids'])\n",
    "df_test.to_parquet(root / 'annot_train.parquet', index=False)"
   ],
   "metadata": {
    "collapsed": false
   }
  },
  {
   "cell_type": "markdown",
   "source": [
    "# Train / Val data"
   ],
   "metadata": {
    "collapsed": false
   }
  },
  {
   "cell_type": "code",
   "execution_count": 84,
   "outputs": [],
   "source": [
    "# move files to new location\n",
    "for split in df_train.split.unique():\n",
    "    data_dir = root / 'data'\n",
    "    (data_dir / split).mkdir(exist_ok=True)\n",
    "\n",
    "for i, row in df_train.iterrows():\n",
    "    file = (root / 'FSD50K.dev_audio' / str(row['fname'])).with_suffix('.flac')\n",
    "    if file.exists():\n",
    "        file.rename(root / 'data' / row['split'] / file.name)"
   ],
   "metadata": {
    "collapsed": false
   }
  },
  {
   "cell_type": "code",
   "execution_count": 109,
   "outputs": [],
   "source": [
    "df_train['filename'] = df_train.apply(lambda x: str((Path(x['split']) / str(x['fname'])).with_suffix('.flac')), axis=1)\n",
    "exists = df_train.filename.apply(lambda x: (root / 'data' / x).exists())\n",
    "assert sum(exists) == len(df_train)\n",
    "\n",
    "df_train['labels_str'] = df_train.labels.str.split(',')\n",
    "df_train['labels'] = df_train['labels_str'].apply(lambda x: list(map(label_2_idx.get, x)))\n",
    "\n",
    "df_train['tags'] = df_train.fname.apply(lambda idx: meta_dev[str(idx)]['tags'])\n",
    "df_train['title'] = df_train.fname.apply(lambda idx: meta_dev[str(idx)]['title'])\n",
    "\n",
    "for split, split_df in df_train.groupby('split'):\n",
    "    split_df = split_df.drop(columns=['fname', 'mids', 'split'])\n",
    "    split_df.to_parquet(root / f'annot_{split}.parquet', index=False)"
   ],
   "metadata": {
    "collapsed": false
   }
  },
  {
   "cell_type": "markdown",
   "source": [
    "# Dataset"
   ],
   "metadata": {
    "collapsed": false
   }
  },
  {
   "cell_type": "code",
   "execution_count": 15,
   "outputs": [
    {
     "name": "stdout",
     "output_type": "stream",
     "text": [
      "Dataset: FSD50k, Split: train,val,test, Size: 51197, Label: multilabel\n"
     ]
    }
   ],
   "source": [
    "root = '/media/t9s9/SSD_ubuntu/datasets/FSD50k/'\n",
    "dataset = FSD50k(root=root, split='all', sample_rate=16000)\n",
    "print(dataset)"
   ],
   "metadata": {
    "collapsed": false
   }
  },
  {
   "cell_type": "code",
   "execution_count": 22,
   "outputs": [
    {
     "data": {
      "text/plain": "['accelerating and revving and vroom',\n 'accordion',\n 'acoustic guitar',\n 'aircraft',\n 'alarm',\n 'animal',\n 'applause',\n 'bark',\n 'bass drum',\n 'bass guitar',\n 'bathtub (filling or washing)',\n 'bell',\n 'bicycle',\n 'bicycle bell',\n 'bird',\n 'bird vocalization and bird call and bird song',\n 'boat and Water vehicle',\n 'boiling',\n 'boom',\n 'bowed string instrument',\n 'brass instrument',\n 'breathing',\n 'burping and eructation',\n 'bus',\n 'buzz',\n 'camera',\n 'car',\n 'car passing by',\n 'cat',\n 'chatter',\n 'cheering',\n 'chewing and mastication',\n 'chicken and rooster',\n 'child speech and kid speaking',\n 'chime',\n 'chink and clink',\n 'chirp and tweet',\n 'chuckle and chortle',\n 'church bell',\n 'clapping',\n 'clock',\n 'coin (dropping)',\n 'computer keyboard',\n 'conversation',\n 'cough',\n 'cowbell',\n 'crack',\n 'crackle',\n 'crash cymbal',\n 'cricket',\n 'crow',\n 'crowd',\n 'crumpling and crinkling',\n 'crushing',\n 'crying and sobbing',\n 'cupboard open or close',\n 'cutlery and silverware',\n 'cymbal',\n 'dishes and pots and pans',\n 'dog',\n 'domestic animals and pets',\n 'domestic sounds and home sounds',\n 'door',\n 'doorbell',\n 'drawer open or close',\n 'drill',\n 'drip',\n 'drum',\n 'drum kit',\n 'electric guitar',\n 'engine',\n 'engine starting',\n 'explosion',\n 'fart',\n 'female singing',\n 'female speech and woman speaking',\n 'fill (with liquid)',\n 'finger snapping',\n 'fire',\n 'fireworks',\n 'fixed-wing aircraft and airplane',\n 'fowl',\n 'frog',\n 'frying (food)',\n 'gasp',\n 'giggle',\n 'glass',\n 'glockenspiel',\n 'gong',\n 'growling',\n 'guitar',\n 'gull and seagull',\n 'gunshot and gunfire',\n 'gurgling',\n 'hammer',\n 'hands',\n 'harmonica',\n 'harp',\n 'hi-hat',\n 'hiss',\n 'human group actions',\n 'human voice',\n 'idling',\n 'insect',\n 'keyboard (musical)',\n 'keys jangling',\n 'knock',\n 'laughter',\n 'liquid',\n 'livestock and farm animals and working animals',\n 'male singing',\n 'male speech and man speaking',\n 'mallet percussion',\n 'marimba and xylophone',\n 'mechanical fan',\n 'mechanisms',\n 'meow',\n 'microwave oven',\n 'motor vehicle (road)',\n 'motorcycle',\n 'music',\n 'musical instrument',\n 'ocean',\n 'organ',\n 'packing tape and duct tape',\n 'percussion',\n 'piano',\n 'plucked string instrument',\n 'pour',\n 'power tool',\n 'printer',\n 'purr',\n 'race car and auto racing',\n 'rail transport',\n 'rain',\n 'raindrop',\n 'ratchet and pawl',\n 'rattle',\n 'rattle (instrument)',\n 'respiratory sounds',\n 'ringtone',\n 'run',\n 'sawing',\n 'scissors',\n 'scratching (performance technique)',\n 'screaming',\n 'screech',\n 'shatter',\n 'shout',\n 'sigh',\n 'singing',\n 'sink (filling or washing)',\n 'siren',\n 'skateboard',\n 'slam',\n 'sliding door',\n 'snare drum',\n 'sneeze',\n 'speech',\n 'speech synthesizer',\n 'splash and splatter',\n 'squeak',\n 'stream',\n 'strum',\n 'subway and metro and underground',\n 'tabla',\n 'tambourine',\n 'tap',\n 'tearing',\n 'telephone',\n 'thump and thud',\n 'thunder',\n 'thunderstorm',\n 'tick',\n 'tick-tock',\n 'toilet flush',\n 'tools',\n 'traffic noise and roadway noise',\n 'train',\n 'trickle and dribble',\n 'truck',\n 'trumpet',\n 'typewriter',\n 'typing',\n 'vehicle',\n 'vehicle horn and car horn and honking',\n 'walk and footsteps',\n 'water',\n 'water tap and faucet',\n 'waves and surf',\n 'whispering',\n 'whoosh and swoosh and swish',\n 'wild animals',\n 'wind',\n 'wind chime',\n 'wind instrument and woodwind instrument',\n 'wood',\n 'writing',\n 'yell',\n 'zipper (clothing)']"
     },
     "execution_count": 22,
     "metadata": {},
     "output_type": "execute_result"
    }
   ],
   "source": [
    "names = []\n",
    "for i, name in dataset._load_label_names().items():\n",
    "    name = name.replace('_', ' ').strip()\n",
    "    name = name[0].lower() + name[1:]\n",
    "    names.append(name)\n",
    "names"
   ],
   "metadata": {
    "collapsed": false
   }
  },
  {
   "cell_type": "code",
   "execution_count": 14,
   "outputs": [
    {
     "name": "stdout",
     "output_type": "stream",
     "text": [
      "torch.Size([29895])\n",
      "Gunshot_and_gunfire\n",
      "Explosion\n"
     ]
    },
    {
     "data": {
      "text/plain": "AudioOutput(audio=tensor([-2.9692e-01,  2.9281e-01, -1.3140e-01,  ...,  1.6565e-05,\n        -2.5099e-06,  8.9923e-06]), audio_fps=16000, label=array([92, 72]), filename='train/391180.flac')"
     },
     "execution_count": 14,
     "metadata": {},
     "output_type": "execute_result"
    }
   ],
   "source": [
    "dp = dataset[6598]\n",
    "print(dp.audio.shape)\n",
    "for l in dp.label:\n",
    "    print(dataset.idx2label(l))\n",
    "dp"
   ],
   "metadata": {
    "collapsed": false
   }
  }
 ],
 "metadata": {
  "kernelspec": {
   "display_name": "Python 3",
   "language": "python",
   "name": "python3"
  },
  "language_info": {
   "codemirror_mode": {
    "name": "ipython",
    "version": 2
   },
   "file_extension": ".py",
   "mimetype": "text/x-python",
   "name": "python",
   "nbconvert_exporter": "python",
   "pygments_lexer": "ipython2",
   "version": "2.7.6"
  }
 },
 "nbformat": 4,
 "nbformat_minor": 0
}
