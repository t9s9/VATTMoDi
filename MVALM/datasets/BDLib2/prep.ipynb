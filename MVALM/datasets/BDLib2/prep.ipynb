{
 "cells": [
  {
   "cell_type": "code",
   "execution_count": 8,
   "metadata": {
    "collapsed": true
   },
   "outputs": [],
   "source": [
    "import re\n",
    "from pathlib import Path\n",
    "\n",
    "import pandas as pd"
   ]
  },
  {
   "cell_type": "code",
   "execution_count": 22,
   "outputs": [],
   "source": [
    "# download http://m3c.web.auth.gr/research/datasets/bdlib/\n",
    "\n",
    "root = Path('/home/t9s9/Datasets/BDLib-2')\n",
    "data_p = root / 'data' / 'test'\n",
    "data_p.mkdir(parents=True, exist_ok=True)\n",
    "\n",
    "result = []\n",
    "for fold in root.iterdir():\n",
    "    if fold.is_dir() and fold.name.startswith('fold'):\n",
    "        fold_id = int(fold.name[-1]) - 1\n",
    "        for file in fold.iterdir():\n",
    "            if file.is_file():\n",
    "                # use re to get the classname of the file, search for all letters until the first number\n",
    "                classname = re.search(r'[a-zA-Z]*', file.name).group()\n",
    "                result.append({'filename': file.name, 'classname': classname, 'fold': fold_id })\n",
    "                file.rename(data_p / file.name)\n",
    "    fold.rmdir()\n",
    "\n",
    "df = pd.DataFrame(result)\n",
    "df.classname = df.classname.astype('category')\n",
    "df['class_id'] = df.classname.cat.codes\n",
    "df['filename'] = df['filename'].apply(lambda x: str((Path('test') / x).with_suffix('.flac')))\n",
    "df.to_parquet(root / 'annot_test.parquet', index=False)"
   ],
   "metadata": {
    "collapsed": false
   }
  },
  {
   "cell_type": "code",
   "execution_count": 32,
   "outputs": [
    {
     "data": {
      "text/plain": "                    filename    classname  fold  class_id\n0       test/airplane01.flac     airplane     0         0\n1       test/applause02.flac     applause     0         2\n2       test/thunders01.flac     thunders     0         9\n3       test/thunders06.flac     thunders     0         9\n4           test/rain06.flac         rain     0         6\n..                       ...          ...   ...       ...\n175     test/airplane16.flac     airplane     2         0\n176  test/motorcycles13.flac  motorcycles     2         5\n177         test/rain13.flac         rain     2         6\n178     test/seawaves13.flac     seawaves     2         8\n179  test/motorcycles16.flac  motorcycles     2         5\n\n[180 rows x 4 columns]",
      "text/html": "<div>\n<style scoped>\n    .dataframe tbody tr th:only-of-type {\n        vertical-align: middle;\n    }\n\n    .dataframe tbody tr th {\n        vertical-align: top;\n    }\n\n    .dataframe thead th {\n        text-align: right;\n    }\n</style>\n<table border=\"1\" class=\"dataframe\">\n  <thead>\n    <tr style=\"text-align: right;\">\n      <th></th>\n      <th>filename</th>\n      <th>classname</th>\n      <th>fold</th>\n      <th>class_id</th>\n    </tr>\n  </thead>\n  <tbody>\n    <tr>\n      <th>0</th>\n      <td>test/airplane01.flac</td>\n      <td>airplane</td>\n      <td>0</td>\n      <td>0</td>\n    </tr>\n    <tr>\n      <th>1</th>\n      <td>test/applause02.flac</td>\n      <td>applause</td>\n      <td>0</td>\n      <td>2</td>\n    </tr>\n    <tr>\n      <th>2</th>\n      <td>test/thunders01.flac</td>\n      <td>thunders</td>\n      <td>0</td>\n      <td>9</td>\n    </tr>\n    <tr>\n      <th>3</th>\n      <td>test/thunders06.flac</td>\n      <td>thunders</td>\n      <td>0</td>\n      <td>9</td>\n    </tr>\n    <tr>\n      <th>4</th>\n      <td>test/rain06.flac</td>\n      <td>rain</td>\n      <td>0</td>\n      <td>6</td>\n    </tr>\n    <tr>\n      <th>...</th>\n      <td>...</td>\n      <td>...</td>\n      <td>...</td>\n      <td>...</td>\n    </tr>\n    <tr>\n      <th>175</th>\n      <td>test/airplane16.flac</td>\n      <td>airplane</td>\n      <td>2</td>\n      <td>0</td>\n    </tr>\n    <tr>\n      <th>176</th>\n      <td>test/motorcycles13.flac</td>\n      <td>motorcycles</td>\n      <td>2</td>\n      <td>5</td>\n    </tr>\n    <tr>\n      <th>177</th>\n      <td>test/rain13.flac</td>\n      <td>rain</td>\n      <td>2</td>\n      <td>6</td>\n    </tr>\n    <tr>\n      <th>178</th>\n      <td>test/seawaves13.flac</td>\n      <td>seawaves</td>\n      <td>2</td>\n      <td>8</td>\n    </tr>\n    <tr>\n      <th>179</th>\n      <td>test/motorcycles16.flac</td>\n      <td>motorcycles</td>\n      <td>2</td>\n      <td>5</td>\n    </tr>\n  </tbody>\n</table>\n<p>180 rows × 4 columns</p>\n</div>"
     },
     "execution_count": 32,
     "metadata": {},
     "output_type": "execute_result"
    }
   ],
   "source": [
    "df"
   ],
   "metadata": {
    "collapsed": false
   }
  },
  {
   "cell_type": "code",
   "execution_count": 35,
   "outputs": [],
   "source": [
    "idx_2_label = dict(enumerate(df.classname.cat.categories))\n",
    "pd.Series(idx_2_label).rename('label').to_frame().to_parquet(root / 'idx_2_label.parquet')"
   ],
   "metadata": {
    "collapsed": false
   }
  },
  {
   "cell_type": "code",
   "execution_count": 37,
   "outputs": [
    {
     "data": {
      "text/plain": "dict_values(['airplane', 'alarms', 'applause', 'birds', 'dogs', 'motorcycles', 'rain', 'rivers', 'seawaves', 'thunders'])"
     },
     "execution_count": 37,
     "metadata": {},
     "output_type": "execute_result"
    }
   ],
   "source": [
    "idx_2_label.values()"
   ],
   "metadata": {
    "collapsed": false
   }
  }
 ],
 "metadata": {
  "kernelspec": {
   "display_name": "Python 3",
   "language": "python",
   "name": "python3"
  },
  "language_info": {
   "codemirror_mode": {
    "name": "ipython",
    "version": 2
   },
   "file_extension": ".py",
   "mimetype": "text/x-python",
   "name": "python",
   "nbconvert_exporter": "python",
   "pygments_lexer": "ipython2",
   "version": "2.7.6"
  }
 },
 "nbformat": 4,
 "nbformat_minor": 0
}
