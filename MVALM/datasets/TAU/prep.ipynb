{
 "cells": [
  {
   "cell_type": "code",
   "execution_count": 4,
   "metadata": {
    "collapsed": true
   },
   "outputs": [],
   "source": [
    "import pandas as pd\n",
    "from pathlib import Path"
   ]
  },
  {
   "cell_type": "code",
   "execution_count": 8,
   "outputs": [],
   "source": [
    "src = Path('/home/t9s9/Datasets/TAUVideos/')\n",
    "trg = Path('/home/t9s9/Datasets/TAUVideos/videos')\n",
    "\n",
    "for dir in src.iterdir():\n",
    "    if dir.name.startswith('TAU'):\n",
    "        for file in (dir / 'video').iterdir():\n",
    "            if file.name.endswith('.mp4'):\n",
    "                file.rename(trg / file.name)\n",
    "        (dir / 'video').rmdir()\n",
    "        dir.rmdir()"
   ],
   "metadata": {
    "collapsed": false
   }
  },
  {
   "cell_type": "code",
   "execution_count": null,
   "outputs": [],
   "source": [
    "df = pd.read_csv('/media/t9s9/SSD_ubuntu/datasets/TAU/annot/meta.csv', sep='\\t')\n",
    "df['category'] = df.scene_label.astype('category')\n",
    "df['target'] = df.category.cat.codes\n",
    "df"
   ],
   "metadata": {
    "collapsed": false
   }
  },
  {
   "cell_type": "code",
   "execution_count": 16,
   "outputs": [
    {
     "name": "stdout",
     "output_type": "stream",
     "text": [
      "Number of files that exist: 12291 / 12291\n"
     ]
    },
    {
     "data": {
      "text/plain": "                category  target                                  filename\n0                airport       0            airport-lisbon-1000-40000.flac\n1                    bus       1                  bus-lyon-1001-40001.flac\n2          shopping_mall       6      shopping_mall-lisbon-1002-40002.flac\n3      street_pedestrian       7    street_pedestrian-lyon-1003-40003.flac\n4      street_pedestrian       7  street_pedestrian-lisbon-1004-40004.flac\n...                  ...     ...                                       ...\n12286               tram       9                 tram-vienna-285-8635.flac\n12287               tram       9                 tram-vienna-285-8636.flac\n12288               tram       9                 tram-vienna-285-8637.flac\n12289               tram       9                 tram-vienna-285-8638.flac\n12290               tram       9                 tram-vienna-285-8639.flac\n\n[12291 rows x 3 columns]",
      "text/html": "<div>\n<style scoped>\n    .dataframe tbody tr th:only-of-type {\n        vertical-align: middle;\n    }\n\n    .dataframe tbody tr th {\n        vertical-align: top;\n    }\n\n    .dataframe thead th {\n        text-align: right;\n    }\n</style>\n<table border=\"1\" class=\"dataframe\">\n  <thead>\n    <tr style=\"text-align: right;\">\n      <th></th>\n      <th>category</th>\n      <th>target</th>\n      <th>filename</th>\n    </tr>\n  </thead>\n  <tbody>\n    <tr>\n      <th>0</th>\n      <td>airport</td>\n      <td>0</td>\n      <td>airport-lisbon-1000-40000.flac</td>\n    </tr>\n    <tr>\n      <th>1</th>\n      <td>bus</td>\n      <td>1</td>\n      <td>bus-lyon-1001-40001.flac</td>\n    </tr>\n    <tr>\n      <th>2</th>\n      <td>shopping_mall</td>\n      <td>6</td>\n      <td>shopping_mall-lisbon-1002-40002.flac</td>\n    </tr>\n    <tr>\n      <th>3</th>\n      <td>street_pedestrian</td>\n      <td>7</td>\n      <td>street_pedestrian-lyon-1003-40003.flac</td>\n    </tr>\n    <tr>\n      <th>4</th>\n      <td>street_pedestrian</td>\n      <td>7</td>\n      <td>street_pedestrian-lisbon-1004-40004.flac</td>\n    </tr>\n    <tr>\n      <th>...</th>\n      <td>...</td>\n      <td>...</td>\n      <td>...</td>\n    </tr>\n    <tr>\n      <th>12286</th>\n      <td>tram</td>\n      <td>9</td>\n      <td>tram-vienna-285-8635.flac</td>\n    </tr>\n    <tr>\n      <th>12287</th>\n      <td>tram</td>\n      <td>9</td>\n      <td>tram-vienna-285-8636.flac</td>\n    </tr>\n    <tr>\n      <th>12288</th>\n      <td>tram</td>\n      <td>9</td>\n      <td>tram-vienna-285-8637.flac</td>\n    </tr>\n    <tr>\n      <th>12289</th>\n      <td>tram</td>\n      <td>9</td>\n      <td>tram-vienna-285-8638.flac</td>\n    </tr>\n    <tr>\n      <th>12290</th>\n      <td>tram</td>\n      <td>9</td>\n      <td>tram-vienna-285-8639.flac</td>\n    </tr>\n  </tbody>\n</table>\n<p>12291 rows × 3 columns</p>\n</div>"
     },
     "execution_count": 16,
     "metadata": {},
     "output_type": "execute_result"
    }
   ],
   "source": [
    "root = Path('/media/t9s9/SSD_ubuntu/datasets/TAU/audio')\n",
    "df['filename'] = df['filename_audio'].apply(lambda x: str(Path(x).with_suffix('.flac').name))\n",
    "exists = df['filename'].apply(lambda x: (root / x).exists())\n",
    "print(f'Number of files that exist: {exists.sum()} / {len(exists)}')\n",
    "df = df[exists]\n",
    "df = df.drop(columns=['filename_audio', 'filename_video', 'scene_label', 'identifier'])\n",
    "df"
   ],
   "metadata": {
    "collapsed": false
   }
  },
  {
   "cell_type": "code",
   "execution_count": 17,
   "outputs": [],
   "source": [
    "df.to_parquet('/media/t9s9/SSD_ubuntu/datasets/TAU/annot.parquet', index=False)"
   ],
   "metadata": {
    "collapsed": false
   }
  },
  {
   "cell_type": "code",
   "execution_count": 11,
   "outputs": [
    {
     "data": {
      "text/plain": "{0: 'airport',\n 1: 'bus',\n 2: 'metro',\n 3: 'metro_station',\n 4: 'park',\n 5: 'public_square',\n 6: 'shopping_mall',\n 7: 'street_pedestrian',\n 8: 'street_traffic',\n 9: 'tram'}"
     },
     "execution_count": 11,
     "metadata": {},
     "output_type": "execute_result"
    }
   ],
   "source": [
    "idx_to_label = df[['target', 'category']].drop_duplicates().sort_values('target').set_index('target').to_dict()[\n",
    "    'classnames']\n",
    "idx_to_label"
   ],
   "metadata": {
    "collapsed": false
   }
  },
  {
   "cell_type": "code",
   "execution_count": 13,
   "outputs": [
    {
     "data": {
      "text/plain": "['airport',\n 'bus',\n 'metro',\n 'metro station',\n 'park',\n 'public square',\n 'shopping mall',\n 'street pedestrian',\n 'street traffic',\n 'tram']"
     },
     "execution_count": 13,
     "metadata": {},
     "output_type": "execute_result"
    }
   ],
   "source": [
    "list(map(lambda x: x.replace('_', ' ').lower(), idx_to_label.values()))"
   ],
   "metadata": {
    "collapsed": false
   }
  },
  {
   "cell_type": "code",
   "execution_count": 2,
   "outputs": [],
   "source": [
    "from MVALM.datasets import TAU"
   ],
   "metadata": {
    "collapsed": false
   }
  },
  {
   "cell_type": "code",
   "execution_count": 3,
   "outputs": [
    {
     "data": {
      "text/plain": "TAU(split=test, len=12291, label=classification)"
     },
     "execution_count": 3,
     "metadata": {},
     "output_type": "execute_result"
    }
   ],
   "source": [
    "dataset = TAU(datasets_root='/media/t9s9/SSD_ubuntu/datasets')\n",
    "dataset"
   ],
   "metadata": {
    "collapsed": false
   }
  },
  {
   "cell_type": "code",
   "execution_count": 3,
   "outputs": [],
   "source": [
    "string = \"https://zenodo.org/record/4477542/files/TAU-urban-audio-visual-scenes-2021-development.video.{}.zip?download=1\"\n",
    "with open('urls.txt', 'w') as f:\n",
    "    for i in range(1, 17):\n",
    "        f.write(string.format(i) + '\\n')"
   ],
   "metadata": {
    "collapsed": false
   }
  }
 ],
 "metadata": {
  "kernelspec": {
   "display_name": "Python 3",
   "language": "python",
   "name": "python3"
  },
  "language_info": {
   "codemirror_mode": {
    "name": "ipython",
    "version": 2
   },
   "file_extension": ".py",
   "mimetype": "text/x-python",
   "name": "python",
   "nbconvert_exporter": "python",
   "pygments_lexer": "ipython2",
   "version": "2.7.6"
  }
 },
 "nbformat": 4,
 "nbformat_minor": 0
}
