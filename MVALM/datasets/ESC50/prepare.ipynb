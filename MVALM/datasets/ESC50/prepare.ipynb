{
 "cells": [
  {
   "cell_type": "code",
   "execution_count": 2,
   "metadata": {
    "collapsed": true
   },
   "outputs": [],
   "source": [
    "import pandas as pd"
   ]
  },
  {
   "cell_type": "code",
   "execution_count": 2,
   "outputs": [
    {
     "name": "stdout",
     "output_type": "stream",
     "text": [
      "<class 'pandas.core.frame.DataFrame'>\n",
      "RangeIndex: 2000 entries, 0 to 1999\n",
      "Data columns (total 7 columns):\n",
      " #   Column    Non-Null Count  Dtype \n",
      "---  ------    --------------  ----- \n",
      " 0   filename  2000 non-null   object\n",
      " 1   fold      2000 non-null   int64 \n",
      " 2   target    2000 non-null   int64 \n",
      " 3   category  2000 non-null   object\n",
      " 4   esc10     2000 non-null   bool  \n",
      " 5   src_file  2000 non-null   int64 \n",
      " 6   take      2000 non-null   object\n",
      "dtypes: bool(1), int64(3), object(3)\n",
      "memory usage: 95.8+ KB\n"
     ]
    }
   ],
   "source": [
    "df = pd.read_csv('/media/ts/SSD_ubuntu/datasets/ESC50/esc50.csv')\n",
    "df.info()"
   ],
   "metadata": {
    "collapsed": false
   }
  },
  {
   "cell_type": "code",
   "execution_count": 3,
   "outputs": [
    {
     "name": "stdout",
     "output_type": "stream",
     "text": [
      "<class 'pandas.core.frame.DataFrame'>\n",
      "RangeIndex: 2000 entries, 0 to 1999\n",
      "Data columns (total 6 columns):\n",
      " #   Column    Non-Null Count  Dtype   \n",
      "---  ------    --------------  -----   \n",
      " 0   filename  2000 non-null   object  \n",
      " 1   fold      2000 non-null   int8    \n",
      " 2   target    2000 non-null   int8    \n",
      " 3   category  2000 non-null   category\n",
      " 4   esc10     2000 non-null   bool    \n",
      " 5   take      2000 non-null   category\n",
      "dtypes: bool(1), category(2), int8(2), object(1)\n",
      "memory usage: 28.3+ KB\n"
     ]
    }
   ],
   "source": [
    "df.fold = df.fold.astype('int8')\n",
    "df.target = df.target.astype('int8')\n",
    "df.category = df.category.astype('category')\n",
    "df['take'] = df['take'].astype('category')\n",
    "df = df.drop(columns='src_file')\n",
    "df.info()"
   ],
   "metadata": {
    "collapsed": false
   }
  },
  {
   "cell_type": "code",
   "execution_count": 4,
   "outputs": [
    {
     "data": {
      "text/plain": "            filename  fold  target        category  esc10 take\n0   1-100032-A-0.wav     1       0             dog   True    A\n1  1-100038-A-14.wav     1      14  chirping_birds  False    A\n2  1-100210-A-36.wav     1      36  vacuum_cleaner  False    A\n3  1-100210-B-36.wav     1      36  vacuum_cleaner  False    B\n4  1-101296-A-19.wav     1      19    thunderstorm  False    A",
      "text/html": "<div>\n<style scoped>\n    .dataframe tbody tr th:only-of-type {\n        vertical-align: middle;\n    }\n\n    .dataframe tbody tr th {\n        vertical-align: top;\n    }\n\n    .dataframe thead th {\n        text-align: right;\n    }\n</style>\n<table border=\"1\" class=\"dataframe\">\n  <thead>\n    <tr style=\"text-align: right;\">\n      <th></th>\n      <th>filename</th>\n      <th>fold</th>\n      <th>target</th>\n      <th>category</th>\n      <th>esc10</th>\n      <th>take</th>\n    </tr>\n  </thead>\n  <tbody>\n    <tr>\n      <th>0</th>\n      <td>1-100032-A-0.wav</td>\n      <td>1</td>\n      <td>0</td>\n      <td>dog</td>\n      <td>True</td>\n      <td>A</td>\n    </tr>\n    <tr>\n      <th>1</th>\n      <td>1-100038-A-14.wav</td>\n      <td>1</td>\n      <td>14</td>\n      <td>chirping_birds</td>\n      <td>False</td>\n      <td>A</td>\n    </tr>\n    <tr>\n      <th>2</th>\n      <td>1-100210-A-36.wav</td>\n      <td>1</td>\n      <td>36</td>\n      <td>vacuum_cleaner</td>\n      <td>False</td>\n      <td>A</td>\n    </tr>\n    <tr>\n      <th>3</th>\n      <td>1-100210-B-36.wav</td>\n      <td>1</td>\n      <td>36</td>\n      <td>vacuum_cleaner</td>\n      <td>False</td>\n      <td>B</td>\n    </tr>\n    <tr>\n      <th>4</th>\n      <td>1-101296-A-19.wav</td>\n      <td>1</td>\n      <td>19</td>\n      <td>thunderstorm</td>\n      <td>False</td>\n      <td>A</td>\n    </tr>\n  </tbody>\n</table>\n</div>"
     },
     "execution_count": 4,
     "metadata": {},
     "output_type": "execute_result"
    }
   ],
   "source": [
    "df.head()"
   ],
   "metadata": {
    "collapsed": false
   }
  },
  {
   "cell_type": "code",
   "execution_count": 10,
   "outputs": [],
   "source": [
    "df.to_parquet('/media/ts/SSD_ubuntu/datasets/ESC50/esc50.parquet', index=False)"
   ],
   "metadata": {
    "collapsed": false
   }
  },
  {
   "cell_type": "code",
   "execution_count": 3,
   "outputs": [],
   "source": [
    "df = pd.read_parquet('/media/t9s9/SSD_ubuntu/datasets/ESC50/esc50.parquet')"
   ],
   "metadata": {
    "collapsed": false
   }
  },
  {
   "cell_type": "code",
   "execution_count": 4,
   "outputs": [
    {
     "data": {
      "text/plain": "               filename  fold  target        category  esc10 take\n0      1-100032-A-0.wav     1       0             dog   True    A\n1     1-100038-A-14.wav     1      14  chirping_birds  False    A\n2     1-100210-A-36.wav     1      36  vacuum_cleaner  False    A\n3     1-100210-B-36.wav     1      36  vacuum_cleaner  False    B\n4     1-101296-A-19.wav     1      19    thunderstorm  False    A\n...                 ...   ...     ...             ...    ...  ...\n1995   5-263831-B-6.wav     5       6             hen  False    B\n1996  5-263902-A-36.wav     5      36  vacuum_cleaner  False    A\n1997   5-51149-A-25.wav     5      25       footsteps  False    A\n1998    5-61635-A-8.wav     5       8           sheep  False    A\n1999     5-9032-A-0.wav     5       0             dog   True    A\n\n[2000 rows x 6 columns]",
      "text/html": "<div>\n<style scoped>\n    .dataframe tbody tr th:only-of-type {\n        vertical-align: middle;\n    }\n\n    .dataframe tbody tr th {\n        vertical-align: top;\n    }\n\n    .dataframe thead th {\n        text-align: right;\n    }\n</style>\n<table border=\"1\" class=\"dataframe\">\n  <thead>\n    <tr style=\"text-align: right;\">\n      <th></th>\n      <th>filename</th>\n      <th>fold</th>\n      <th>target</th>\n      <th>category</th>\n      <th>esc10</th>\n      <th>take</th>\n    </tr>\n  </thead>\n  <tbody>\n    <tr>\n      <th>0</th>\n      <td>1-100032-A-0.wav</td>\n      <td>1</td>\n      <td>0</td>\n      <td>dog</td>\n      <td>True</td>\n      <td>A</td>\n    </tr>\n    <tr>\n      <th>1</th>\n      <td>1-100038-A-14.wav</td>\n      <td>1</td>\n      <td>14</td>\n      <td>chirping_birds</td>\n      <td>False</td>\n      <td>A</td>\n    </tr>\n    <tr>\n      <th>2</th>\n      <td>1-100210-A-36.wav</td>\n      <td>1</td>\n      <td>36</td>\n      <td>vacuum_cleaner</td>\n      <td>False</td>\n      <td>A</td>\n    </tr>\n    <tr>\n      <th>3</th>\n      <td>1-100210-B-36.wav</td>\n      <td>1</td>\n      <td>36</td>\n      <td>vacuum_cleaner</td>\n      <td>False</td>\n      <td>B</td>\n    </tr>\n    <tr>\n      <th>4</th>\n      <td>1-101296-A-19.wav</td>\n      <td>1</td>\n      <td>19</td>\n      <td>thunderstorm</td>\n      <td>False</td>\n      <td>A</td>\n    </tr>\n    <tr>\n      <th>...</th>\n      <td>...</td>\n      <td>...</td>\n      <td>...</td>\n      <td>...</td>\n      <td>...</td>\n      <td>...</td>\n    </tr>\n    <tr>\n      <th>1995</th>\n      <td>5-263831-B-6.wav</td>\n      <td>5</td>\n      <td>6</td>\n      <td>hen</td>\n      <td>False</td>\n      <td>B</td>\n    </tr>\n    <tr>\n      <th>1996</th>\n      <td>5-263902-A-36.wav</td>\n      <td>5</td>\n      <td>36</td>\n      <td>vacuum_cleaner</td>\n      <td>False</td>\n      <td>A</td>\n    </tr>\n    <tr>\n      <th>1997</th>\n      <td>5-51149-A-25.wav</td>\n      <td>5</td>\n      <td>25</td>\n      <td>footsteps</td>\n      <td>False</td>\n      <td>A</td>\n    </tr>\n    <tr>\n      <th>1998</th>\n      <td>5-61635-A-8.wav</td>\n      <td>5</td>\n      <td>8</td>\n      <td>sheep</td>\n      <td>False</td>\n      <td>A</td>\n    </tr>\n    <tr>\n      <th>1999</th>\n      <td>5-9032-A-0.wav</td>\n      <td>5</td>\n      <td>0</td>\n      <td>dog</td>\n      <td>True</td>\n      <td>A</td>\n    </tr>\n  </tbody>\n</table>\n<p>2000 rows × 6 columns</p>\n</div>"
     },
     "execution_count": 4,
     "metadata": {},
     "output_type": "execute_result"
    }
   ],
   "source": [
    "df"
   ],
   "metadata": {
    "collapsed": false
   }
  }
 ],
 "metadata": {
  "kernelspec": {
   "display_name": "Python 3",
   "language": "python",
   "name": "python3"
  },
  "language_info": {
   "codemirror_mode": {
    "name": "ipython",
    "version": 2
   },
   "file_extension": ".py",
   "mimetype": "text/x-python",
   "name": "python",
   "nbconvert_exporter": "python",
   "pygments_lexer": "ipython2",
   "version": "2.7.6"
  }
 },
 "nbformat": 4,
 "nbformat_minor": 0
}
