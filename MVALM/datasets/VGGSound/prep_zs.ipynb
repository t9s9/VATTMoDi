{
 "cells": [
  {
   "cell_type": "code",
   "execution_count": 1,
   "metadata": {
    "collapsed": true
   },
   "outputs": [],
   "source": [
    "import pandas as pd\n",
    "from MVALM.datasets import VGGSound\n",
    "from pathlib import Path\n",
    "from MVALM.datasets.VGGSound.vggsound import VGGSoundAudio"
   ]
  },
  {
   "cell_type": "code",
   "execution_count": 30,
   "outputs": [],
   "source": [
    "df_cls = pd.read_parquet('/home/t9s9/Datasets/VGGSound/annot_test.parquet')\n",
    "df_full = pd.read_parquet('/home/t9s9/Datasets/VGGSound/annot_full_test.parquet')"
   ],
   "metadata": {
    "collapsed": false
   }
  },
  {
   "cell_type": "code",
   "execution_count": 35,
   "outputs": [
    {
     "data": {
      "text/plain": "                           tags                             filename  target  \\\n0          [waterfall burbling]  train/--0PQM4-hqg_000030_000040.mp4     299   \n1              [playing tennis]  train/--56QUhyDQM_000185_000195.mp4     224   \n2       [people belly laughing]  train/--5OkAjCI7g_000040_000050.mp4     140   \n3         [car engine starting]  train/--8puiAGLhs_000030_000040.mp4      29   \n4         [alarm clock ringing]  train/--96EN9NUQM_000242_000252.mp4       4   \n...                         ...                                  ...     ...   \n164413         [lathe spinning]  train/zzsUhaDSqzI_000115_000125.mp4     111   \n164414         [lathe spinning]  train/zzsUhaDSqzI_000145_000155.mp4     111   \n164415       [people shuffling]  train/zztvx3WUBss_000030_000040.mp4     161   \n164416       [chicken clucking]  train/zzvSVusPPgM_000030_000040.mp4      41   \n164417            [lawn mowing]  train/zzwbG0dHLhI_000150_000160.mp4     112   \n\n                                          captions_visual  \\\n0       [A river filled with lots of water next to a f...   \n1       [The video shows a young woman playing tennis ...   \n2       [Two young boys brushing their teeth in front ...   \n3                  [How to change the speed of your car.]   \n4              [A hand holding a small clock on a table.]   \n...                                                   ...   \n164413      [A factory machine that is making a machine.]   \n164414  [In this video, person can be seen working on ...   \n164415  [The video shows a young boy jumping over a wa...   \n164416                [Biological species in the jungle.]   \n164417       [A woman is cutting grass with a lawnmower.]   \n\n                                        captions_auditory  \n0       [Water is rushing down a waterfall at a consta...  \n1              [A tennis ball is being hit on the court.]  \n2            [A baby is laughing and a woman is talking.]  \n3       [Someone is starting a car and then starting i...  \n4       [A musical instrument is being played with a c...  \n...                                                   ...  \n164413          [A motor is running at a constant speed.]  \n164414        [A machine is running at a constant speed.]  \n164415  [A girl is laughing and playing with a bunch o...  \n164416  [Several chickens are clucking and cackling in...  \n164417                 [A lawn mower is mowing the lawn.]  \n\n[164418 rows x 5 columns]",
      "text/html": "<div>\n<style scoped>\n    .dataframe tbody tr th:only-of-type {\n        vertical-align: middle;\n    }\n\n    .dataframe tbody tr th {\n        vertical-align: top;\n    }\n\n    .dataframe thead th {\n        text-align: right;\n    }\n</style>\n<table border=\"1\" class=\"dataframe\">\n  <thead>\n    <tr style=\"text-align: right;\">\n      <th></th>\n      <th>tags</th>\n      <th>filename</th>\n      <th>target</th>\n      <th>captions_visual</th>\n      <th>captions_auditory</th>\n    </tr>\n  </thead>\n  <tbody>\n    <tr>\n      <th>0</th>\n      <td>[waterfall burbling]</td>\n      <td>train/--0PQM4-hqg_000030_000040.mp4</td>\n      <td>299</td>\n      <td>[A river filled with lots of water next to a f...</td>\n      <td>[Water is rushing down a waterfall at a consta...</td>\n    </tr>\n    <tr>\n      <th>1</th>\n      <td>[playing tennis]</td>\n      <td>train/--56QUhyDQM_000185_000195.mp4</td>\n      <td>224</td>\n      <td>[The video shows a young woman playing tennis ...</td>\n      <td>[A tennis ball is being hit on the court.]</td>\n    </tr>\n    <tr>\n      <th>2</th>\n      <td>[people belly laughing]</td>\n      <td>train/--5OkAjCI7g_000040_000050.mp4</td>\n      <td>140</td>\n      <td>[Two young boys brushing their teeth in front ...</td>\n      <td>[A baby is laughing and a woman is talking.]</td>\n    </tr>\n    <tr>\n      <th>3</th>\n      <td>[car engine starting]</td>\n      <td>train/--8puiAGLhs_000030_000040.mp4</td>\n      <td>29</td>\n      <td>[How to change the speed of your car.]</td>\n      <td>[Someone is starting a car and then starting i...</td>\n    </tr>\n    <tr>\n      <th>4</th>\n      <td>[alarm clock ringing]</td>\n      <td>train/--96EN9NUQM_000242_000252.mp4</td>\n      <td>4</td>\n      <td>[A hand holding a small clock on a table.]</td>\n      <td>[A musical instrument is being played with a c...</td>\n    </tr>\n    <tr>\n      <th>...</th>\n      <td>...</td>\n      <td>...</td>\n      <td>...</td>\n      <td>...</td>\n      <td>...</td>\n    </tr>\n    <tr>\n      <th>164413</th>\n      <td>[lathe spinning]</td>\n      <td>train/zzsUhaDSqzI_000115_000125.mp4</td>\n      <td>111</td>\n      <td>[A factory machine that is making a machine.]</td>\n      <td>[A motor is running at a constant speed.]</td>\n    </tr>\n    <tr>\n      <th>164414</th>\n      <td>[lathe spinning]</td>\n      <td>train/zzsUhaDSqzI_000145_000155.mp4</td>\n      <td>111</td>\n      <td>[In this video, person can be seen working on ...</td>\n      <td>[A machine is running at a constant speed.]</td>\n    </tr>\n    <tr>\n      <th>164415</th>\n      <td>[people shuffling]</td>\n      <td>train/zztvx3WUBss_000030_000040.mp4</td>\n      <td>161</td>\n      <td>[The video shows a young boy jumping over a wa...</td>\n      <td>[A girl is laughing and playing with a bunch o...</td>\n    </tr>\n    <tr>\n      <th>164416</th>\n      <td>[chicken clucking]</td>\n      <td>train/zzvSVusPPgM_000030_000040.mp4</td>\n      <td>41</td>\n      <td>[Biological species in the jungle.]</td>\n      <td>[Several chickens are clucking and cackling in...</td>\n    </tr>\n    <tr>\n      <th>164417</th>\n      <td>[lawn mowing]</td>\n      <td>train/zzwbG0dHLhI_000150_000160.mp4</td>\n      <td>112</td>\n      <td>[A woman is cutting grass with a lawnmower.]</td>\n      <td>[A lawn mower is mowing the lawn.]</td>\n    </tr>\n  </tbody>\n</table>\n<p>164418 rows × 5 columns</p>\n</div>"
     },
     "execution_count": 35,
     "metadata": {},
     "output_type": "execute_result"
    }
   ],
   "source": [
    "pd.read_parquet('/home/t9s9/Datasets/VGGSound/annot_train.parquet')"
   ],
   "metadata": {
    "collapsed": false
   }
  },
  {
   "cell_type": "code",
   "execution_count": 31,
   "outputs": [],
   "source": [
    "df = df_cls.merge(df_full, on='filename', how='inner', validate='one_to_one')\n",
    "df = df.rename(columns={'label': 'tags'})\n",
    "df['tags'] = df['tags'].astype('str').apply(lambda x: [x])"
   ],
   "metadata": {
    "collapsed": false
   }
  },
  {
   "cell_type": "code",
   "execution_count": 34,
   "outputs": [],
   "source": [
    "df.to_parquet('/home/t9s9/Datasets/VGGSound/annot_test.parquet', index=False)"
   ],
   "metadata": {
    "collapsed": false
   }
  },
  {
   "cell_type": "code",
   "execution_count": 10,
   "outputs": [
    {
     "data": {
      "text/plain": "                         label                             filename  target\n0              people marching  test/---g-f_I2yQ_000001_000011.flac     157\n1              people coughing  test/--U7joUcTCo_000000_000010.flac     145\n2               female singing  test/--i-y1v8Hy8_000000_000010.flac      82\n3        people belly laughing  test/-0BIyqJj9ZU_000030_000040.flac     140\n4               horse neighing  test/-0jeONf82dE_000021_000031.flac     108\n...                        ...                                  ...     ...\n13620  chimpanzee pant-hooting  test/zz0fdUGTHWo_000045_000055.flac      46\n13621          popping popcorn  test/zzFdhaiG_Hk_000095_000105.flac     240\n13622               wind noise  test/zzbTaK7CXJY_000030_000040.flac     302\n13623            train horning  test/zzqrZOq928w_000055_000065.flac     287\n13624      civil defense siren  test/zzvCPtdNxNo_000068_000078.flac      52\n\n[13625 rows x 3 columns]",
      "text/html": "<div>\n<style scoped>\n    .dataframe tbody tr th:only-of-type {\n        vertical-align: middle;\n    }\n\n    .dataframe tbody tr th {\n        vertical-align: top;\n    }\n\n    .dataframe thead th {\n        text-align: right;\n    }\n</style>\n<table border=\"1\" class=\"dataframe\">\n  <thead>\n    <tr style=\"text-align: right;\">\n      <th></th>\n      <th>label</th>\n      <th>filename</th>\n      <th>target</th>\n    </tr>\n  </thead>\n  <tbody>\n    <tr>\n      <th>0</th>\n      <td>people marching</td>\n      <td>test/---g-f_I2yQ_000001_000011.flac</td>\n      <td>157</td>\n    </tr>\n    <tr>\n      <th>1</th>\n      <td>people coughing</td>\n      <td>test/--U7joUcTCo_000000_000010.flac</td>\n      <td>145</td>\n    </tr>\n    <tr>\n      <th>2</th>\n      <td>female singing</td>\n      <td>test/--i-y1v8Hy8_000000_000010.flac</td>\n      <td>82</td>\n    </tr>\n    <tr>\n      <th>3</th>\n      <td>people belly laughing</td>\n      <td>test/-0BIyqJj9ZU_000030_000040.flac</td>\n      <td>140</td>\n    </tr>\n    <tr>\n      <th>4</th>\n      <td>horse neighing</td>\n      <td>test/-0jeONf82dE_000021_000031.flac</td>\n      <td>108</td>\n    </tr>\n    <tr>\n      <th>...</th>\n      <td>...</td>\n      <td>...</td>\n      <td>...</td>\n    </tr>\n    <tr>\n      <th>13620</th>\n      <td>chimpanzee pant-hooting</td>\n      <td>test/zz0fdUGTHWo_000045_000055.flac</td>\n      <td>46</td>\n    </tr>\n    <tr>\n      <th>13621</th>\n      <td>popping popcorn</td>\n      <td>test/zzFdhaiG_Hk_000095_000105.flac</td>\n      <td>240</td>\n    </tr>\n    <tr>\n      <th>13622</th>\n      <td>wind noise</td>\n      <td>test/zzbTaK7CXJY_000030_000040.flac</td>\n      <td>302</td>\n    </tr>\n    <tr>\n      <th>13623</th>\n      <td>train horning</td>\n      <td>test/zzqrZOq928w_000055_000065.flac</td>\n      <td>287</td>\n    </tr>\n    <tr>\n      <th>13624</th>\n      <td>civil defense siren</td>\n      <td>test/zzvCPtdNxNo_000068_000078.flac</td>\n      <td>52</td>\n    </tr>\n  </tbody>\n</table>\n<p>13625 rows × 3 columns</p>\n</div>"
     },
     "execution_count": 10,
     "metadata": {},
     "output_type": "execute_result"
    }
   ],
   "source": [
    "df = pd.read_parquet('/home/t9s9/Datasets/VGGSound/annot_test.parquet')\n",
    "df.filename = df.filename.apply(lambda x: str(Path(x).with_suffix('.flac')))\n",
    "df"
   ],
   "metadata": {
    "collapsed": false
   }
  },
  {
   "cell_type": "code",
   "execution_count": 14,
   "outputs": [],
   "source": [
    "exists = df.filename.apply(lambda x: Path('/home/t9s9/Datasets/VGGSound/audio').joinpath(x).exists())\n",
    "df[exists].to_parquet('/home/t9s9/Datasets/VGGSound/annot_audio_test.parquet', index=False)"
   ],
   "metadata": {
    "collapsed": false
   }
  },
  {
   "cell_type": "code",
   "execution_count": 4,
   "outputs": [],
   "source": [
    "dataset = VGGSoundAudio(root='/home/t9s9/Datasets/VGGSound/', split='test')"
   ],
   "metadata": {
    "collapsed": false
   }
  },
  {
   "cell_type": "code",
   "execution_count": 58,
   "outputs": [],
   "source": [
    "df = pd.read_parquet('/home/t9s9/Datasets/VGGSound/annot_train.parquet')\n",
    "df.label = df.label.astype('category')\n",
    "idx2label = df.label.cat.categories.to_series().reset_index(drop=True).rename('label').to_frame()\n",
    "idx2label.to_parquet('/home/t9s9/Datasets/VGGSound/idx_2_label.parquet', index=True)\n",
    "label2idx = {v: k for k, v in idx2label.to_dict()['label'].items()}"
   ],
   "metadata": {
    "collapsed": false
   }
  },
  {
   "cell_type": "code",
   "execution_count": 59,
   "outputs": [
    {
     "ename": "AttributeError",
     "evalue": "'DataFrame' object has no attribute 'cat'",
     "output_type": "error",
     "traceback": [
      "\u001B[0;31m---------------------------------------------------------------------------\u001B[0m",
      "\u001B[0;31mAttributeError\u001B[0m                            Traceback (most recent call last)",
      "Cell \u001B[0;32mIn[59], line 2\u001B[0m\n\u001B[1;32m      1\u001B[0m df \u001B[38;5;241m=\u001B[39m df\u001B[38;5;241m.\u001B[39mrename(columns\u001B[38;5;241m=\u001B[39m{\u001B[38;5;124m'\u001B[39m\u001B[38;5;124mtarget\u001B[39m\u001B[38;5;124m'\u001B[39m: \u001B[38;5;124m'\u001B[39m\u001B[38;5;124mlabel\u001B[39m\u001B[38;5;124m'\u001B[39m})\n\u001B[0;32m----> 2\u001B[0m df[\u001B[38;5;124m'\u001B[39m\u001B[38;5;124mtarget\u001B[39m\u001B[38;5;124m'\u001B[39m] \u001B[38;5;241m=\u001B[39m \u001B[43mdf\u001B[49m\u001B[38;5;241;43m.\u001B[39;49m\u001B[43mlabel\u001B[49m\u001B[38;5;241;43m.\u001B[39;49m\u001B[43mcat\u001B[49m\u001B[38;5;241m.\u001B[39mcodes\n\u001B[1;32m      3\u001B[0m df\u001B[38;5;241m.\u001B[39mto_parquet(\u001B[38;5;124m'\u001B[39m\u001B[38;5;124m/home/t9s9/Datasets/VGGSound/annot_train.parquet\u001B[39m\u001B[38;5;124m'\u001B[39m, index\u001B[38;5;241m=\u001B[39m\u001B[38;5;28;01mFalse\u001B[39;00m)\n",
      "File \u001B[0;32m~/miniconda3/envs/fasttorch/lib/python3.10/site-packages/pandas/core/generic.py:5902\u001B[0m, in \u001B[0;36mNDFrame.__getattr__\u001B[0;34m(self, name)\u001B[0m\n\u001B[1;32m   5895\u001B[0m \u001B[38;5;28;01mif\u001B[39;00m (\n\u001B[1;32m   5896\u001B[0m     name \u001B[38;5;129;01mnot\u001B[39;00m \u001B[38;5;129;01min\u001B[39;00m \u001B[38;5;28mself\u001B[39m\u001B[38;5;241m.\u001B[39m_internal_names_set\n\u001B[1;32m   5897\u001B[0m     \u001B[38;5;129;01mand\u001B[39;00m name \u001B[38;5;129;01mnot\u001B[39;00m \u001B[38;5;129;01min\u001B[39;00m \u001B[38;5;28mself\u001B[39m\u001B[38;5;241m.\u001B[39m_metadata\n\u001B[1;32m   5898\u001B[0m     \u001B[38;5;129;01mand\u001B[39;00m name \u001B[38;5;129;01mnot\u001B[39;00m \u001B[38;5;129;01min\u001B[39;00m \u001B[38;5;28mself\u001B[39m\u001B[38;5;241m.\u001B[39m_accessors\n\u001B[1;32m   5899\u001B[0m     \u001B[38;5;129;01mand\u001B[39;00m \u001B[38;5;28mself\u001B[39m\u001B[38;5;241m.\u001B[39m_info_axis\u001B[38;5;241m.\u001B[39m_can_hold_identifiers_and_holds_name(name)\n\u001B[1;32m   5900\u001B[0m ):\n\u001B[1;32m   5901\u001B[0m     \u001B[38;5;28;01mreturn\u001B[39;00m \u001B[38;5;28mself\u001B[39m[name]\n\u001B[0;32m-> 5902\u001B[0m \u001B[38;5;28;01mreturn\u001B[39;00m \u001B[38;5;28;43mobject\u001B[39;49m\u001B[38;5;241;43m.\u001B[39;49m\u001B[38;5;21;43m__getattribute__\u001B[39;49m\u001B[43m(\u001B[49m\u001B[38;5;28;43mself\u001B[39;49m\u001B[43m,\u001B[49m\u001B[43m \u001B[49m\u001B[43mname\u001B[49m\u001B[43m)\u001B[49m\n",
      "\u001B[0;31mAttributeError\u001B[0m: 'DataFrame' object has no attribute 'cat'"
     ]
    }
   ],
   "source": [
    "df = df.rename(columns={'target': 'label'})\n",
    "df['target'] = df.label.cat.codes\n",
    "df.to_parquet('/home/t9s9/Datasets/VGGSound/annot_train.parquet', index=False)"
   ],
   "metadata": {
    "collapsed": false
   }
  },
  {
   "cell_type": "code",
   "execution_count": 61,
   "outputs": [
    {
     "data": {
      "text/plain": "                         label                            filename target\n0              people marching  test/---g-f_I2yQ_000001_000011.mp4    157\n1              people coughing  test/--U7joUcTCo_000000_000010.mp4    145\n2               female singing  test/--i-y1v8Hy8_000000_000010.mp4     82\n3        people belly laughing  test/-0BIyqJj9ZU_000030_000040.mp4    140\n4               horse neighing  test/-0jeONf82dE_000021_000031.mp4    108\n...                        ...                                 ...    ...\n13620  chimpanzee pant-hooting  test/zz0fdUGTHWo_000045_000055.mp4     46\n13621          popping popcorn  test/zzFdhaiG_Hk_000095_000105.mp4    240\n13622               wind noise  test/zzbTaK7CXJY_000030_000040.mp4    302\n13623            train horning  test/zzqrZOq928w_000055_000065.mp4    287\n13624      civil defense siren  test/zzvCPtdNxNo_000068_000078.mp4     52\n\n[13625 rows x 3 columns]",
      "text/html": "<div>\n<style scoped>\n    .dataframe tbody tr th:only-of-type {\n        vertical-align: middle;\n    }\n\n    .dataframe tbody tr th {\n        vertical-align: top;\n    }\n\n    .dataframe thead th {\n        text-align: right;\n    }\n</style>\n<table border=\"1\" class=\"dataframe\">\n  <thead>\n    <tr style=\"text-align: right;\">\n      <th></th>\n      <th>label</th>\n      <th>filename</th>\n      <th>target</th>\n    </tr>\n  </thead>\n  <tbody>\n    <tr>\n      <th>0</th>\n      <td>people marching</td>\n      <td>test/---g-f_I2yQ_000001_000011.mp4</td>\n      <td>157</td>\n    </tr>\n    <tr>\n      <th>1</th>\n      <td>people coughing</td>\n      <td>test/--U7joUcTCo_000000_000010.mp4</td>\n      <td>145</td>\n    </tr>\n    <tr>\n      <th>2</th>\n      <td>female singing</td>\n      <td>test/--i-y1v8Hy8_000000_000010.mp4</td>\n      <td>82</td>\n    </tr>\n    <tr>\n      <th>3</th>\n      <td>people belly laughing</td>\n      <td>test/-0BIyqJj9ZU_000030_000040.mp4</td>\n      <td>140</td>\n    </tr>\n    <tr>\n      <th>4</th>\n      <td>horse neighing</td>\n      <td>test/-0jeONf82dE_000021_000031.mp4</td>\n      <td>108</td>\n    </tr>\n    <tr>\n      <th>...</th>\n      <td>...</td>\n      <td>...</td>\n      <td>...</td>\n    </tr>\n    <tr>\n      <th>13620</th>\n      <td>chimpanzee pant-hooting</td>\n      <td>test/zz0fdUGTHWo_000045_000055.mp4</td>\n      <td>46</td>\n    </tr>\n    <tr>\n      <th>13621</th>\n      <td>popping popcorn</td>\n      <td>test/zzFdhaiG_Hk_000095_000105.mp4</td>\n      <td>240</td>\n    </tr>\n    <tr>\n      <th>13622</th>\n      <td>wind noise</td>\n      <td>test/zzbTaK7CXJY_000030_000040.mp4</td>\n      <td>302</td>\n    </tr>\n    <tr>\n      <th>13623</th>\n      <td>train horning</td>\n      <td>test/zzqrZOq928w_000055_000065.mp4</td>\n      <td>287</td>\n    </tr>\n    <tr>\n      <th>13624</th>\n      <td>civil defense siren</td>\n      <td>test/zzvCPtdNxNo_000068_000078.mp4</td>\n      <td>52</td>\n    </tr>\n  </tbody>\n</table>\n<p>13625 rows × 3 columns</p>\n</div>"
     },
     "execution_count": 61,
     "metadata": {},
     "output_type": "execute_result"
    }
   ],
   "source": [
    "df_test = pd.read_parquet('/home/t9s9/Datasets/VGGSound/annot_test.parquet')\n",
    "df_test = df_test.rename(columns={'target': 'label'})\n",
    "df_test['target'] = df_test.label.apply(lambda x: label2idx[x])\n",
    "df_test.to_parquet('/home/t9s9/Datasets/VGGSound/annot_test.parquet', index=False)\n",
    "df_test"
   ],
   "metadata": {
    "collapsed": false
   }
  },
  {
   "cell_type": "code",
   "execution_count": 4,
   "outputs": [
    {
     "data": {
      "text/plain": "VGGSound(split=test, len=13625, label=classification)"
     },
     "execution_count": 4,
     "metadata": {},
     "output_type": "execute_result"
    }
   ],
   "source": [
    "dataset = VGGSound(split='test', root='/home/t9s9/Datasets/VGGSound/')\n",
    "dataset"
   ],
   "metadata": {
    "collapsed": false
   }
  },
  {
   "cell_type": "code",
   "execution_count": 6,
   "outputs": [
    {
     "data": {
      "text/plain": "['air conditioning noise',\n 'air horn',\n 'airplane',\n 'airplane flyby',\n 'alarm clock ringing',\n 'alligators, crocodiles hissing',\n 'ambulance siren',\n 'arc welding',\n 'baby babbling',\n 'baby crying',\n 'baby laughter',\n 'baltimore oriole calling',\n 'barn swallow calling',\n 'basketball bounce',\n 'bathroom ventilation fan running',\n 'beat boxing',\n 'bee, wasp, etc. buzzing',\n 'bird chirping, tweeting',\n 'bird squawking',\n 'bird wings flapping',\n 'black capped chickadee calling',\n 'blowtorch igniting',\n 'bouncing on trampoline',\n 'bowling impact',\n 'bull bellowing',\n 'canary calling',\n 'cap gun shooting',\n 'car engine idling',\n 'car engine knocking',\n 'car engine starting',\n 'car passing by',\n 'cat caterwauling',\n 'cat growling',\n 'cat hissing',\n 'cat meowing',\n 'cat purring',\n 'cattle mooing',\n 'cattle, bovinae cowbell',\n 'cell phone buzzing',\n 'chainsawing trees',\n 'cheetah chirrup',\n 'chicken clucking',\n 'chicken crowing',\n 'child singing',\n 'child speech, kid speaking',\n 'children shouting',\n 'chimpanzee pant-hooting',\n 'chinchilla barking',\n 'chipmunk chirping',\n 'chopping food',\n 'chopping wood',\n 'church bell ringing',\n 'civil defense siren',\n 'cow lowing',\n 'coyote howling',\n 'cricket chirping',\n 'crow cawing',\n 'cuckoo bird calling',\n 'cupboard opening or closing',\n 'cutting hair with electric trimmers',\n 'dinosaurs bellowing',\n 'disc scratching',\n 'dog barking',\n 'dog baying',\n 'dog bow-wow',\n 'dog growling',\n 'dog howling',\n 'dog whimpering',\n 'donkey, ass braying',\n 'door slamming',\n 'driving buses',\n 'driving motorcycle',\n 'driving snowmobile',\n 'duck quacking',\n 'eagle screaming',\n 'eating with cutlery',\n 'electric grinder grinding',\n 'electric shaver, electric razor shaving',\n 'elephant trumpeting',\n 'eletric blender running',\n 'elk bugling',\n 'engine accelerating, revving, vroom',\n 'female singing',\n 'female speech, woman speaking',\n 'ferret dooking',\n 'fire crackling',\n 'fire truck siren',\n 'fireworks banging',\n 'firing cannon',\n 'firing muskets',\n 'fly, housefly buzzing',\n 'foghorn',\n 'footsteps on snow',\n 'forging swords',\n 'fox barking',\n 'francolin calling',\n 'frog croaking',\n 'gibbon howling',\n 'goat bleating',\n 'golf driving',\n 'goose honking',\n 'hail',\n 'hair dryer drying',\n 'hammering nails',\n 'heart sounds, heartbeat',\n 'hedge trimmer running',\n 'helicopter',\n 'horse clip-clop',\n 'horse neighing',\n 'ice cracking',\n 'ice cream truck, ice cream van',\n 'lathe spinning',\n 'lawn mowing',\n 'lighting firecrackers',\n 'lions growling',\n 'lions roaring',\n 'lip smacking',\n 'machine gun shooting',\n 'magpie calling',\n 'male singing',\n 'male speech, man speaking',\n 'metronome',\n 'missile launch',\n 'mosquito buzzing',\n 'motorboat, speedboat acceleration',\n 'mouse clicking',\n 'mouse pattering',\n 'mouse squeaking',\n 'mynah bird singing',\n 'ocean burbling',\n 'opening or closing car doors',\n 'opening or closing car electric windows',\n 'opening or closing drawers',\n 'orchestra',\n 'otter growling',\n 'owl hooting',\n 'parrot talking',\n 'penguins braying',\n 'people babbling',\n 'people battle cry',\n 'people belly laughing',\n 'people booing',\n 'people burping',\n 'people cheering',\n 'people clapping',\n 'people coughing',\n 'people crowd',\n 'people eating',\n 'people eating apple',\n 'people eating crisps',\n 'people eating noodle',\n 'people farting',\n 'people finger snapping',\n 'people gargling',\n 'people giggling',\n 'people hiccup',\n 'people humming',\n 'people marching',\n 'people nose blowing',\n 'people running',\n 'people screaming',\n 'people shuffling',\n 'people slapping',\n 'people slurping',\n 'people sneezing',\n 'people sniggering',\n 'people sobbing',\n 'people whispering',\n 'people whistling',\n 'pheasant crowing',\n 'pig oinking',\n 'pigeon, dove cooing',\n 'planing timber',\n 'plastic bottle crushing',\n 'playing accordion',\n 'playing acoustic guitar',\n 'playing badminton',\n 'playing bagpipes',\n 'playing banjo',\n 'playing bass drum',\n 'playing bass guitar',\n 'playing bassoon',\n 'playing bongo',\n 'playing bugle',\n 'playing castanets',\n 'playing cello',\n 'playing clarinet',\n 'playing congas',\n 'playing cornet',\n 'playing cymbal',\n 'playing darts',\n 'playing didgeridoo',\n 'playing djembe',\n 'playing double bass',\n 'playing drum kit',\n 'playing electric guitar',\n 'playing electronic organ',\n 'playing erhu',\n 'playing flute',\n 'playing french horn',\n 'playing glockenspiel',\n 'playing gong',\n 'playing guiro',\n 'playing hammond organ',\n 'playing harmonica',\n 'playing harp',\n 'playing harpsichord',\n 'playing hockey',\n 'playing lacrosse',\n 'playing mandolin',\n 'playing marimba, xylophone',\n 'playing oboe',\n 'playing piano',\n 'playing saxophone',\n 'playing shofar',\n 'playing sitar',\n 'playing snare drum',\n 'playing squash',\n 'playing steel guitar, slide guitar',\n 'playing steelpan',\n 'playing synthesizer',\n 'playing tabla',\n 'playing table tennis',\n 'playing tambourine',\n 'playing tennis',\n 'playing theremin',\n 'playing timbales',\n 'playing timpani',\n 'playing trombone',\n 'playing trumpet',\n 'playing tuning fork',\n 'playing tympani',\n 'playing ukulele',\n 'playing vibraphone',\n 'playing violin, fiddle',\n 'playing volleyball',\n 'playing washboard',\n 'playing zither',\n 'police car (siren)',\n 'police radio chatter',\n 'popping popcorn',\n 'printer printing',\n 'pumping water',\n 'race car, auto racing',\n 'railroad car, train wagon',\n 'raining',\n 'rapping',\n 'reversing beeps',\n 'ripping paper',\n 'roller coaster running',\n 'rope skipping',\n 'rowboat, canoe, kayak rowing',\n 'running electric fan',\n 'sailing',\n 'scuba diving',\n 'sea lion barking',\n 'sea waves',\n 'sharpen knife',\n 'sheep bleating',\n 'shot football',\n 'singing bowl',\n 'singing choir',\n 'skateboarding',\n 'skidding',\n 'skiing',\n 'sliding door',\n 'sloshing water',\n 'slot machine',\n 'smoke detector beeping',\n 'snake hissing',\n 'snake rattling',\n 'splashing water',\n 'spraying water',\n 'squishing water',\n 'stream burbling',\n 'strike lighter',\n 'striking bowling',\n 'striking pool',\n 'subway, metro, underground',\n 'swimming',\n 'tap dancing',\n 'tapping guitar',\n 'telephone bell ringing',\n 'thunder',\n 'toilet flushing',\n 'tornado roaring',\n 'tractor digging',\n 'train horning',\n 'train wheels squealing',\n 'train whistling',\n 'turkey gobbling',\n 'typing on computer keyboard',\n 'typing on typewriter',\n 'underwater bubbling',\n 'using sewing machines',\n 'vacuum cleaner cleaning floors',\n 'vehicle horn, car horn, honking',\n 'volcano explosion',\n 'warbler chirping',\n 'waterfall burbling',\n 'whale calling',\n 'wind chime',\n 'wind noise',\n 'wind rustling leaves',\n 'wood thrush calling',\n 'woodpecker pecking tree',\n 'writing on blackboard with chalk',\n 'yodelling',\n 'zebra braying']"
     },
     "execution_count": 6,
     "metadata": {},
     "output_type": "execute_result"
    }
   ],
   "source": [
    "list(dataset._load_label_names().values())"
   ],
   "metadata": {
    "collapsed": false
   }
  },
  {
   "cell_type": "code",
   "execution_count": 65,
   "outputs": [
    {
     "data": {
      "text/plain": "VideoOutput(video=tensor([[[[  0,   0,   0],\n          [  0,   0,   0],\n          [  0,   0,   0],\n          ...,\n          [  0,   0,   0],\n          [  0,   0,   0],\n          [  0,   0,   0]],\n\n         [[  0,   0,   0],\n          [  0,   0,   0],\n          [  0,   0,   0],\n          ...,\n          [  0,   0,   0],\n          [  0,   0,   0],\n          [  0,   0,   0]],\n\n         [[  0,   0,   0],\n          [  0,   0,   0],\n          [  0,   0,   0],\n          ...,\n          [  0,   0,   0],\n          [  0,   0,   0],\n          [  0,   0,   0]],\n\n         ...,\n\n         [[  0,   0,   0],\n          [  0,   0,   0],\n          [  0,   0,   0],\n          ...,\n          [  0,   0,   0],\n          [  0,   0,   0],\n          [  0,   0,   0]],\n\n         [[  0,   0,   0],\n          [  0,   0,   0],\n          [  0,   0,   0],\n          ...,\n          [  0,   0,   0],\n          [  0,   0,   0],\n          [  0,   0,   0]],\n\n         [[  0,   0,   0],\n          [  0,   0,   0],\n          [  0,   0,   0],\n          ...,\n          [  0,   0,   0],\n          [  0,   0,   0],\n          [  0,   0,   0]]],\n\n\n        [[[  0,   0,   0],\n          [  0,   0,   0],\n          [  0,   0,   0],\n          ...,\n          [  0,   0,   0],\n          [  0,   0,   0],\n          [  0,   0,   0]],\n\n         [[  0,   0,   0],\n          [  0,   0,   0],\n          [  0,   0,   0],\n          ...,\n          [  0,   0,   0],\n          [  0,   0,   0],\n          [  0,   0,   0]],\n\n         [[  0,   0,   0],\n          [  0,   0,   0],\n          [  0,   0,   0],\n          ...,\n          [  0,   0,   0],\n          [  0,   0,   0],\n          [  0,   0,   0]],\n\n         ...,\n\n         [[  0,   0,   0],\n          [  0,   0,   0],\n          [  0,   0,   0],\n          ...,\n          [  0,   0,   0],\n          [  0,   0,   0],\n          [  0,   0,   0]],\n\n         [[  0,   0,   0],\n          [  0,   0,   0],\n          [  0,   0,   0],\n          ...,\n          [  0,   0,   0],\n          [  0,   0,   0],\n          [  0,   0,   0]],\n\n         [[  0,   0,   0],\n          [  0,   0,   0],\n          [  0,   0,   0],\n          ...,\n          [  0,   0,   0],\n          [  0,   0,   0],\n          [  0,   0,   0]]],\n\n\n        [[[  0,   0,   0],\n          [  0,   0,   0],\n          [  0,   0,   0],\n          ...,\n          [  0,   0,   0],\n          [  0,   0,   0],\n          [  0,   0,   0]],\n\n         [[  0,   0,   0],\n          [  0,   0,   0],\n          [  0,   0,   0],\n          ...,\n          [  0,   0,   0],\n          [  0,   0,   0],\n          [  0,   0,   0]],\n\n         [[  0,   0,   0],\n          [  0,   0,   0],\n          [  0,   0,   0],\n          ...,\n          [  0,   0,   0],\n          [  0,   0,   0],\n          [  0,   0,   0]],\n\n         ...,\n\n         [[  0,   0,   0],\n          [  0,   0,   0],\n          [  0,   0,   0],\n          ...,\n          [  0,   0,   0],\n          [  0,   0,   0],\n          [  0,   0,   0]],\n\n         [[  0,   0,   0],\n          [  0,   0,   0],\n          [  0,   0,   0],\n          ...,\n          [  0,   0,   0],\n          [  0,   0,   0],\n          [  0,   0,   0]],\n\n         [[  0,   0,   0],\n          [  0,   0,   0],\n          [  0,   0,   0],\n          ...,\n          [  0,   0,   0],\n          [  0,   0,   0],\n          [  0,   0,   0]]],\n\n\n        ...,\n\n\n        [[[124, 179, 204],\n          [126, 181, 206],\n          [131, 188, 213],\n          ...,\n          [200, 202, 116],\n          [200, 202, 120],\n          [200, 202, 120]],\n\n         [[ 93, 148, 173],\n          [ 95, 150, 175],\n          [146, 203, 228],\n          ...,\n          [244, 246, 160],\n          [244, 246, 164],\n          [244, 246, 164]],\n\n         [[122, 177, 175],\n          [121, 176, 174],\n          [128, 183, 181],\n          ...,\n          [237, 244, 129],\n          [237, 243, 133],\n          [237, 243, 133]],\n\n         ...,\n\n         [[235, 235, 232],\n          [235, 235, 232],\n          [235, 235, 232],\n          ...,\n          [226, 228, 225],\n          [226, 228, 225],\n          [226, 228, 225]],\n\n         [[242, 242, 239],\n          [242, 242, 239],\n          [242, 242, 239],\n          ...,\n          [233, 235, 232],\n          [233, 235, 232],\n          [233, 235, 232]],\n\n         [[199, 199, 196],\n          [199, 199, 196],\n          [199, 199, 196],\n          ...,\n          [188, 190, 187],\n          [188, 190, 187],\n          [188, 190, 187]]],\n\n\n        [[[127, 184, 209],\n          [130, 187, 212],\n          [109, 171, 194],\n          ...,\n          [200, 202, 120],\n          [200, 202, 120],\n          [200, 202, 120]],\n\n         [[105, 162, 187],\n          [157, 214, 239],\n          [171, 233, 255],\n          ...,\n          [244, 246, 164],\n          [244, 246, 164],\n          [244, 246, 164]],\n\n         [[121, 178, 175],\n          [133, 190, 187],\n          [154, 211, 206],\n          ...,\n          [237, 243, 133],\n          [237, 243, 133],\n          [237, 243, 133]],\n\n         ...,\n\n         [[235, 235, 232],\n          [235, 235, 232],\n          [235, 235, 232],\n          ...,\n          [226, 228, 225],\n          [226, 228, 225],\n          [226, 228, 225]],\n\n         [[242, 242, 239],\n          [242, 242, 239],\n          [242, 242, 239],\n          ...,\n          [233, 235, 232],\n          [233, 235, 232],\n          [233, 235, 232]],\n\n         [[199, 199, 196],\n          [199, 199, 196],\n          [199, 199, 196],\n          ...,\n          [188, 190, 187],\n          [188, 190, 187],\n          [188, 190, 187]]],\n\n\n        [[[109, 171, 194],\n          [ 85, 147, 170],\n          [ 87, 151, 175],\n          ...,\n          [200, 202, 120],\n          [200, 201, 122],\n          [200, 201, 122]],\n\n         [[171, 233, 255],\n          [153, 215, 238],\n          [137, 201, 225],\n          ...,\n          [244, 246, 164],\n          [244, 245, 166],\n          [244, 245, 166]],\n\n         [[154, 211, 206],\n          [168, 225, 220],\n          [179, 239, 233],\n          ...,\n          [237, 243, 133],\n          [237, 243, 135],\n          [237, 243, 135]],\n\n         ...,\n\n         [[235, 235, 232],\n          [235, 235, 232],\n          [235, 235, 232],\n          ...,\n          [226, 228, 225],\n          [226, 228, 225],\n          [226, 228, 225]],\n\n         [[242, 242, 239],\n          [242, 242, 239],\n          [242, 242, 239],\n          ...,\n          [233, 235, 232],\n          [233, 235, 232],\n          [233, 235, 232]],\n\n         [[199, 199, 196],\n          [199, 199, 196],\n          [199, 199, 196],\n          ...,\n          [188, 190, 187],\n          [188, 190, 187],\n          [188, 190, 187]]]], dtype=torch.uint8), audio=tensor([[0.0570, 0.0600, 0.0569,  ..., 0.0031, 0.0062, 0.0086]]), video_fps=30.0, audio_fps=32000, label=157, filename='test/---g-f_I2yQ_000001_000011.mp4')"
     },
     "execution_count": 65,
     "metadata": {},
     "output_type": "execute_result"
    }
   ],
   "source": [
    "dataset[0]"
   ],
   "metadata": {
    "collapsed": false
   }
  }
 ],
 "metadata": {
  "kernelspec": {
   "display_name": "Python 3",
   "language": "python",
   "name": "python3"
  },
  "language_info": {
   "codemirror_mode": {
    "name": "ipython",
    "version": 2
   },
   "file_extension": ".py",
   "mimetype": "text/x-python",
   "name": "python",
   "nbconvert_exporter": "python",
   "pygments_lexer": "ipython2",
   "version": "2.7.6"
  }
 },
 "nbformat": 4,
 "nbformat_minor": 0
}
