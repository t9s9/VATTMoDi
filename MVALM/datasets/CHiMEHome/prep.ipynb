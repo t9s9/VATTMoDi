{
 "cells": [
  {
   "cell_type": "code",
   "execution_count": 1,
   "metadata": {
    "collapsed": true
   },
   "outputs": [],
   "source": [
    "from pathlib import Path\n",
    "import pandas as pd"
   ]
  },
  {
   "cell_type": "code",
   "execution_count": 39,
   "outputs": [
    {
     "data": {
      "text/plain": "                                 filename target\n0       CR_lounge_230110_1036.s600_chunk8      v\n1     CR_lounge_200110_1601.s1800_chunk61     pv\n2     CR_lounge_230110_1036.s3000_chunk48     cf\n3      CR_lounge_230110_1036.s900_chunk57     cv\n4     CR_lounge_270110_1632.s3000_chunk16      v\n...                                   ...    ...\n6131  CR_lounge_270110_1632.s3300_chunk14    cfp\n6133   CR_lounge_230110_1036.s600_chunk54    cmv\n6134   CR_lounge_270110_1632.s600_chunk68     cv\n6135  CR_lounge_220110_0731.s3000_chunk64    cmp\n6136   CR_lounge_220110_0731.s3000_chunk7     cm\n\n[6020 rows x 2 columns]",
      "text/html": "<div>\n<style scoped>\n    .dataframe tbody tr th:only-of-type {\n        vertical-align: middle;\n    }\n\n    .dataframe tbody tr th {\n        vertical-align: top;\n    }\n\n    .dataframe thead th {\n        text-align: right;\n    }\n</style>\n<table border=\"1\" class=\"dataframe\">\n  <thead>\n    <tr style=\"text-align: right;\">\n      <th></th>\n      <th>filename</th>\n      <th>target</th>\n    </tr>\n  </thead>\n  <tbody>\n    <tr>\n      <th>0</th>\n      <td>CR_lounge_230110_1036.s600_chunk8</td>\n      <td>v</td>\n    </tr>\n    <tr>\n      <th>1</th>\n      <td>CR_lounge_200110_1601.s1800_chunk61</td>\n      <td>pv</td>\n    </tr>\n    <tr>\n      <th>2</th>\n      <td>CR_lounge_230110_1036.s3000_chunk48</td>\n      <td>cf</td>\n    </tr>\n    <tr>\n      <th>3</th>\n      <td>CR_lounge_230110_1036.s900_chunk57</td>\n      <td>cv</td>\n    </tr>\n    <tr>\n      <th>4</th>\n      <td>CR_lounge_270110_1632.s3000_chunk16</td>\n      <td>v</td>\n    </tr>\n    <tr>\n      <th>...</th>\n      <td>...</td>\n      <td>...</td>\n    </tr>\n    <tr>\n      <th>6131</th>\n      <td>CR_lounge_270110_1632.s3300_chunk14</td>\n      <td>cfp</td>\n    </tr>\n    <tr>\n      <th>6133</th>\n      <td>CR_lounge_230110_1036.s600_chunk54</td>\n      <td>cmv</td>\n    </tr>\n    <tr>\n      <th>6134</th>\n      <td>CR_lounge_270110_1632.s600_chunk68</td>\n      <td>cv</td>\n    </tr>\n    <tr>\n      <th>6135</th>\n      <td>CR_lounge_220110_0731.s3000_chunk64</td>\n      <td>cmp</td>\n    </tr>\n    <tr>\n      <th>6136</th>\n      <td>CR_lounge_220110_0731.s3000_chunk7</td>\n      <td>cm</td>\n    </tr>\n  </tbody>\n</table>\n<p>6020 rows × 2 columns</p>\n</div>"
     },
     "execution_count": 39,
     "metadata": {},
     "output_type": "execute_result"
    }
   ],
   "source": [
    "root = Path('/home/t9s9/Datasets/CHiMEHome/chunks')\n",
    "\n",
    "res = []\n",
    "for p in root.iterdir():\n",
    "    if p.suffix == '.csv':\n",
    "        df = pd.read_csv(p, index_col=0, header=None).T\n",
    "        res.append({'filename':p.name, 'target': df['majorityvote'].iloc[0]})\n",
    "df = pd.DataFrame(res)\n",
    "df = df.dropna()\n",
    "df.filename = df.filename.apply(lambda x: Path(x).stem)\n",
    "df"
   ],
   "metadata": {
    "collapsed": false
   }
  },
  {
   "cell_type": "code",
   "execution_count": 52,
   "outputs": [
    {
     "data": {
      "text/plain": "         0  CR_lounge_220110_0731.s2700_chunk19\n0        1  CR_lounge_220110_0731.s2700_chunk46\n1        2   CR_lounge_220110_0731.s2700_chunk3\n2        3  CR_lounge_220110_0731.s2700_chunk36\n3        4  CR_lounge_220110_0731.s2700_chunk26\n4        5  CR_lounge_220110_0731.s2700_chunk23\n...    ...                                  ...\n1753  1754  CR_lounge_230110_1036.s3000_chunk29\n1754  1755  CR_lounge_230110_1036.s3000_chunk48\n1755  1756  CR_lounge_230110_1036.s3000_chunk39\n1756  1757  CR_lounge_230110_1036.s3000_chunk25\n1757  1758  CR_lounge_230110_1036.s3000_chunk60\n\n[1758 rows x 2 columns]",
      "text/html": "<div>\n<style scoped>\n    .dataframe tbody tr th:only-of-type {\n        vertical-align: middle;\n    }\n\n    .dataframe tbody tr th {\n        vertical-align: top;\n    }\n\n    .dataframe thead th {\n        text-align: right;\n    }\n</style>\n<table border=\"1\" class=\"dataframe\">\n  <thead>\n    <tr style=\"text-align: right;\">\n      <th></th>\n      <th>0</th>\n      <th>CR_lounge_220110_0731.s2700_chunk19</th>\n    </tr>\n  </thead>\n  <tbody>\n    <tr>\n      <th>0</th>\n      <td>1</td>\n      <td>CR_lounge_220110_0731.s2700_chunk46</td>\n    </tr>\n    <tr>\n      <th>1</th>\n      <td>2</td>\n      <td>CR_lounge_220110_0731.s2700_chunk3</td>\n    </tr>\n    <tr>\n      <th>2</th>\n      <td>3</td>\n      <td>CR_lounge_220110_0731.s2700_chunk36</td>\n    </tr>\n    <tr>\n      <th>3</th>\n      <td>4</td>\n      <td>CR_lounge_220110_0731.s2700_chunk26</td>\n    </tr>\n    <tr>\n      <th>4</th>\n      <td>5</td>\n      <td>CR_lounge_220110_0731.s2700_chunk23</td>\n    </tr>\n    <tr>\n      <th>...</th>\n      <td>...</td>\n      <td>...</td>\n    </tr>\n    <tr>\n      <th>1753</th>\n      <td>1754</td>\n      <td>CR_lounge_230110_1036.s3000_chunk29</td>\n    </tr>\n    <tr>\n      <th>1754</th>\n      <td>1755</td>\n      <td>CR_lounge_230110_1036.s3000_chunk48</td>\n    </tr>\n    <tr>\n      <th>1755</th>\n      <td>1756</td>\n      <td>CR_lounge_230110_1036.s3000_chunk39</td>\n    </tr>\n    <tr>\n      <th>1756</th>\n      <td>1757</td>\n      <td>CR_lounge_230110_1036.s3000_chunk25</td>\n    </tr>\n    <tr>\n      <th>1757</th>\n      <td>1758</td>\n      <td>CR_lounge_230110_1036.s3000_chunk60</td>\n    </tr>\n  </tbody>\n</table>\n<p>1758 rows × 2 columns</p>\n</div>"
     },
     "execution_count": 52,
     "metadata": {},
     "output_type": "execute_result"
    }
   ],
   "source": [
    "pd.read_csv('/home/t9s9/Datasets/CHiMEHome/evaluation_chunks_raw.csv')"
   ],
   "metadata": {
    "collapsed": false
   }
  },
  {
   "cell_type": "code",
   "execution_count": 34,
   "outputs": [
    {
     "data": {
      "text/plain": "                                     filename target\n0       CR_lounge_230110_1036.s600_chunk8.csv      v\n1     CR_lounge_200110_1601.s1800_chunk61.csv     pv\n2     CR_lounge_230110_1036.s3000_chunk48.csv     cf\n3      CR_lounge_230110_1036.s900_chunk57.csv     cv\n4     CR_lounge_270110_1632.s3000_chunk16.csv      v\n...                                       ...    ...\n6131  CR_lounge_270110_1632.s3300_chunk14.csv    cfp\n6133   CR_lounge_230110_1036.s600_chunk54.csv    cmv\n6134   CR_lounge_270110_1632.s600_chunk68.csv     cv\n6135  CR_lounge_220110_0731.s3000_chunk64.csv    cmp\n6136   CR_lounge_220110_0731.s3000_chunk7.csv     cm\n\n[6020 rows x 2 columns]",
      "text/html": "<div>\n<style scoped>\n    .dataframe tbody tr th:only-of-type {\n        vertical-align: middle;\n    }\n\n    .dataframe tbody tr th {\n        vertical-align: top;\n    }\n\n    .dataframe thead th {\n        text-align: right;\n    }\n</style>\n<table border=\"1\" class=\"dataframe\">\n  <thead>\n    <tr style=\"text-align: right;\">\n      <th></th>\n      <th>filename</th>\n      <th>target</th>\n    </tr>\n  </thead>\n  <tbody>\n    <tr>\n      <th>0</th>\n      <td>CR_lounge_230110_1036.s600_chunk8.csv</td>\n      <td>v</td>\n    </tr>\n    <tr>\n      <th>1</th>\n      <td>CR_lounge_200110_1601.s1800_chunk61.csv</td>\n      <td>pv</td>\n    </tr>\n    <tr>\n      <th>2</th>\n      <td>CR_lounge_230110_1036.s3000_chunk48.csv</td>\n      <td>cf</td>\n    </tr>\n    <tr>\n      <th>3</th>\n      <td>CR_lounge_230110_1036.s900_chunk57.csv</td>\n      <td>cv</td>\n    </tr>\n    <tr>\n      <th>4</th>\n      <td>CR_lounge_270110_1632.s3000_chunk16.csv</td>\n      <td>v</td>\n    </tr>\n    <tr>\n      <th>...</th>\n      <td>...</td>\n      <td>...</td>\n    </tr>\n    <tr>\n      <th>6131</th>\n      <td>CR_lounge_270110_1632.s3300_chunk14.csv</td>\n      <td>cfp</td>\n    </tr>\n    <tr>\n      <th>6133</th>\n      <td>CR_lounge_230110_1036.s600_chunk54.csv</td>\n      <td>cmv</td>\n    </tr>\n    <tr>\n      <th>6134</th>\n      <td>CR_lounge_270110_1632.s600_chunk68.csv</td>\n      <td>cv</td>\n    </tr>\n    <tr>\n      <th>6135</th>\n      <td>CR_lounge_220110_0731.s3000_chunk64.csv</td>\n      <td>cmp</td>\n    </tr>\n    <tr>\n      <th>6136</th>\n      <td>CR_lounge_220110_0731.s3000_chunk7.csv</td>\n      <td>cm</td>\n    </tr>\n  </tbody>\n</table>\n<p>6020 rows × 2 columns</p>\n</div>"
     },
     "execution_count": 34,
     "metadata": {},
     "output_type": "execute_result"
    }
   ],
   "source": [
    "labels = ['c','m','f','v','p','b','o','S']\n",
    "df.target = df.target.apply(lambda x: list(map(lambda y: labels.index(y), x)))"
   ],
   "metadata": {
    "collapsed": false
   }
  }
 ],
 "metadata": {
  "kernelspec": {
   "display_name": "Python 3",
   "language": "python",
   "name": "python3"
  },
  "language_info": {
   "codemirror_mode": {
    "name": "ipython",
    "version": 2
   },
   "file_extension": ".py",
   "mimetype": "text/x-python",
   "name": "python",
   "nbconvert_exporter": "python",
   "pygments_lexer": "ipython2",
   "version": "2.7.6"
  }
 },
 "nbformat": 4,
 "nbformat_minor": 0
}
