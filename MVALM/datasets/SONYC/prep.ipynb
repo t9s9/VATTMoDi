{
 "cells": [
  {
   "cell_type": "code",
   "execution_count": 4,
   "metadata": {
    "collapsed": true
   },
   "outputs": [],
   "source": [
    "import pandas as pd\n",
    "from pprint import pprint"
   ]
  },
  {
   "cell_type": "code",
   "execution_count": 85,
   "outputs": [
    {
     "name": "stdout",
     "output_type": "stream",
     "text": [
      "['1-1_small-sounding-engine_presence',\n",
      " '1-1_small-sounding-engine_proximity',\n",
      " '1-2_medium-sounding-engine_presence',\n",
      " '1-2_medium-sounding-engine_proximity',\n",
      " '1-3_large-sounding-engine_presence',\n",
      " '1-3_large-sounding-engine_proximity',\n",
      " '1-X_engine-of-uncertain-size_presence',\n",
      " '1-X_engine-of-uncertain-size_proximity',\n",
      " '1_engine_presence',\n",
      " '2-1_rock-drill_presence',\n",
      " '2-1_rock-drill_proximity',\n",
      " '2-2_jackhammer_presence',\n",
      " '2-2_jackhammer_proximity',\n",
      " '2-3_hoe-ram_presence',\n",
      " '2-3_hoe-ram_proximity',\n",
      " '2-4_pile-driver_presence',\n",
      " '2-4_pile-driver_proximity',\n",
      " '2-X_other-unknown-impact-machinery_presence',\n",
      " '2-X_other-unknown-impact-machinery_proximity',\n",
      " '2_machinery-impact_presence',\n",
      " '3-1_non-machinery-impact_presence',\n",
      " '3-1_non-machinery-impact_proximity',\n",
      " '3_non-machinery-impact_presence',\n",
      " '4-1_chainsaw_presence',\n",
      " '4-1_chainsaw_proximity',\n",
      " '4-2_small-medium-rotating-saw_presence',\n",
      " '4-2_small-medium-rotating-saw_proximity',\n",
      " '4-3_large-rotating-saw_presence',\n",
      " '4-3_large-rotating-saw_proximity',\n",
      " '4-X_other-unknown-powered-saw_presence',\n",
      " '4-X_other-unknown-powered-saw_proximity',\n",
      " '4_powered-saw_presence',\n",
      " '5-1_car-horn_presence',\n",
      " '5-1_car-horn_proximity',\n",
      " '5-2_car-alarm_presence',\n",
      " '5-2_car-alarm_proximity',\n",
      " '5-3_siren_presence',\n",
      " '5-3_siren_proximity',\n",
      " '5-4_reverse-beeper_presence',\n",
      " '5-4_reverse-beeper_proximity',\n",
      " '5-X_other-unknown-alert-signal_presence',\n",
      " '5-X_other-unknown-alert-signal_proximity',\n",
      " '5_alert-signal_presence',\n",
      " '6-1_stationary-music_presence',\n",
      " '6-1_stationary-music_proximity',\n",
      " '6-2_mobile-music_presence',\n",
      " '6-2_mobile-music_proximity',\n",
      " '6-3_ice-cream-truck_presence',\n",
      " '6-3_ice-cream-truck_proximity',\n",
      " '6-X_music-from-uncertain-source_presence',\n",
      " '6-X_music-from-uncertain-source_proximity',\n",
      " '6_music_presence',\n",
      " '7-1_person-or-small-group-talking_presence',\n",
      " '7-1_person-or-small-group-talking_proximity',\n",
      " '7-2_person-or-small-group-shouting_presence',\n",
      " '7-2_person-or-small-group-shouting_proximity',\n",
      " '7-3_large-crowd_presence',\n",
      " '7-3_large-crowd_proximity',\n",
      " '7-4_amplified-speech_presence',\n",
      " '7-4_amplified-speech_proximity',\n",
      " '7-X_other-unknown-human-voice_presence',\n",
      " '7-X_other-unknown-human-voice_proximity',\n",
      " '7_human-voice_presence',\n",
      " '8-1_dog-barking-whining_presence',\n",
      " '8-1_dog-barking-whining_proximity',\n",
      " '8_dog_presence']\n"
     ]
    }
   ],
   "source": [
    "df = pd.read_csv('/home/t9s9/Datasets/SONYC/annotations.csv')\n",
    "df = df.drop(columns=['sensor_id','annotator_id',  'borough', 'block', 'year', 'week', 'day', 'hour', 'latitude', 'longitude'])\n",
    "label_col = df.columns.difference(['split', 'audio_filename'])\n",
    "pprint(list(label_col))"
   ],
   "metadata": {
    "collapsed": false
   }
  },
  {
   "cell_type": "code",
   "execution_count": 94,
   "outputs": [],
   "source": [
    "coarse_labels = ['1_engine_presence', '2_machinery-impact_presence', '3_non-machinery-impact_presence',\n",
    "                 '4_powered-saw_presence', '5_alert-signal_presence', '6_music_presence',\n",
    "                 '7_human-voice_presence', '8_dog_presence']\n",
    "fine_labels = list(filter(lambda x: x.endswith('presence'), label_col.difference(coarse_labels)))\n",
    "coarse = df[['audio_filename'] + coarse_labels]"
   ],
   "metadata": {
    "collapsed": false
   }
  },
  {
   "cell_type": "markdown",
   "source": [],
   "metadata": {
    "collapsed": false
   }
  },
  {
   "cell_type": "code",
   "execution_count": 99,
   "outputs": [],
   "source": [
    "fine = df[['audio_filename'] + list(fine_labels)]\n",
    "fine = fine.astype(object).replace({-1: pd.NA})"
   ],
   "metadata": {
    "collapsed": false
   }
  },
  {
   "cell_type": "code",
   "execution_count": 100,
   "outputs": [
    {
     "data": {
      "text/plain": "               1-1_small-sounding-engine_presence  \\\naudio_filename                                      \n00_000066.wav                                   0   \n00_000071.wav                                   0   \n00_000085.wav                                   0   \n00_000118.wav                                   0   \n00_000179.wav                                   0   \n...                                           ...   \n58_027562.wav                                   0   \n61_027412.wav                                   0   \n61_027621.wav                                   0   \n61_027651.wav                                   0   \n61_027827.wav                                   0   \n\n               1-2_medium-sounding-engine_presence  \\\naudio_filename                                       \n00_000066.wav                                    0   \n00_000071.wav                                    0   \n00_000085.wav                                    0   \n00_000118.wav                                    1   \n00_000179.wav                                    0   \n...                                            ...   \n58_027562.wav                                    0   \n61_027412.wav                                    0   \n61_027621.wav                                    1   \n61_027651.wav                               [0, 1]   \n61_027827.wav                                    0   \n\n               1-3_large-sounding-engine_presence  \\\naudio_filename                                      \n00_000066.wav                                   1   \n00_000071.wav                                   0   \n00_000085.wav                                   0   \n00_000118.wav                                   0   \n00_000179.wav                                   0   \n...                                           ...   \n58_027562.wav                                   0   \n61_027412.wav                                   0   \n61_027621.wav                                   0   \n61_027651.wav                                   0   \n61_027827.wav                                   0   \n\n               1-X_engine-of-uncertain-size_presence 2-1_rock-drill_presence  \\\naudio_filename                                                                 \n00_000066.wav                                      0                       0   \n00_000071.wav                                      0                       0   \n00_000085.wav                                      0                       0   \n00_000118.wav                                      0                       0   \n00_000179.wav                                      0                       0   \n...                                              ...                     ...   \n58_027562.wav                                      0                       0   \n61_027412.wav                                      0                       0   \n61_027621.wav                                      0                       0   \n61_027651.wav                                      0                       0   \n61_027827.wav                                 [0, 1]                       0   \n\n               2-2_jackhammer_presence 2-3_hoe-ram_presence  \\\naudio_filename                                                \n00_000066.wav                        0                    0   \n00_000071.wav                        0                    0   \n00_000085.wav                        0                    0   \n00_000118.wav                        0                    0   \n00_000179.wav                        0                    0   \n...                                ...                  ...   \n58_027562.wav                        0                    0   \n61_027412.wav                        0                    0   \n61_027621.wav                        0                    0   \n61_027651.wav                        0                    0   \n61_027827.wav                        0                    0   \n\n                2-4_pile-driver_presence  \\\naudio_filename                             \n00_000066.wav                          0   \n00_000071.wav                          0   \n00_000085.wav                          0   \n00_000118.wav                          0   \n00_000179.wav                          0   \n...                                  ...   \n58_027562.wav                          0   \n61_027412.wav                          0   \n61_027621.wav                          0   \n61_027651.wav                          0   \n61_027827.wav                          0   \n\n               2-X_other-unknown-impact-machinery_presence  \\\naudio_filename                                               \n00_000066.wav                                            0   \n00_000071.wav                                            0   \n00_000085.wav                                            0   \n00_000118.wav                                            0   \n00_000179.wav                                            0   \n...                                                    ...   \n58_027562.wav                                            0   \n61_027412.wav                                            0   \n61_027621.wav                                            0   \n61_027651.wav                                            0   \n61_027827.wav                                            0   \n\n               3-1_non-machinery-impact_presence  ...  \\\naudio_filename                                    ...   \n00_000066.wav                                  0  ...   \n00_000071.wav                                  0  ...   \n00_000085.wav                                  0  ...   \n00_000118.wav                                  0  ...   \n00_000179.wav                                  0  ...   \n...                                          ...  ...   \n58_027562.wav                                  0  ...   \n61_027412.wav                                  0  ...   \n61_027621.wav                                  0  ...   \n61_027651.wav                                  0  ...   \n61_027827.wav                                  0  ...   \n\n               6-1_stationary-music_presence 6-2_mobile-music_presence  \\\naudio_filename                                                           \n00_000066.wav                              0                         0   \n00_000071.wav                              0                         0   \n00_000085.wav                              0                         0   \n00_000118.wav                              0                         0   \n00_000179.wav                              0                         0   \n...                                      ...                       ...   \n58_027562.wav                              0                         0   \n61_027412.wav                              0                         0   \n61_027621.wav                              0                         0   \n61_027651.wav                              0                         0   \n61_027827.wav                              1                         0   \n\n               6-3_ice-cream-truck_presence  \\\naudio_filename                                \n00_000066.wav                             0   \n00_000071.wav                             0   \n00_000085.wav                             0   \n00_000118.wav                             0   \n00_000179.wav                             0   \n...                                     ...   \n58_027562.wav                             0   \n61_027412.wav                             0   \n61_027621.wav                             0   \n61_027651.wav                             0   \n61_027827.wav                             0   \n\n               6-X_music-from-uncertain-source_presence  \\\naudio_filename                                            \n00_000066.wav                                         0   \n00_000071.wav                                         0   \n00_000085.wav                                         0   \n00_000118.wav                                         0   \n00_000179.wav                                         0   \n...                                                 ...   \n58_027562.wav                                         0   \n61_027412.wav                                         0   \n61_027621.wav                                         0   \n61_027651.wav                                         0   \n61_027827.wav                                    [0, 1]   \n\n               7-1_person-or-small-group-talking_presence  \\\naudio_filename                                              \n00_000066.wav                                           0   \n00_000071.wav                                           0   \n00_000085.wav                                           0   \n00_000118.wav                                      [0, 1]   \n00_000179.wav                                           0   \n...                                                   ...   \n58_027562.wav                                           0   \n61_027412.wav                                           0   \n61_027621.wav                                           0   \n61_027651.wav                                           0   \n61_027827.wav                                           0   \n\n                7-2_person-or-small-group-shouting_presence  \\\naudio_filename                                                \n00_000066.wav                                             0   \n00_000071.wav                                             0   \n00_000085.wav                                             0   \n00_000118.wav                                             0   \n00_000179.wav                                             0   \n...                                                     ...   \n58_027562.wav                                             1   \n61_027412.wav                                             0   \n61_027621.wav                                             0   \n61_027651.wav                                             0   \n61_027827.wav                                             0   \n\n               7-3_large-crowd_presence 7-4_amplified-speech_presence  \\\naudio_filename                                                          \n00_000066.wav                         0                             0   \n00_000071.wav                         0                             0   \n00_000085.wav                         0                             0   \n00_000118.wav                         0                             0   \n00_000179.wav                         0                             0   \n...                                 ...                           ...   \n58_027562.wav                         0                             0   \n61_027412.wav                         0                             0   \n61_027621.wav                         0                             0   \n61_027651.wav                         0                             0   \n61_027827.wav                         0                             0   \n\n               7-X_other-unknown-human-voice_presence  \\\naudio_filename                                          \n00_000066.wav                                       0   \n00_000071.wav                                       0   \n00_000085.wav                                       0   \n00_000118.wav                                       0   \n00_000179.wav                                       0   \n...                                               ...   \n58_027562.wav                                       0   \n61_027412.wav                                       0   \n61_027621.wav                                       0   \n61_027651.wav                                       0   \n61_027827.wav                                       0   \n\n               8-1_dog-barking-whining_presence  \naudio_filename                                   \n00_000066.wav                                 0  \n00_000071.wav                                 0  \n00_000085.wav                                 0  \n00_000118.wav                                 0  \n00_000179.wav                                 0  \n...                                         ...  \n58_027562.wav                                 0  \n61_027412.wav                                 0  \n61_027621.wav                                 0  \n61_027651.wav                                 0  \n61_027827.wav                                 0  \n\n[18510 rows x 29 columns]",
      "text/html": "<div>\n<style scoped>\n    .dataframe tbody tr th:only-of-type {\n        vertical-align: middle;\n    }\n\n    .dataframe tbody tr th {\n        vertical-align: top;\n    }\n\n    .dataframe thead th {\n        text-align: right;\n    }\n</style>\n<table border=\"1\" class=\"dataframe\">\n  <thead>\n    <tr style=\"text-align: right;\">\n      <th></th>\n      <th>1-1_small-sounding-engine_presence</th>\n      <th>1-2_medium-sounding-engine_presence</th>\n      <th>1-3_large-sounding-engine_presence</th>\n      <th>1-X_engine-of-uncertain-size_presence</th>\n      <th>2-1_rock-drill_presence</th>\n      <th>2-2_jackhammer_presence</th>\n      <th>2-3_hoe-ram_presence</th>\n      <th>2-4_pile-driver_presence</th>\n      <th>2-X_other-unknown-impact-machinery_presence</th>\n      <th>3-1_non-machinery-impact_presence</th>\n      <th>...</th>\n      <th>6-1_stationary-music_presence</th>\n      <th>6-2_mobile-music_presence</th>\n      <th>6-3_ice-cream-truck_presence</th>\n      <th>6-X_music-from-uncertain-source_presence</th>\n      <th>7-1_person-or-small-group-talking_presence</th>\n      <th>7-2_person-or-small-group-shouting_presence</th>\n      <th>7-3_large-crowd_presence</th>\n      <th>7-4_amplified-speech_presence</th>\n      <th>7-X_other-unknown-human-voice_presence</th>\n      <th>8-1_dog-barking-whining_presence</th>\n    </tr>\n    <tr>\n      <th>audio_filename</th>\n      <th></th>\n      <th></th>\n      <th></th>\n      <th></th>\n      <th></th>\n      <th></th>\n      <th></th>\n      <th></th>\n      <th></th>\n      <th></th>\n      <th></th>\n      <th></th>\n      <th></th>\n      <th></th>\n      <th></th>\n      <th></th>\n      <th></th>\n      <th></th>\n      <th></th>\n      <th></th>\n      <th></th>\n    </tr>\n  </thead>\n  <tbody>\n    <tr>\n      <th>00_000066.wav</th>\n      <td>0</td>\n      <td>0</td>\n      <td>1</td>\n      <td>0</td>\n      <td>0</td>\n      <td>0</td>\n      <td>0</td>\n      <td>0</td>\n      <td>0</td>\n      <td>0</td>\n      <td>...</td>\n      <td>0</td>\n      <td>0</td>\n      <td>0</td>\n      <td>0</td>\n      <td>0</td>\n      <td>0</td>\n      <td>0</td>\n      <td>0</td>\n      <td>0</td>\n      <td>0</td>\n    </tr>\n    <tr>\n      <th>00_000071.wav</th>\n      <td>0</td>\n      <td>0</td>\n      <td>0</td>\n      <td>0</td>\n      <td>0</td>\n      <td>0</td>\n      <td>0</td>\n      <td>0</td>\n      <td>0</td>\n      <td>0</td>\n      <td>...</td>\n      <td>0</td>\n      <td>0</td>\n      <td>0</td>\n      <td>0</td>\n      <td>0</td>\n      <td>0</td>\n      <td>0</td>\n      <td>0</td>\n      <td>0</td>\n      <td>0</td>\n    </tr>\n    <tr>\n      <th>00_000085.wav</th>\n      <td>0</td>\n      <td>0</td>\n      <td>0</td>\n      <td>0</td>\n      <td>0</td>\n      <td>0</td>\n      <td>0</td>\n      <td>0</td>\n      <td>0</td>\n      <td>0</td>\n      <td>...</td>\n      <td>0</td>\n      <td>0</td>\n      <td>0</td>\n      <td>0</td>\n      <td>0</td>\n      <td>0</td>\n      <td>0</td>\n      <td>0</td>\n      <td>0</td>\n      <td>0</td>\n    </tr>\n    <tr>\n      <th>00_000118.wav</th>\n      <td>0</td>\n      <td>1</td>\n      <td>0</td>\n      <td>0</td>\n      <td>0</td>\n      <td>0</td>\n      <td>0</td>\n      <td>0</td>\n      <td>0</td>\n      <td>0</td>\n      <td>...</td>\n      <td>0</td>\n      <td>0</td>\n      <td>0</td>\n      <td>0</td>\n      <td>[0, 1]</td>\n      <td>0</td>\n      <td>0</td>\n      <td>0</td>\n      <td>0</td>\n      <td>0</td>\n    </tr>\n    <tr>\n      <th>00_000179.wav</th>\n      <td>0</td>\n      <td>0</td>\n      <td>0</td>\n      <td>0</td>\n      <td>0</td>\n      <td>0</td>\n      <td>0</td>\n      <td>0</td>\n      <td>0</td>\n      <td>0</td>\n      <td>...</td>\n      <td>0</td>\n      <td>0</td>\n      <td>0</td>\n      <td>0</td>\n      <td>0</td>\n      <td>0</td>\n      <td>0</td>\n      <td>0</td>\n      <td>0</td>\n      <td>0</td>\n    </tr>\n    <tr>\n      <th>...</th>\n      <td>...</td>\n      <td>...</td>\n      <td>...</td>\n      <td>...</td>\n      <td>...</td>\n      <td>...</td>\n      <td>...</td>\n      <td>...</td>\n      <td>...</td>\n      <td>...</td>\n      <td>...</td>\n      <td>...</td>\n      <td>...</td>\n      <td>...</td>\n      <td>...</td>\n      <td>...</td>\n      <td>...</td>\n      <td>...</td>\n      <td>...</td>\n      <td>...</td>\n      <td>...</td>\n    </tr>\n    <tr>\n      <th>58_027562.wav</th>\n      <td>0</td>\n      <td>0</td>\n      <td>0</td>\n      <td>0</td>\n      <td>0</td>\n      <td>0</td>\n      <td>0</td>\n      <td>0</td>\n      <td>0</td>\n      <td>0</td>\n      <td>...</td>\n      <td>0</td>\n      <td>0</td>\n      <td>0</td>\n      <td>0</td>\n      <td>0</td>\n      <td>1</td>\n      <td>0</td>\n      <td>0</td>\n      <td>0</td>\n      <td>0</td>\n    </tr>\n    <tr>\n      <th>61_027412.wav</th>\n      <td>0</td>\n      <td>0</td>\n      <td>0</td>\n      <td>0</td>\n      <td>0</td>\n      <td>0</td>\n      <td>0</td>\n      <td>0</td>\n      <td>0</td>\n      <td>0</td>\n      <td>...</td>\n      <td>0</td>\n      <td>0</td>\n      <td>0</td>\n      <td>0</td>\n      <td>0</td>\n      <td>0</td>\n      <td>0</td>\n      <td>0</td>\n      <td>0</td>\n      <td>0</td>\n    </tr>\n    <tr>\n      <th>61_027621.wav</th>\n      <td>0</td>\n      <td>1</td>\n      <td>0</td>\n      <td>0</td>\n      <td>0</td>\n      <td>0</td>\n      <td>0</td>\n      <td>0</td>\n      <td>0</td>\n      <td>0</td>\n      <td>...</td>\n      <td>0</td>\n      <td>0</td>\n      <td>0</td>\n      <td>0</td>\n      <td>0</td>\n      <td>0</td>\n      <td>0</td>\n      <td>0</td>\n      <td>0</td>\n      <td>0</td>\n    </tr>\n    <tr>\n      <th>61_027651.wav</th>\n      <td>0</td>\n      <td>[0, 1]</td>\n      <td>0</td>\n      <td>0</td>\n      <td>0</td>\n      <td>0</td>\n      <td>0</td>\n      <td>0</td>\n      <td>0</td>\n      <td>0</td>\n      <td>...</td>\n      <td>0</td>\n      <td>0</td>\n      <td>0</td>\n      <td>0</td>\n      <td>0</td>\n      <td>0</td>\n      <td>0</td>\n      <td>0</td>\n      <td>0</td>\n      <td>0</td>\n    </tr>\n    <tr>\n      <th>61_027827.wav</th>\n      <td>0</td>\n      <td>0</td>\n      <td>0</td>\n      <td>[0, 1]</td>\n      <td>0</td>\n      <td>0</td>\n      <td>0</td>\n      <td>0</td>\n      <td>0</td>\n      <td>0</td>\n      <td>...</td>\n      <td>1</td>\n      <td>0</td>\n      <td>0</td>\n      <td>[0, 1]</td>\n      <td>0</td>\n      <td>0</td>\n      <td>0</td>\n      <td>0</td>\n      <td>0</td>\n      <td>0</td>\n    </tr>\n  </tbody>\n</table>\n<p>18510 rows × 29 columns</p>\n</div>"
     },
     "execution_count": 100,
     "metadata": {},
     "output_type": "execute_result"
    }
   ],
   "source": [
    "fine.groupby('audio_filename').agg(pd.Series.mode)"
   ],
   "metadata": {
    "collapsed": false
   }
  },
  {
   "cell_type": "code",
   "execution_count": 63,
   "outputs": [],
   "source": [
    "x = []\n",
    "for fname, series in coarse.groupby('audio_filename'):\n",
    "    sub = series[coarse_labels]\n",
    "    x.append(sub.astype(object).replace({-1: pd.NA}).mode(dropna=True))"
   ],
   "metadata": {
    "collapsed": false
   }
  },
  {
   "cell_type": "code",
   "execution_count": 64,
   "outputs": [],
   "source": [
    "x = pd.concat(x)"
   ],
   "metadata": {
    "collapsed": false
   }
  },
  {
   "cell_type": "code",
   "execution_count": 80,
   "outputs": [
    {
     "data": {
      "text/plain": "   1_engine_presence 2_machinery-impact_presence  \\\n0                  1                           0   \n0                  1                           0   \n0                  1                           0   \n0                  1                           0   \n0                  1                           0   \n..               ...                         ...   \n0                  1                           0   \n0                  0                           0   \n0                  1                           0   \n0                  1                           0   \n0                  0                           0   \n\n   3_non-machinery-impact_presence 4_powered-saw_presence  \\\n0                                0                      0   \n0                                0                      0   \n0                                0                      0   \n0                                0                      0   \n0                                0                      0   \n..                             ...                    ...   \n0                                0                      0   \n0                                0                      0   \n0                                0                      0   \n0                                0                      0   \n0                                0                      0   \n\n   5_alert-signal_presence 6_music_presence 7_human-voice_presence  \\\n0                        0                0                      0   \n0                        0                0                      1   \n0                        0                0                      0   \n0                        1                0                      0   \n0                        0                0                      0   \n..                     ...              ...                    ...   \n0                        0                0                      1   \n0                        0                0                      1   \n0                        0                0                      0   \n0                        0                0                      0   \n0                        0                1                      0   \n\n   8_dog_presence  \n0               0  \n0               0  \n0               0  \n0               0  \n0               0  \n..            ...  \n0               0  \n0               0  \n0               0  \n0               0  \n0               0  \n\n[13521 rows x 8 columns]",
      "text/html": "<div>\n<style scoped>\n    .dataframe tbody tr th:only-of-type {\n        vertical-align: middle;\n    }\n\n    .dataframe tbody tr th {\n        vertical-align: top;\n    }\n\n    .dataframe thead th {\n        text-align: right;\n    }\n</style>\n<table border=\"1\" class=\"dataframe\">\n  <thead>\n    <tr style=\"text-align: right;\">\n      <th></th>\n      <th>1_engine_presence</th>\n      <th>2_machinery-impact_presence</th>\n      <th>3_non-machinery-impact_presence</th>\n      <th>4_powered-saw_presence</th>\n      <th>5_alert-signal_presence</th>\n      <th>6_music_presence</th>\n      <th>7_human-voice_presence</th>\n      <th>8_dog_presence</th>\n    </tr>\n  </thead>\n  <tbody>\n    <tr>\n      <th>0</th>\n      <td>1</td>\n      <td>0</td>\n      <td>0</td>\n      <td>0</td>\n      <td>0</td>\n      <td>0</td>\n      <td>0</td>\n      <td>0</td>\n    </tr>\n    <tr>\n      <th>0</th>\n      <td>1</td>\n      <td>0</td>\n      <td>0</td>\n      <td>0</td>\n      <td>0</td>\n      <td>0</td>\n      <td>1</td>\n      <td>0</td>\n    </tr>\n    <tr>\n      <th>0</th>\n      <td>1</td>\n      <td>0</td>\n      <td>0</td>\n      <td>0</td>\n      <td>0</td>\n      <td>0</td>\n      <td>0</td>\n      <td>0</td>\n    </tr>\n    <tr>\n      <th>0</th>\n      <td>1</td>\n      <td>0</td>\n      <td>0</td>\n      <td>0</td>\n      <td>1</td>\n      <td>0</td>\n      <td>0</td>\n      <td>0</td>\n    </tr>\n    <tr>\n      <th>0</th>\n      <td>1</td>\n      <td>0</td>\n      <td>0</td>\n      <td>0</td>\n      <td>0</td>\n      <td>0</td>\n      <td>0</td>\n      <td>0</td>\n    </tr>\n    <tr>\n      <th>...</th>\n      <td>...</td>\n      <td>...</td>\n      <td>...</td>\n      <td>...</td>\n      <td>...</td>\n      <td>...</td>\n      <td>...</td>\n      <td>...</td>\n    </tr>\n    <tr>\n      <th>0</th>\n      <td>1</td>\n      <td>0</td>\n      <td>0</td>\n      <td>0</td>\n      <td>0</td>\n      <td>0</td>\n      <td>1</td>\n      <td>0</td>\n    </tr>\n    <tr>\n      <th>0</th>\n      <td>0</td>\n      <td>0</td>\n      <td>0</td>\n      <td>0</td>\n      <td>0</td>\n      <td>0</td>\n      <td>1</td>\n      <td>0</td>\n    </tr>\n    <tr>\n      <th>0</th>\n      <td>1</td>\n      <td>0</td>\n      <td>0</td>\n      <td>0</td>\n      <td>0</td>\n      <td>0</td>\n      <td>0</td>\n      <td>0</td>\n    </tr>\n    <tr>\n      <th>0</th>\n      <td>1</td>\n      <td>0</td>\n      <td>0</td>\n      <td>0</td>\n      <td>0</td>\n      <td>0</td>\n      <td>0</td>\n      <td>0</td>\n    </tr>\n    <tr>\n      <th>0</th>\n      <td>0</td>\n      <td>0</td>\n      <td>0</td>\n      <td>0</td>\n      <td>0</td>\n      <td>1</td>\n      <td>0</td>\n      <td>0</td>\n    </tr>\n  </tbody>\n</table>\n<p>13521 rows × 8 columns</p>\n</div>"
     },
     "execution_count": 80,
     "metadata": {},
     "output_type": "execute_result"
    }
   ],
   "source": [
    "y = x.dropna()\n",
    "y = y[(y.sum(axis=1) > 0)]\n",
    "y"
   ],
   "metadata": {
    "collapsed": false
   }
  },
  {
   "cell_type": "code",
   "execution_count": 81,
   "outputs": [
    {
     "data": {
      "text/plain": "1_engine_presence                  4908\n2_machinery-impact_presence        1004\n3_non-machinery-impact_presence     327\n4_powered-saw_presence              783\n5_alert-signal_presence            2908\n6_music_presence                    845\n7_human-voice_presence             4958\n8_dog_presence                      779\ndtype: object"
     },
     "execution_count": 81,
     "metadata": {},
     "output_type": "execute_result"
    }
   ],
   "source": [
    "y.sum(0)"
   ],
   "metadata": {
    "collapsed": false
   }
  }
 ],
 "metadata": {
  "kernelspec": {
   "display_name": "Python 3",
   "language": "python",
   "name": "python3"
  },
  "language_info": {
   "codemirror_mode": {
    "name": "ipython",
    "version": 2
   },
   "file_extension": ".py",
   "mimetype": "text/x-python",
   "name": "python",
   "nbconvert_exporter": "python",
   "pygments_lexer": "ipython2",
   "version": "2.7.6"
  }
 },
 "nbformat": 4,
 "nbformat_minor": 0
}
