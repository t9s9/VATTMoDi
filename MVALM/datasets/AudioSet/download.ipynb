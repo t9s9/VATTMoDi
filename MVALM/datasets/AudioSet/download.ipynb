{
 "cells": [
  {
   "cell_type": "code",
   "execution_count": 1,
   "metadata": {
    "collapsed": true
   },
   "outputs": [],
   "source": [
    "import pandas as pd\n",
    "from pathlib import Path\n",
    "import json\n",
    "import matplotlib.pyplot as plt\n",
    "import seaborn as sns\n",
    "from collections import Counter"
   ]
  },
  {
   "cell_type": "code",
   "execution_count": 4,
   "outputs": [
    {
     "data": {
      "text/plain": "175861"
     },
     "execution_count": 4,
     "metadata": {},
     "output_type": "execute_result"
    }
   ],
   "source": [
    "logs = [\n",
    "        f'/home/t9s9/Datasets/AudioSet/audioset_train_rest_download_report_round_{i}.json' for i in range(2)\n",
    "]\n",
    "\n",
    "status = []\n",
    "for log_file in logs:\n",
    "        with open(log_file, 'r') as f:\n",
    "                status += json.load(f)['status_list']\n",
    "\n",
    "\n",
    "failed = list(filter(lambda x: not x[1], status))\n",
    "failed_ids = set(map(lambda x: x[0], failed))\n",
    "len(failed_ids)"
   ],
   "metadata": {
    "collapsed": false
   }
  },
  {
   "cell_type": "code",
   "execution_count": 5,
   "outputs": [
    {
     "data": {
      "text/plain": "1278386"
     },
     "execution_count": 5,
     "metadata": {},
     "output_type": "execute_result"
    }
   ],
   "source": [
    "root = Path('/home/t9s9/Datasets/AudioSet')\n",
    "\n",
    "downloaded = (\n",
    "        set((root / 'train').iterdir()) |\n",
    "        set((root / 'data').iterdir())\n",
    ")\n",
    "downloaded = set(map(lambda x: x.name, downloaded))\n",
    "len(downloaded)"
   ],
   "metadata": {
    "collapsed": false
   }
  },
  {
   "cell_type": "code",
   "execution_count": 6,
   "outputs": [],
   "source": [
    "df = pd.read_csv('/home/t9s9/PycharmProjects/YT-Dataset-Downloader/datasets/audioset_train.csv')\n",
    "\n",
    "pattern = \"{0}_{1:06}_{2:06}.mp4\"\n",
    "df['filename'] = df.apply(lambda row: pattern.format(row['youtube_id'], int(row['time_start']), int(row['time_end'])), axis=1)"
   ],
   "metadata": {
    "collapsed": false
   }
  },
  {
   "cell_type": "code",
   "execution_count": 7,
   "outputs": [],
   "source": [
    "exist = df[df.filename.isin(downloaded)]\n",
    "assert len(exist) == len(downloaded)"
   ],
   "metadata": {
    "collapsed": false
   }
  },
  {
   "cell_type": "code",
   "execution_count": 8,
   "outputs": [
    {
     "name": "stderr",
     "output_type": "stream",
     "text": [
      "/tmp/ipykernel_54695/386114834.py:3: UserWarning: Boolean Series key will be reindexed to match DataFrame index.\n",
      "  remain = remain[~df.youtube_id.isin(failed_ids)]\n"
     ]
    },
    {
     "data": {
      "text/plain": "          youtube_id  time_start  time_end\n1207617  UctyrWq7DM0        20.0      30.0\n1207618  Ucu-nzSkQas         0.0      10.0\n1207619  Ucu12QP1L9E       160.0     170.0\n1207620  Ucu1HlQWdDc        28.0      38.0\n1207621  Ucu2dyFhs4I        30.0      40.0\n...              ...         ...       ...\n2041784  zzyyleHsxfk        20.0      30.0\n2041785  zzz-JsGPtxQ       120.0     130.0\n2041786  zzz3PZXRQ_8        30.0      40.0\n2041787  zzznDcamMpw         0.0      10.0\n2041788  zzztDPePp4g       410.0     420.0\n\n[587542 rows x 3 columns]",
      "text/html": "<div>\n<style scoped>\n    .dataframe tbody tr th:only-of-type {\n        vertical-align: middle;\n    }\n\n    .dataframe tbody tr th {\n        vertical-align: top;\n    }\n\n    .dataframe thead th {\n        text-align: right;\n    }\n</style>\n<table border=\"1\" class=\"dataframe\">\n  <thead>\n    <tr style=\"text-align: right;\">\n      <th></th>\n      <th>youtube_id</th>\n      <th>time_start</th>\n      <th>time_end</th>\n    </tr>\n  </thead>\n  <tbody>\n    <tr>\n      <th>1207617</th>\n      <td>UctyrWq7DM0</td>\n      <td>20.0</td>\n      <td>30.0</td>\n    </tr>\n    <tr>\n      <th>1207618</th>\n      <td>Ucu-nzSkQas</td>\n      <td>0.0</td>\n      <td>10.0</td>\n    </tr>\n    <tr>\n      <th>1207619</th>\n      <td>Ucu12QP1L9E</td>\n      <td>160.0</td>\n      <td>170.0</td>\n    </tr>\n    <tr>\n      <th>1207620</th>\n      <td>Ucu1HlQWdDc</td>\n      <td>28.0</td>\n      <td>38.0</td>\n    </tr>\n    <tr>\n      <th>1207621</th>\n      <td>Ucu2dyFhs4I</td>\n      <td>30.0</td>\n      <td>40.0</td>\n    </tr>\n    <tr>\n      <th>...</th>\n      <td>...</td>\n      <td>...</td>\n      <td>...</td>\n    </tr>\n    <tr>\n      <th>2041784</th>\n      <td>zzyyleHsxfk</td>\n      <td>20.0</td>\n      <td>30.0</td>\n    </tr>\n    <tr>\n      <th>2041785</th>\n      <td>zzz-JsGPtxQ</td>\n      <td>120.0</td>\n      <td>130.0</td>\n    </tr>\n    <tr>\n      <th>2041786</th>\n      <td>zzz3PZXRQ_8</td>\n      <td>30.0</td>\n      <td>40.0</td>\n    </tr>\n    <tr>\n      <th>2041787</th>\n      <td>zzznDcamMpw</td>\n      <td>0.0</td>\n      <td>10.0</td>\n    </tr>\n    <tr>\n      <th>2041788</th>\n      <td>zzztDPePp4g</td>\n      <td>410.0</td>\n      <td>420.0</td>\n    </tr>\n  </tbody>\n</table>\n<p>587542 rows × 3 columns</p>\n</div>"
     },
     "execution_count": 8,
     "metadata": {},
     "output_type": "execute_result"
    }
   ],
   "source": [
    "remain = df[~df.filename.isin(downloaded)]\n",
    "remain = remain.drop(columns='filename')\n",
    "remain = remain[~df.youtube_id.isin(failed_ids)]\n",
    "remain"
   ],
   "metadata": {
    "collapsed": false
   }
  },
  {
   "cell_type": "code",
   "execution_count": 9,
   "outputs": [],
   "source": [
    "remain.to_csv('/home/t9s9/PycharmProjects/YT-Dataset-Downloader/datasets/audioset_train_rest.csv', index=False)"
   ],
   "metadata": {
    "collapsed": false
   }
  },
  {
   "cell_type": "markdown",
   "source": [
    "# Fail Analysis"
   ],
   "metadata": {
    "collapsed": false
   }
  },
  {
   "cell_type": "code",
   "execution_count": 14,
   "outputs": [
    {
     "data": {
      "text/plain": "{' 1',\n ' This video is available to this channels members on level: VIP Member (or any higher level). Join this channel to get access to members-only content and other exclusive perks.\"',\n ' This video is available to this channels members on level: WORDPIE SUPPOTER (or any higher level). Join this channel to get access to members-only content and other exclusive perks.\"',\n ' Were processing this video. Check back later.\"',\n 'Join this channel to get access to members-only content like this video, and other exclusive perks.',\n 'Requested format is not available. Use --list-formats for a list of available formats',\n 'Sign in to confirm your age. This video may be inappropriate for some users.',\n 'This video is not available.',\n 'This video is unavailable',\n 'copyright',\n 'corrupted stream',\n 'ore this, add a trailing ? to the map.\"',\n 'policy',\n 'private',\n 'unavailable'}"
     },
     "execution_count": 14,
     "metadata": {},
     "output_type": "execute_result"
    }
   ],
   "source": [
    "def filters(x: str):\n",
    "        x = x.replace(\"'\", \"\").replace(\"\\\\n\", \"\")[31:]\n",
    "        if x.endswith('does not contain any stream\"'):\n",
    "                return 'corrupted stream'\n",
    "        elif 'copyright' in x or 'contains content from' in x:\n",
    "                return 'copyright'\n",
    "        elif 'violating YouTubes' in x:\n",
    "                return 'policy'\n",
    "        elif 'Private video. Sign in if youve been granted access to this video' in x:\n",
    "                return 'private'\n",
    "        elif 'Video unavailable' in x:\n",
    "                return  'unavailable'\n",
    "        else:\n",
    "                return x\n",
    "\n",
    "def filter_unavailable(x: str):\n",
    "        x = x.replace(\"'\", \"\").replace(\"\\\\n\", \"\")[31:]\n",
    "        if 'Video unavailable' in x:\n",
    "                return x\n",
    "        else:\n",
    "                return False\n",
    "\n",
    "\n",
    "failed_reason = list(map(lambda x: filters(x[2]), failed))\n",
    "unavailable_reason = list(map(lambda x: filter_unavailable(x[2]), failed))\n",
    "set(failed_reason)"
   ],
   "metadata": {
    "collapsed": false
   }
  },
  {
   "cell_type": "code",
   "execution_count": 15,
   "outputs": [
    {
     "data": {
      "text/plain": "[('unavailable', 106481),\n ('private', 57227),\n ('copyright', 8062),\n ('policy', 3569),\n (' 1', 277),\n ('corrupted stream', 155),\n ('Sign in to confirm your age. This video may be inappropriate for some users.',\n  47),\n ('Join this channel to get access to members-only content like this video, and other exclusive perks.',\n  18),\n ('Requested format is not available. Use --list-formats for a list of available formats',\n  14),\n (' Were processing this video. Check back later.\"', 4)]"
     },
     "execution_count": 15,
     "metadata": {},
     "output_type": "execute_result"
    }
   ],
   "source": [
    "counter = Counter(failed_reason)\n",
    "counter.most_common(10)"
   ],
   "metadata": {
    "collapsed": false
   }
  },
  {
   "cell_type": "code",
   "execution_count": 12,
   "outputs": [
    {
     "data": {
      "text/plain": "[('unavailable', 106481),\n ('private', 57227),\n ('policy', 3569),\n ('copyright', 8062)]"
     },
     "execution_count": 12,
     "metadata": {},
     "output_type": "execute_result"
    }
   ],
   "source": [
    "plot_data = []\n",
    "\n",
    "total = counter.total()\n",
    "for name, occur in counter.items():\n",
    "        if occur / total > 0.01:\n",
    "                plot_data.append((name, occur))\n",
    "plot_data"
   ],
   "metadata": {
    "collapsed": false
   }
  },
  {
   "cell_type": "code",
   "execution_count": 13,
   "outputs": [
    {
     "data": {
      "text/plain": "<Figure size 640x480 with 1 Axes>",
      "image/png": "[encoded data removed]"
     },
     "metadata": {},
     "output_type": "display_data"
    }
   ],
   "source": [
    "#define Seaborn color palette to use\n",
    "colors = sns.color_palette('pastel')[0:5]\n",
    "labels, data = zip(*plot_data)\n",
    "#create pie chart\n",
    "plt.pie(data, labels = labels, colors = colors, autopct='%.0f%%')\n",
    "plt.show()"
   ],
   "metadata": {
    "collapsed": false
   }
  }
 ],
 "metadata": {
  "kernelspec": {
   "display_name": "Python 3",
   "language": "python",
   "name": "python3"
  },
  "language_info": {
   "codemirror_mode": {
    "name": "ipython",
    "version": 2
   },
   "file_extension": ".py",
   "mimetype": "text/x-python",
   "name": "python",
   "nbconvert_exporter": "python",
   "pygments_lexer": "ipython2",
   "version": "2.7.6"
  }
 },
 "nbformat": 4,
 "nbformat_minor": 0
}
