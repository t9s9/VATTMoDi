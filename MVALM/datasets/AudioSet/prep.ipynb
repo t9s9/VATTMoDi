{
 "cells": [
  {
   "cell_type": "code",
   "execution_count": 1,
   "metadata": {
    "collapsed": true,
    "pycharm": {
     "name": "#%%\n"
    }
   },
   "outputs": [],
   "source": [
    "import pandas as pd\n",
    "from pathlib import Path"
   ]
  },
  {
   "cell_type": "code",
   "execution_count": 2,
   "outputs": [
    {
     "ename": "ParserError",
     "evalue": "Error tokenizing data. C error: Expected 4 fields in line 4, saw 5\n",
     "output_type": "error",
     "traceback": [
      "\u001B[0;31m---------------------------------------------------------------------------\u001B[0m",
      "\u001B[0;31mParserError\u001B[0m                               Traceback (most recent call last)",
      "Cell \u001B[0;32mIn[2], line 1\u001B[0m\n\u001B[0;32m----> 1\u001B[0m \u001B[43mpd\u001B[49m\u001B[38;5;241;43m.\u001B[39;49m\u001B[43mread_csv\u001B[49m\u001B[43m(\u001B[49m\u001B[38;5;124;43m'\u001B[39;49m\u001B[38;5;124;43m/media/t9s9/SSD_ubuntu/datasets/AudioSet/original_annot/balanced_train_segments.csv\u001B[39;49m\u001B[38;5;124;43m'\u001B[39;49m\u001B[43m)\u001B[49m\n",
      "File \u001B[0;32m~/miniconda3/envs/fasttorch/lib/python3.10/site-packages/pandas/util/_decorators.py:211\u001B[0m, in \u001B[0;36mdeprecate_kwarg.<locals>._deprecate_kwarg.<locals>.wrapper\u001B[0;34m(*args, **kwargs)\u001B[0m\n\u001B[1;32m    209\u001B[0m     \u001B[38;5;28;01melse\u001B[39;00m:\n\u001B[1;32m    210\u001B[0m         kwargs[new_arg_name] \u001B[38;5;241m=\u001B[39m new_arg_value\n\u001B[0;32m--> 211\u001B[0m \u001B[38;5;28;01mreturn\u001B[39;00m \u001B[43mfunc\u001B[49m\u001B[43m(\u001B[49m\u001B[38;5;241;43m*\u001B[39;49m\u001B[43margs\u001B[49m\u001B[43m,\u001B[49m\u001B[43m \u001B[49m\u001B[38;5;241;43m*\u001B[39;49m\u001B[38;5;241;43m*\u001B[39;49m\u001B[43mkwargs\u001B[49m\u001B[43m)\u001B[49m\n",
      "File \u001B[0;32m~/miniconda3/envs/fasttorch/lib/python3.10/site-packages/pandas/util/_decorators.py:331\u001B[0m, in \u001B[0;36mdeprecate_nonkeyword_arguments.<locals>.decorate.<locals>.wrapper\u001B[0;34m(*args, **kwargs)\u001B[0m\n\u001B[1;32m    325\u001B[0m \u001B[38;5;28;01mif\u001B[39;00m \u001B[38;5;28mlen\u001B[39m(args) \u001B[38;5;241m>\u001B[39m num_allow_args:\n\u001B[1;32m    326\u001B[0m     warnings\u001B[38;5;241m.\u001B[39mwarn(\n\u001B[1;32m    327\u001B[0m         msg\u001B[38;5;241m.\u001B[39mformat(arguments\u001B[38;5;241m=\u001B[39m_format_argument_list(allow_args)),\n\u001B[1;32m    328\u001B[0m         \u001B[38;5;167;01mFutureWarning\u001B[39;00m,\n\u001B[1;32m    329\u001B[0m         stacklevel\u001B[38;5;241m=\u001B[39mfind_stack_level(),\n\u001B[1;32m    330\u001B[0m     )\n\u001B[0;32m--> 331\u001B[0m \u001B[38;5;28;01mreturn\u001B[39;00m \u001B[43mfunc\u001B[49m\u001B[43m(\u001B[49m\u001B[38;5;241;43m*\u001B[39;49m\u001B[43margs\u001B[49m\u001B[43m,\u001B[49m\u001B[43m \u001B[49m\u001B[38;5;241;43m*\u001B[39;49m\u001B[38;5;241;43m*\u001B[39;49m\u001B[43mkwargs\u001B[49m\u001B[43m)\u001B[49m\n",
      "File \u001B[0;32m~/miniconda3/envs/fasttorch/lib/python3.10/site-packages/pandas/io/parsers/readers.py:950\u001B[0m, in \u001B[0;36mread_csv\u001B[0;34m(filepath_or_buffer, sep, delimiter, header, names, index_col, usecols, squeeze, prefix, mangle_dupe_cols, dtype, engine, converters, true_values, false_values, skipinitialspace, skiprows, skipfooter, nrows, na_values, keep_default_na, na_filter, verbose, skip_blank_lines, parse_dates, infer_datetime_format, keep_date_col, date_parser, dayfirst, cache_dates, iterator, chunksize, compression, thousands, decimal, lineterminator, quotechar, quoting, doublequote, escapechar, comment, encoding, encoding_errors, dialect, error_bad_lines, warn_bad_lines, on_bad_lines, delim_whitespace, low_memory, memory_map, float_precision, storage_options)\u001B[0m\n\u001B[1;32m    935\u001B[0m kwds_defaults \u001B[38;5;241m=\u001B[39m _refine_defaults_read(\n\u001B[1;32m    936\u001B[0m     dialect,\n\u001B[1;32m    937\u001B[0m     delimiter,\n\u001B[0;32m   (...)\u001B[0m\n\u001B[1;32m    946\u001B[0m     defaults\u001B[38;5;241m=\u001B[39m{\u001B[38;5;124m\"\u001B[39m\u001B[38;5;124mdelimiter\u001B[39m\u001B[38;5;124m\"\u001B[39m: \u001B[38;5;124m\"\u001B[39m\u001B[38;5;124m,\u001B[39m\u001B[38;5;124m\"\u001B[39m},\n\u001B[1;32m    947\u001B[0m )\n\u001B[1;32m    948\u001B[0m kwds\u001B[38;5;241m.\u001B[39mupdate(kwds_defaults)\n\u001B[0;32m--> 950\u001B[0m \u001B[38;5;28;01mreturn\u001B[39;00m \u001B[43m_read\u001B[49m\u001B[43m(\u001B[49m\u001B[43mfilepath_or_buffer\u001B[49m\u001B[43m,\u001B[49m\u001B[43m \u001B[49m\u001B[43mkwds\u001B[49m\u001B[43m)\u001B[49m\n",
      "File \u001B[0;32m~/miniconda3/envs/fasttorch/lib/python3.10/site-packages/pandas/io/parsers/readers.py:611\u001B[0m, in \u001B[0;36m_read\u001B[0;34m(filepath_or_buffer, kwds)\u001B[0m\n\u001B[1;32m    608\u001B[0m     \u001B[38;5;28;01mreturn\u001B[39;00m parser\n\u001B[1;32m    610\u001B[0m \u001B[38;5;28;01mwith\u001B[39;00m parser:\n\u001B[0;32m--> 611\u001B[0m     \u001B[38;5;28;01mreturn\u001B[39;00m \u001B[43mparser\u001B[49m\u001B[38;5;241;43m.\u001B[39;49m\u001B[43mread\u001B[49m\u001B[43m(\u001B[49m\u001B[43mnrows\u001B[49m\u001B[43m)\u001B[49m\n",
      "File \u001B[0;32m~/miniconda3/envs/fasttorch/lib/python3.10/site-packages/pandas/io/parsers/readers.py:1778\u001B[0m, in \u001B[0;36mTextFileReader.read\u001B[0;34m(self, nrows)\u001B[0m\n\u001B[1;32m   1771\u001B[0m nrows \u001B[38;5;241m=\u001B[39m validate_integer(\u001B[38;5;124m\"\u001B[39m\u001B[38;5;124mnrows\u001B[39m\u001B[38;5;124m\"\u001B[39m, nrows)\n\u001B[1;32m   1772\u001B[0m \u001B[38;5;28;01mtry\u001B[39;00m:\n\u001B[1;32m   1773\u001B[0m     \u001B[38;5;66;03m# error: \"ParserBase\" has no attribute \"read\"\u001B[39;00m\n\u001B[1;32m   1774\u001B[0m     (\n\u001B[1;32m   1775\u001B[0m         index,\n\u001B[1;32m   1776\u001B[0m         columns,\n\u001B[1;32m   1777\u001B[0m         col_dict,\n\u001B[0;32m-> 1778\u001B[0m     ) \u001B[38;5;241m=\u001B[39m \u001B[38;5;28;43mself\u001B[39;49m\u001B[38;5;241;43m.\u001B[39;49m\u001B[43m_engine\u001B[49m\u001B[38;5;241;43m.\u001B[39;49m\u001B[43mread\u001B[49m\u001B[43m(\u001B[49m\u001B[43m  \u001B[49m\u001B[38;5;66;43;03m# type: ignore[attr-defined]\u001B[39;49;00m\n\u001B[1;32m   1779\u001B[0m \u001B[43m        \u001B[49m\u001B[43mnrows\u001B[49m\n\u001B[1;32m   1780\u001B[0m \u001B[43m    \u001B[49m\u001B[43m)\u001B[49m\n\u001B[1;32m   1781\u001B[0m \u001B[38;5;28;01mexcept\u001B[39;00m \u001B[38;5;167;01mException\u001B[39;00m:\n\u001B[1;32m   1782\u001B[0m     \u001B[38;5;28mself\u001B[39m\u001B[38;5;241m.\u001B[39mclose()\n",
      "File \u001B[0;32m~/miniconda3/envs/fasttorch/lib/python3.10/site-packages/pandas/io/parsers/c_parser_wrapper.py:230\u001B[0m, in \u001B[0;36mCParserWrapper.read\u001B[0;34m(self, nrows)\u001B[0m\n\u001B[1;32m    228\u001B[0m \u001B[38;5;28;01mtry\u001B[39;00m:\n\u001B[1;32m    229\u001B[0m     \u001B[38;5;28;01mif\u001B[39;00m \u001B[38;5;28mself\u001B[39m\u001B[38;5;241m.\u001B[39mlow_memory:\n\u001B[0;32m--> 230\u001B[0m         chunks \u001B[38;5;241m=\u001B[39m \u001B[38;5;28;43mself\u001B[39;49m\u001B[38;5;241;43m.\u001B[39;49m\u001B[43m_reader\u001B[49m\u001B[38;5;241;43m.\u001B[39;49m\u001B[43mread_low_memory\u001B[49m\u001B[43m(\u001B[49m\u001B[43mnrows\u001B[49m\u001B[43m)\u001B[49m\n\u001B[1;32m    231\u001B[0m         \u001B[38;5;66;03m# destructive to chunks\u001B[39;00m\n\u001B[1;32m    232\u001B[0m         data \u001B[38;5;241m=\u001B[39m _concatenate_chunks(chunks)\n",
      "File \u001B[0;32m~/miniconda3/envs/fasttorch/lib/python3.10/site-packages/pandas/_libs/parsers.pyx:808\u001B[0m, in \u001B[0;36mpandas._libs.parsers.TextReader.read_low_memory\u001B[0;34m()\u001B[0m\n",
      "File \u001B[0;32m~/miniconda3/envs/fasttorch/lib/python3.10/site-packages/pandas/_libs/parsers.pyx:866\u001B[0m, in \u001B[0;36mpandas._libs.parsers.TextReader._read_rows\u001B[0;34m()\u001B[0m\n",
      "File \u001B[0;32m~/miniconda3/envs/fasttorch/lib/python3.10/site-packages/pandas/_libs/parsers.pyx:852\u001B[0m, in \u001B[0;36mpandas._libs.parsers.TextReader._tokenize_rows\u001B[0;34m()\u001B[0m\n",
      "File \u001B[0;32m~/miniconda3/envs/fasttorch/lib/python3.10/site-packages/pandas/_libs/parsers.pyx:1973\u001B[0m, in \u001B[0;36mpandas._libs.parsers.raise_parser_error\u001B[0;34m()\u001B[0m\n",
      "\u001B[0;31mParserError\u001B[0m: Error tokenizing data. C error: Expected 4 fields in line 4, saw 5\n"
     ]
    }
   ],
   "source": [
    "pd.read_csv('/media/t9s9/SSD_ubuntu/datasets/AudioSet/original_annot/balanced_train_segments.csv')"
   ],
   "metadata": {
    "collapsed": false,
    "pycharm": {
     "name": "#%%\n"
    }
   }
  },
  {
   "cell_type": "code",
   "execution_count": 3,
   "outputs": [],
   "source": [
    "idx_lab = pd.read_csv('/media/t9s9/SSD_ubuntu/datasets/AudioSet/class_labels_indices.csv')\n",
    "val_df = pd.read_csv('/media/t9s9/SSD_ubuntu/datasets/AudioSet/original_annot/eval_segments.csv')\n",
    "train_df = pd.read_csv('/media/t9s9/SSD_ubuntu/datasets/AudioSet/audioset_train.csv')"
   ],
   "metadata": {
    "collapsed": false
   }
  },
  {
   "cell_type": "code",
   "execution_count": 5,
   "outputs": [
    {
     "data": {
      "text/plain": "(2041789, 4)"
     },
     "execution_count": 5,
     "metadata": {},
     "output_type": "execute_result"
    }
   ],
   "source": [
    "train_df.shape"
   ],
   "metadata": {
    "collapsed": false
   }
  },
  {
   "cell_type": "code",
   "execution_count": 66,
   "outputs": [],
   "source": [
    "idx_to_label = idx_lab.drop(columns=['index']).set_index('mid').to_dict()['display_name']\n",
    "apply_list = lambda x: [idx_to_label[i.strip('\"')] for i in x]"
   ],
   "metadata": {
    "collapsed": false
   }
  },
  {
   "cell_type": "code",
   "execution_count": 55,
   "outputs": [],
   "source": [
    "val_df['labels'] = val_df[' positive_labels'].apply(lambda x: apply_list(x.split(',')))\n",
    "val_df = val_df.drop(columns=['time_start', 'time_end', ' positive_labels', 'youtube_id'])\n",
    "val_df['filename'] = val_df['filename'].apply(lambda x: str(Path('val', x)))\n",
    "exists = val_df['filename'].apply(lambda x: Path('/home/t9s9/Datasets/AudioSet/mp3/', x).with_suffix('.mp3').exists())\n",
    "val_df = val_df[exists]\n",
    "val_df.to_parquet('/home/t9s9/Datasets/AudioSet/annot_val.parquet', index=False)"
   ],
   "metadata": {
    "collapsed": false
   }
  },
  {
   "cell_type": "code",
   "execution_count": 82,
   "outputs": [
    {
     "name": "stdout",
     "output_type": "stream",
     "text": [
      "<class 'pandas.core.frame.DataFrame'>\n",
      "Int64Index: 1738510 entries, 0 to 2041788\n",
      "Data columns (total 2 columns):\n",
      " #   Column    Dtype \n",
      "---  ------    ----- \n",
      " 0   labels    object\n",
      " 1   filename  object\n",
      "dtypes: object(2)\n",
      "memory usage: 39.8+ MB\n"
     ]
    }
   ],
   "source": [
    "train_df.info()"
   ],
   "metadata": {
    "collapsed": false
   }
  },
  {
   "cell_type": "code",
   "execution_count": 67,
   "outputs": [],
   "source": [
    "train_df['labels'] = train_df['positive_labels'].apply(lambda x: apply_list(x.split(',')))"
   ],
   "metadata": {
    "collapsed": false
   }
  },
  {
   "cell_type": "code",
   "execution_count": 74,
   "outputs": [],
   "source": [
    "train_df['filename'] = train_df.apply(lambda row: f\"train/{row['youtube_id']}_{int(row['time_start']):06d}_{int(row['time_end']):06d}.mp4\", axis=1)"
   ],
   "metadata": {
    "collapsed": false
   }
  },
  {
   "cell_type": "code",
   "execution_count": 76,
   "outputs": [],
   "source": [
    "exists = train_df['filename'].apply(lambda x: Path('/home/t9s9/Datasets/AudioSet/mp3/', x).with_suffix('.mp3').exists())"
   ],
   "metadata": {
    "collapsed": false
   }
  },
  {
   "cell_type": "code",
   "execution_count": 79,
   "outputs": [],
   "source": [
    "train_df = train_df[exists]"
   ],
   "metadata": {
    "collapsed": false
   }
  },
  {
   "cell_type": "code",
   "execution_count": 80,
   "outputs": [],
   "source": [
    "train_df = train_df.drop(columns=['time_start', 'time_end', 'positive_labels', 'youtube_id'])"
   ],
   "metadata": {
    "collapsed": false
   }
  },
  {
   "cell_type": "code",
   "execution_count": 83,
   "outputs": [],
   "source": [
    "train_df.to_parquet('/home/t9s9/Datasets/AudioSet/annot_train.parquet', index=False)"
   ],
   "metadata": {
    "collapsed": false
   }
  },
  {
   "cell_type": "markdown",
   "source": [
    "# Prepare Download"
   ],
   "metadata": {
    "collapsed": false
   }
  },
  {
   "cell_type": "code",
   "execution_count": 3,
   "outputs": [
    {
     "name": "stdout",
     "output_type": "stream",
     "text": [
      "<class 'pandas.core.frame.DataFrame'>\n",
      "RangeIndex: 2041789 entries, 0 to 2041788\n",
      "Data columns (total 4 columns):\n",
      " #   Column           Dtype  \n",
      "---  ------           -----  \n",
      " 0   # YTID           object \n",
      " 1   start_seconds    float64\n",
      " 2   end_seconds      float64\n",
      " 3   positive_labels  object \n",
      "dtypes: float64(2), object(2)\n",
      "memory usage: 62.3+ MB\n"
     ]
    }
   ],
   "source": [
    "df = pd.read_csv('/media/ts/SSD_ubuntu/datasets/AudioSet/original_annot/unbalanced_train_segments.csv',\n",
    "                 skiprows=2, sep=', ', engine='python')\n",
    "df.info()"
   ],
   "metadata": {
    "collapsed": false,
    "pycharm": {
     "name": "#%%\n"
    }
   }
  },
  {
   "cell_type": "code",
   "execution_count": 4,
   "outputs": [
    {
     "name": "stdout",
     "output_type": "stream",
     "text": [
      "<class 'pandas.core.frame.DataFrame'>\n",
      "RangeIndex: 2041789 entries, 0 to 2041788\n",
      "Data columns (total 4 columns):\n",
      " #   Column           Dtype  \n",
      "---  ------           -----  \n",
      " 0   youtube_id       object \n",
      " 1   time_start       float64\n",
      " 2   time_end         float64\n",
      " 3   positive_labels  object \n",
      "dtypes: float64(2), object(2)\n",
      "memory usage: 62.3+ MB\n"
     ]
    }
   ],
   "source": [
    "df = df.rename(columns={'# YTID': 'youtube_id',\n",
    "                        'start_seconds':'time_start',\n",
    "                        'end_seconds':'time_end'\n",
    "                        })\n",
    "df.info()"
   ],
   "metadata": {
    "collapsed": false,
    "pycharm": {
     "name": "#%%\n"
    }
   }
  },
  {
   "cell_type": "code",
   "execution_count": 5,
   "outputs": [],
   "source": [
    "df.to_csv('/media/ts/SSD_ubuntu/datasets/AudioSet/audioset_train.csv', index=False)"
   ],
   "metadata": {
    "collapsed": false,
    "pycharm": {
     "name": "#%%\n"
    }
   }
  },
  {
   "cell_type": "code",
   "execution_count": null,
   "outputs": [],
   "source": [],
   "metadata": {
    "collapsed": false
   }
  },
  {
   "cell_type": "code",
   "execution_count": 15,
   "outputs": [],
   "source": [
    "df = pd.read_parquet('/home/t9s9/Datasets/AudioSet/annot_full_val.parquet')\n",
    "df_cls = pd.read_parquet('/home/t9s9/Datasets/AudioSet/annot_val.parquet')"
   ],
   "metadata": {
    "collapsed": false
   }
  },
  {
   "cell_type": "code",
   "execution_count": 16,
   "outputs": [],
   "source": [
    "df = df.merge(df_cls, on='filename', how='inner', validate='one_to_one')"
   ],
   "metadata": {
    "collapsed": false
   }
  },
  {
   "cell_type": "code",
   "execution_count": 17,
   "outputs": [],
   "source": [
    "df = df.rename(columns={'labels':'tags'})"
   ],
   "metadata": {
    "collapsed": false
   }
  },
  {
   "cell_type": "code",
   "execution_count": 18,
   "outputs": [
    {
     "data": {
      "text/plain": "                                filename  \\\n0      val/--4gqARaEJE_000000_000010.mp4   \n1      val/--BfvyPmVMo_000020_000030.mp4   \n2      val/--U7joUcTCo_000000_000010.mp4   \n3      val/--i-y1v8Hy8_000000_000009.mp4   \n4      val/-0BIyqJj9ZU_000030_000040.mp4   \n...                                  ...   \n17024  val/zxuey_Zi0wY_000030_000040.mp4   \n17025  val/zyF8TGSRvns_000150_000160.mp4   \n17026  val/zz35Va7tYmA_000030_000040.mp4   \n17027  val/zzNdwF40ID8_000070_000080.mp4   \n17028  val/zzbTaK7CXJY_000030_000040.mp4   \n\n                                         captions_visual  \\\n0         [Puppy that looks like a dachshund - photo #.]   \n1                     [How to fix a flat tire on a car.]   \n2      [An elderly man with glasses smiles into the c...   \n3      [Person shared a video of herself singing into...   \n4      [Funny : the video shows a man laughing as he ...   \n...                                                  ...   \n17024  [A man plays the accordion in the living room ...   \n17025           [How to make a gift box for your child.]   \n17026  [The video shows a man driving his car through...   \n17027  [How to draw a straight line through a triangle.]   \n17028                   [Free shipping on all products.]   \n\n                                       captions_auditory  \\\n0                              [A small dog whimpering.]   \n1                 [A drill is running and a man speaks.]   \n2                       [Laughter followed by laughter.]   \n3      [A group of people talking followed by a child...   \n4             [A baby is laughing and a man is talking.]   \n...                                                  ...   \n17024            [A musical instrument is being played.]   \n17025  [Music is playing in the background as a violi...   \n17026           [A car engine revving and accelerating.]   \n17027       [Electronically generated electronic music.]   \n17028                    [Wind blows and leaves rustle.]   \n\n                                                    tags  \n0          [Domestic animals, pets, Squeak, Dog, Animal]  \n1                                               [Hammer]  \n2                                                [Cough]  \n3         [Music, Speech, Female singing, Child singing]  \n4         [Chuckle, chortle, Belly laugh, Baby laughter]  \n...                                                  ...  \n17024  [Wind instrument, woodwind instrument, Accordion]  \n17025  [Marimba, xylophone, Glockenspiel, Chime, Mall...  \n17026  [Motor vehicle (road), Accelerating, revving, ...  \n17027                                     [Music, Sonar]  \n17028            [Wind, Rustle, Wind noise (microphone)]  \n\n[17029 rows x 4 columns]",
      "text/html": "<div>\n<style scoped>\n    .dataframe tbody tr th:only-of-type {\n        vertical-align: middle;\n    }\n\n    .dataframe tbody tr th {\n        vertical-align: top;\n    }\n\n    .dataframe thead th {\n        text-align: right;\n    }\n</style>\n<table border=\"1\" class=\"dataframe\">\n  <thead>\n    <tr style=\"text-align: right;\">\n      <th></th>\n      <th>filename</th>\n      <th>captions_visual</th>\n      <th>captions_auditory</th>\n      <th>tags</th>\n    </tr>\n  </thead>\n  <tbody>\n    <tr>\n      <th>0</th>\n      <td>val/--4gqARaEJE_000000_000010.mp4</td>\n      <td>[Puppy that looks like a dachshund - photo #.]</td>\n      <td>[A small dog whimpering.]</td>\n      <td>[Domestic animals, pets, Squeak, Dog, Animal]</td>\n    </tr>\n    <tr>\n      <th>1</th>\n      <td>val/--BfvyPmVMo_000020_000030.mp4</td>\n      <td>[How to fix a flat tire on a car.]</td>\n      <td>[A drill is running and a man speaks.]</td>\n      <td>[Hammer]</td>\n    </tr>\n    <tr>\n      <th>2</th>\n      <td>val/--U7joUcTCo_000000_000010.mp4</td>\n      <td>[An elderly man with glasses smiles into the c...</td>\n      <td>[Laughter followed by laughter.]</td>\n      <td>[Cough]</td>\n    </tr>\n    <tr>\n      <th>3</th>\n      <td>val/--i-y1v8Hy8_000000_000009.mp4</td>\n      <td>[Person shared a video of herself singing into...</td>\n      <td>[A group of people talking followed by a child...</td>\n      <td>[Music, Speech, Female singing, Child singing]</td>\n    </tr>\n    <tr>\n      <th>4</th>\n      <td>val/-0BIyqJj9ZU_000030_000040.mp4</td>\n      <td>[Funny : the video shows a man laughing as he ...</td>\n      <td>[A baby is laughing and a man is talking.]</td>\n      <td>[Chuckle, chortle, Belly laugh, Baby laughter]</td>\n    </tr>\n    <tr>\n      <th>...</th>\n      <td>...</td>\n      <td>...</td>\n      <td>...</td>\n      <td>...</td>\n    </tr>\n    <tr>\n      <th>17024</th>\n      <td>val/zxuey_Zi0wY_000030_000040.mp4</td>\n      <td>[A man plays the accordion in the living room ...</td>\n      <td>[A musical instrument is being played.]</td>\n      <td>[Wind instrument, woodwind instrument, Accordion]</td>\n    </tr>\n    <tr>\n      <th>17025</th>\n      <td>val/zyF8TGSRvns_000150_000160.mp4</td>\n      <td>[How to make a gift box for your child.]</td>\n      <td>[Music is playing in the background as a violi...</td>\n      <td>[Marimba, xylophone, Glockenspiel, Chime, Mall...</td>\n    </tr>\n    <tr>\n      <th>17026</th>\n      <td>val/zz35Va7tYmA_000030_000040.mp4</td>\n      <td>[The video shows a man driving his car through...</td>\n      <td>[A car engine revving and accelerating.]</td>\n      <td>[Motor vehicle (road), Accelerating, revving, ...</td>\n    </tr>\n    <tr>\n      <th>17027</th>\n      <td>val/zzNdwF40ID8_000070_000080.mp4</td>\n      <td>[How to draw a straight line through a triangle.]</td>\n      <td>[Electronically generated electronic music.]</td>\n      <td>[Music, Sonar]</td>\n    </tr>\n    <tr>\n      <th>17028</th>\n      <td>val/zzbTaK7CXJY_000030_000040.mp4</td>\n      <td>[Free shipping on all products.]</td>\n      <td>[Wind blows and leaves rustle.]</td>\n      <td>[Wind, Rustle, Wind noise (microphone)]</td>\n    </tr>\n  </tbody>\n</table>\n<p>17029 rows × 4 columns</p>\n</div>"
     },
     "execution_count": 18,
     "metadata": {},
     "output_type": "execute_result"
    }
   ],
   "source": [
    "df"
   ],
   "metadata": {
    "collapsed": false
   }
  },
  {
   "cell_type": "code",
   "execution_count": 19,
   "outputs": [],
   "source": [
    "df.to_parquet('/home/t9s9/Datasets/AudioSet/annot_full_val.parquet', index=False)"
   ],
   "metadata": {
    "collapsed": false
   }
  }
 ],
 "metadata": {
  "kernelspec": {
   "display_name": "Python 3",
   "language": "python",
   "name": "python3"
  },
  "language_info": {
   "codemirror_mode": {
    "name": "ipython",
    "version": 2
   },
   "file_extension": ".py",
   "mimetype": "text/x-python",
   "name": "python",
   "nbconvert_exporter": "python",
   "pygments_lexer": "ipython2",
   "version": "2.7.6"
  }
 },
 "nbformat": 4,
 "nbformat_minor": 0
}