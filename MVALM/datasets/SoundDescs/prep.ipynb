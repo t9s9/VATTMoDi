{
 "cells": [
  {
   "cell_type": "code",
   "execution_count": 1,
   "metadata": {
    "collapsed": true
   },
   "outputs": [],
   "source": [
    "import pickle\n",
    "from collections import Counter\n",
    "from pathlib import Path\n",
    "\n",
    "import pandas as pd"
   ]
  },
  {
   "cell_type": "code",
   "execution_count": 2,
   "outputs": [],
   "source": [
    "root = Path('/media/t9s9/SSD_ubuntu/datasets/SoundDescs/')\n",
    "# extra_info.pkl only contains meta data about data format\n",
    "\n",
    "with open(root / 'annotations/categories.pkl', 'rb') as f:\n",
    "    cat = pickle.load(f)\n",
    "\n",
    "with open(root / 'annotations/descriptions.pkl', 'rb') as f:\n",
    "    desc = pickle.load(f)"
   ],
   "metadata": {
    "collapsed": false
   }
  },
  {
   "cell_type": "code",
   "execution_count": 5,
   "outputs": [
    {
     "data": {
      "text/plain": "                     filename          tags  \\\n0      train/nhu05030045.flac      [Nature]   \n1         train/07033129.flac  [Daily Life]   \n2         train/07018018.flac      [Crowds]   \n3      train/nhu05062176.flac      [Nature]   \n4      train/nhu05047152.flac      [Nature]   \n...                       ...           ...   \n33057     train/07041019.flac    [Machines]   \n33058  train/nhu05091204.flac      [Nature]   \n33059  train/nhu05069044.flac      [Nature]   \n33060  train/nhu05035062.flac      [Nature]   \n33061  train/nhu05023198.flac      [Nature]   \n\n                                                captions  \n0      [King Penguin (Aptenodytes Patagonicus) - Colo...  \n1      [Railway Stations: Continuous Pa Anncts; Early...  \n2      [Chatter - Crowd of 40-50 men & women in a hal...  \n3      [Black-headed Wagtail (Motacilla Flava Feldegg...  \n4      [Garden - City garden during the day,summer. C...  \n...                                                  ...  \n33057  [Chemical & Electrical Reactions - Fire exting...  \n33058  [Coniferous Forest Atmosphere - Wood warbler, ...  \n33059  [Western Sandpiper (Calidris Mauri) - AND SNOW...  \n33060  [Robin (Erithacus Rubecula) - close-up spring/...  \n33061  [Mallard (Anas Platyrhynchos) - medium close-u...  \n\n[33020 rows x 3 columns]",
      "text/html": "<div>\n<style scoped>\n    .dataframe tbody tr th:only-of-type {\n        vertical-align: middle;\n    }\n\n    .dataframe tbody tr th {\n        vertical-align: top;\n    }\n\n    .dataframe thead th {\n        text-align: right;\n    }\n</style>\n<table border=\"1\" class=\"dataframe\">\n  <thead>\n    <tr style=\"text-align: right;\">\n      <th></th>\n      <th>filename</th>\n      <th>tags</th>\n      <th>captions</th>\n    </tr>\n  </thead>\n  <tbody>\n    <tr>\n      <th>0</th>\n      <td>train/nhu05030045.flac</td>\n      <td>[Nature]</td>\n      <td>[King Penguin (Aptenodytes Patagonicus) - Colo...</td>\n    </tr>\n    <tr>\n      <th>1</th>\n      <td>train/07033129.flac</td>\n      <td>[Daily Life]</td>\n      <td>[Railway Stations: Continuous Pa Anncts; Early...</td>\n    </tr>\n    <tr>\n      <th>2</th>\n      <td>train/07018018.flac</td>\n      <td>[Crowds]</td>\n      <td>[Chatter - Crowd of 40-50 men &amp; women in a hal...</td>\n    </tr>\n    <tr>\n      <th>3</th>\n      <td>train/nhu05062176.flac</td>\n      <td>[Nature]</td>\n      <td>[Black-headed Wagtail (Motacilla Flava Feldegg...</td>\n    </tr>\n    <tr>\n      <th>4</th>\n      <td>train/nhu05047152.flac</td>\n      <td>[Nature]</td>\n      <td>[Garden - City garden during the day,summer. C...</td>\n    </tr>\n    <tr>\n      <th>...</th>\n      <td>...</td>\n      <td>...</td>\n      <td>...</td>\n    </tr>\n    <tr>\n      <th>33057</th>\n      <td>train/07041019.flac</td>\n      <td>[Machines]</td>\n      <td>[Chemical &amp; Electrical Reactions - Fire exting...</td>\n    </tr>\n    <tr>\n      <th>33058</th>\n      <td>train/nhu05091204.flac</td>\n      <td>[Nature]</td>\n      <td>[Coniferous Forest Atmosphere - Wood warbler, ...</td>\n    </tr>\n    <tr>\n      <th>33059</th>\n      <td>train/nhu05069044.flac</td>\n      <td>[Nature]</td>\n      <td>[Western Sandpiper (Calidris Mauri) - AND SNOW...</td>\n    </tr>\n    <tr>\n      <th>33060</th>\n      <td>train/nhu05035062.flac</td>\n      <td>[Nature]</td>\n      <td>[Robin (Erithacus Rubecula) - close-up spring/...</td>\n    </tr>\n    <tr>\n      <th>33061</th>\n      <td>train/nhu05023198.flac</td>\n      <td>[Nature]</td>\n      <td>[Mallard (Anas Platyrhynchos) - medium close-u...</td>\n    </tr>\n  </tbody>\n</table>\n<p>33020 rows × 3 columns</p>\n</div>"
     },
     "execution_count": 5,
     "metadata": {},
     "output_type": "execute_result"
    }
   ],
   "source": [
    "df = pd.DataFrame({'category': cat, 'caption': desc}).reset_index(names='filename')\n",
    "df = df.dropna(subset=['category', 'caption'])\n",
    "\n",
    "df.filename = df.filename.apply(lambda x: str(Path('train') / Path(x).with_suffix('.flac')))\n",
    "exists = df.filename.apply(lambda x: (root / 'data' / x).exists())\n",
    "df = df[exists]\n",
    "\n",
    "df.columns = df.columns.str.replace('category', 'tags')\n",
    "df.columns = df.columns.str.replace('caption', 'captions')\n",
    "df.captions = df.captions.apply(lambda x: [x])\n",
    "df.to_parquet(root / 'annot.parquet', index=False)\n",
    "df"
   ],
   "metadata": {
    "collapsed": false
   }
  },
  {
   "cell_type": "code",
   "execution_count": 6,
   "outputs": [
    {
     "data": {
      "text/plain": "[('Nature', 17590),\n ('Transport', 3928),\n ('Machines', 2963),\n ('Daily Life', 2090),\n ('Military', 1097),\n ('Animals', 984),\n ('Clocks', 716),\n ('None', 707),\n ('Sport', 681),\n ('Footsteps', 617)]"
     },
     "execution_count": 6,
     "metadata": {},
     "output_type": "execute_result"
    }
   ],
   "source": [
    "flat_cat = [cat for dp in df.tags.to_list() for cat in dp]\n",
    "cat_counter = Counter(flat_cat)\n",
    "cat_counter.most_common(10)"
   ],
   "metadata": {
    "collapsed": false
   }
  },
  {
   "cell_type": "code",
   "execution_count": 7,
   "outputs": [
    {
     "data": {
      "text/plain": "filename                                  train/07018018.flac\ntags                                                 [Crowds]\ncaptions    [Chatter - Crowd of 40-50 men & women in a hal...\nName: 2, dtype: object"
     },
     "execution_count": 7,
     "metadata": {},
     "output_type": "execute_result"
    }
   ],
   "source": [
    "df.iloc[2]"
   ],
   "metadata": {
    "collapsed": false
   }
  }
 ],
 "metadata": {
  "kernelspec": {
   "display_name": "Python 3",
   "language": "python",
   "name": "python3"
  },
  "language_info": {
   "codemirror_mode": {
    "name": "ipython",
    "version": 2
   },
   "file_extension": ".py",
   "mimetype": "text/x-python",
   "name": "python",
   "nbconvert_exporter": "python",
   "pygments_lexer": "ipython2",
   "version": "2.7.6"
  }
 },
 "nbformat": 4,
 "nbformat_minor": 0
}
