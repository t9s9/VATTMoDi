{
 "cells": [
  {
   "cell_type": "code",
   "execution_count": 1,
   "metadata": {
    "collapsed": true
   },
   "outputs": [],
   "source": [
    "from yaml import safe_load\n",
    "import pandas as pd\n",
    "from pathlib import Path\n",
    "import shutil"
   ]
  },
  {
   "cell_type": "code",
   "execution_count": 3,
   "outputs": [],
   "source": [
    "df = pd.read_parquet('/media/ts/SSD_ubuntu/datasets/MACS/annot_train.parquet')"
   ],
   "metadata": {
    "collapsed": false
   }
  },
  {
   "cell_type": "code",
   "execution_count": 4,
   "outputs": [
    {
     "data": {
      "text/plain": "                                        filename  \\\n0             train/airport-barcelona-0-0-a.flac   \n1            train/airport-barcelona-0-10-a.flac   \n2            train/airport-barcelona-0-12-a.flac   \n3            train/airport-barcelona-0-14-a.flac   \n4             train/airport-barcelona-0-3-a.flac   \n...                                          ...   \n3336  train/public_square-vienna-253-7600-a.flac   \n3337  train/public_square-vienna-253-7601-a.flac   \n3338  train/public_square-vienna-253-7602-a.flac   \n3339  train/public_square-vienna-253-7604-a.flac   \n3340  train/public_square-vienna-253-7605-a.flac   \n\n                                               captions  \\\n0     [a person whistling and singing, people are ta...   \n1     [whistling plates and cutlery clinging in a ca...   \n2     [distant adults talking some package unfolding...   \n3     [people are walking and talking, footsteps and...   \n4     [people talking and moving whistling sound in ...   \n...                                                 ...   \n3336  [people talking while the baby cries, adults t...   \n3337  [a man talking some other person talking quiet...   \n3338  [far away traffic noise motorcycle birds and f...   \n3339  [sound of the group of people joyfully talking...   \n3340  [adults and children talking traffic noises, a...   \n\n                                                   tags         target  \n0                    [music, adults_talking, footsteps]        airport  \n1     [announcement_jingle, adults_talking, footstep...        airport  \n2                           [adults_talking, footsteps]        airport  \n3                           [adults_talking, footsteps]        airport  \n4          [adults_talking, children_voices, footsteps]        airport  \n...                                                 ...            ...  \n3336  [traffic_noise, adults_talking, children_voice...  public_square  \n3337         [footsteps, adults_talking, birds_singing]  public_square  \n3338     [traffic_noise, adults_talking, birds_singing]  public_square  \n3339    [ , adults_talking, children_voices, footsteps]  public_square  \n3340   [traffic_noise, adults_talking, children_voices]  public_square  \n\n[3341 rows x 4 columns]",
      "text/html": "<div>\n<style scoped>\n    .dataframe tbody tr th:only-of-type {\n        vertical-align: middle;\n    }\n\n    .dataframe tbody tr th {\n        vertical-align: top;\n    }\n\n    .dataframe thead th {\n        text-align: right;\n    }\n</style>\n<table border=\"1\" class=\"dataframe\">\n  <thead>\n    <tr style=\"text-align: right;\">\n      <th></th>\n      <th>filename</th>\n      <th>captions</th>\n      <th>tags</th>\n      <th>target</th>\n    </tr>\n  </thead>\n  <tbody>\n    <tr>\n      <th>0</th>\n      <td>train/airport-barcelona-0-0-a.flac</td>\n      <td>[a person whistling and singing, people are ta...</td>\n      <td>[music, adults_talking, footsteps]</td>\n      <td>airport</td>\n    </tr>\n    <tr>\n      <th>1</th>\n      <td>train/airport-barcelona-0-10-a.flac</td>\n      <td>[whistling plates and cutlery clinging in a ca...</td>\n      <td>[announcement_jingle, adults_talking, footstep...</td>\n      <td>airport</td>\n    </tr>\n    <tr>\n      <th>2</th>\n      <td>train/airport-barcelona-0-12-a.flac</td>\n      <td>[distant adults talking some package unfolding...</td>\n      <td>[adults_talking, footsteps]</td>\n      <td>airport</td>\n    </tr>\n    <tr>\n      <th>3</th>\n      <td>train/airport-barcelona-0-14-a.flac</td>\n      <td>[people are walking and talking, footsteps and...</td>\n      <td>[adults_talking, footsteps]</td>\n      <td>airport</td>\n    </tr>\n    <tr>\n      <th>4</th>\n      <td>train/airport-barcelona-0-3-a.flac</td>\n      <td>[people talking and moving whistling sound in ...</td>\n      <td>[adults_talking, children_voices, footsteps]</td>\n      <td>airport</td>\n    </tr>\n    <tr>\n      <th>...</th>\n      <td>...</td>\n      <td>...</td>\n      <td>...</td>\n      <td>...</td>\n    </tr>\n    <tr>\n      <th>3336</th>\n      <td>train/public_square-vienna-253-7600-a.flac</td>\n      <td>[people talking while the baby cries, adults t...</td>\n      <td>[traffic_noise, adults_talking, children_voice...</td>\n      <td>public_square</td>\n    </tr>\n    <tr>\n      <th>3337</th>\n      <td>train/public_square-vienna-253-7601-a.flac</td>\n      <td>[a man talking some other person talking quiet...</td>\n      <td>[footsteps, adults_talking, birds_singing]</td>\n      <td>public_square</td>\n    </tr>\n    <tr>\n      <th>3338</th>\n      <td>train/public_square-vienna-253-7602-a.flac</td>\n      <td>[far away traffic noise motorcycle birds and f...</td>\n      <td>[traffic_noise, adults_talking, birds_singing]</td>\n      <td>public_square</td>\n    </tr>\n    <tr>\n      <th>3339</th>\n      <td>train/public_square-vienna-253-7604-a.flac</td>\n      <td>[sound of the group of people joyfully talking...</td>\n      <td>[ , adults_talking, children_voices, footsteps]</td>\n      <td>public_square</td>\n    </tr>\n    <tr>\n      <th>3340</th>\n      <td>train/public_square-vienna-253-7605-a.flac</td>\n      <td>[adults and children talking traffic noises, a...</td>\n      <td>[traffic_noise, adults_talking, children_voices]</td>\n      <td>public_square</td>\n    </tr>\n  </tbody>\n</table>\n<p>3341 rows × 4 columns</p>\n</div>"
     },
     "execution_count": 4,
     "metadata": {},
     "output_type": "execute_result"
    }
   ],
   "source": [
    "df"
   ],
   "metadata": {
    "collapsed": false
   }
  },
  {
   "cell_type": "code",
   "execution_count": 2,
   "outputs": [],
   "source": [
    "root = Path(\"/media/ts/SSD_ubuntu/datasets/MACS/\")\n",
    "with open(root / 'MACS.yaml', 'r') as f:\n",
    "    data = safe_load(f)"
   ],
   "metadata": {
    "collapsed": false
   }
  },
  {
   "cell_type": "code",
   "execution_count": 3,
   "outputs": [
    {
     "data": {
      "text/plain": "       annotator_id                                           sentence  \\\n0               233                     a person whistling and singing   \n1               105           people are talking whistling and singing   \n2               332          whistling and singing many people talking   \n3               150  people talking in the background a person whis...   \n4               251  whistling plates and cutlery clinging in a car...   \n...             ...                                                ...   \n17270           104         men and women are chatting with each other   \n17271           364           many loud conversations are heard nearby   \n17272           197         adults and children talking traffic noises   \n17273           262                  adults chatting at a place nearby   \n17274           366  women are having a conversation traffic noises...   \n\n                                                   tags  \\\n0                               [adults_talking, music]   \n1                                      [adults_talking]   \n2                           [adults_talking, footsteps]   \n3                               [music, adults_talking]   \n4                                      [adults_talking]   \n...                                                 ...   \n17270                                  [adults_talking]   \n17271                                  [adults_talking]   \n17272  [traffic_noise, adults_talking, children_voices]   \n17273                                  [adults_talking]   \n17274                   [adults_talking, traffic_noise]   \n\n                                  filename  \n0              airport-barcelona-0-0-a.wav  \n1              airport-barcelona-0-0-a.wav  \n2              airport-barcelona-0-0-a.wav  \n3              airport-barcelona-0-0-a.wav  \n4             airport-barcelona-0-10-a.wav  \n...                                    ...  \n17270  public_square-vienna-253-7604-a.wav  \n17271  public_square-vienna-253-7604-a.wav  \n17272  public_square-vienna-253-7605-a.wav  \n17273  public_square-vienna-253-7605-a.wav  \n17274  public_square-vienna-253-7605-a.wav  \n\n[17275 rows x 4 columns]",
      "text/html": "<div>\n<style scoped>\n    .dataframe tbody tr th:only-of-type {\n        vertical-align: middle;\n    }\n\n    .dataframe tbody tr th {\n        vertical-align: top;\n    }\n\n    .dataframe thead th {\n        text-align: right;\n    }\n</style>\n<table border=\"1\" class=\"dataframe\">\n  <thead>\n    <tr style=\"text-align: right;\">\n      <th></th>\n      <th>annotator_id</th>\n      <th>sentence</th>\n      <th>tags</th>\n      <th>filename</th>\n    </tr>\n  </thead>\n  <tbody>\n    <tr>\n      <th>0</th>\n      <td>233</td>\n      <td>a person whistling and singing</td>\n      <td>[adults_talking, music]</td>\n      <td>airport-barcelona-0-0-a.wav</td>\n    </tr>\n    <tr>\n      <th>1</th>\n      <td>105</td>\n      <td>people are talking whistling and singing</td>\n      <td>[adults_talking]</td>\n      <td>airport-barcelona-0-0-a.wav</td>\n    </tr>\n    <tr>\n      <th>2</th>\n      <td>332</td>\n      <td>whistling and singing many people talking</td>\n      <td>[adults_talking, footsteps]</td>\n      <td>airport-barcelona-0-0-a.wav</td>\n    </tr>\n    <tr>\n      <th>3</th>\n      <td>150</td>\n      <td>people talking in the background a person whis...</td>\n      <td>[music, adults_talking]</td>\n      <td>airport-barcelona-0-0-a.wav</td>\n    </tr>\n    <tr>\n      <th>4</th>\n      <td>251</td>\n      <td>whistling plates and cutlery clinging in a car...</td>\n      <td>[adults_talking]</td>\n      <td>airport-barcelona-0-10-a.wav</td>\n    </tr>\n    <tr>\n      <th>...</th>\n      <td>...</td>\n      <td>...</td>\n      <td>...</td>\n      <td>...</td>\n    </tr>\n    <tr>\n      <th>17270</th>\n      <td>104</td>\n      <td>men and women are chatting with each other</td>\n      <td>[adults_talking]</td>\n      <td>public_square-vienna-253-7604-a.wav</td>\n    </tr>\n    <tr>\n      <th>17271</th>\n      <td>364</td>\n      <td>many loud conversations are heard nearby</td>\n      <td>[adults_talking]</td>\n      <td>public_square-vienna-253-7604-a.wav</td>\n    </tr>\n    <tr>\n      <th>17272</th>\n      <td>197</td>\n      <td>adults and children talking traffic noises</td>\n      <td>[traffic_noise, adults_talking, children_voices]</td>\n      <td>public_square-vienna-253-7605-a.wav</td>\n    </tr>\n    <tr>\n      <th>17273</th>\n      <td>262</td>\n      <td>adults chatting at a place nearby</td>\n      <td>[adults_talking]</td>\n      <td>public_square-vienna-253-7605-a.wav</td>\n    </tr>\n    <tr>\n      <th>17274</th>\n      <td>366</td>\n      <td>women are having a conversation traffic noises...</td>\n      <td>[adults_talking, traffic_noise]</td>\n      <td>public_square-vienna-253-7605-a.wav</td>\n    </tr>\n  </tbody>\n</table>\n<p>17275 rows × 4 columns</p>\n</div>"
     },
     "execution_count": 3,
     "metadata": {},
     "output_type": "execute_result"
    }
   ],
   "source": [
    "df = pd.json_normalize(data['files'], 'annotations', ['filename'])\n",
    "df"
   ],
   "metadata": {
    "collapsed": false
   }
  },
  {
   "cell_type": "code",
   "execution_count": 4,
   "outputs": [
    {
     "data": {
      "text/plain": "                                         filename             target\n0                airport-lisbon-1000-40000-a.flac            airport\n1                      bus-lyon-1001-40001-a.flac                bus\n2          shopping_mall-lisbon-1002-40002-a.flac      shopping_mall\n3        street_pedestrian-lyon-1003-40003-a.flac  street_pedestrian\n4      street_pedestrian-lisbon-1004-40004-a.flac  street_pedestrian\n...                                           ...                ...\n14395                 tram-vienna-285-8635-a.flac               tram\n14396                 tram-vienna-285-8636-a.flac               tram\n14397                 tram-vienna-285-8637-a.flac               tram\n14398                 tram-vienna-285-8638-a.flac               tram\n14399                 tram-vienna-285-8639-a.flac               tram\n\n[14400 rows x 2 columns]",
      "text/html": "<div>\n<style scoped>\n    .dataframe tbody tr th:only-of-type {\n        vertical-align: middle;\n    }\n\n    .dataframe tbody tr th {\n        vertical-align: top;\n    }\n\n    .dataframe thead th {\n        text-align: right;\n    }\n</style>\n<table border=\"1\" class=\"dataframe\">\n  <thead>\n    <tr style=\"text-align: right;\">\n      <th></th>\n      <th>filename</th>\n      <th>target</th>\n    </tr>\n  </thead>\n  <tbody>\n    <tr>\n      <th>0</th>\n      <td>airport-lisbon-1000-40000-a.flac</td>\n      <td>airport</td>\n    </tr>\n    <tr>\n      <th>1</th>\n      <td>bus-lyon-1001-40001-a.flac</td>\n      <td>bus</td>\n    </tr>\n    <tr>\n      <th>2</th>\n      <td>shopping_mall-lisbon-1002-40002-a.flac</td>\n      <td>shopping_mall</td>\n    </tr>\n    <tr>\n      <th>3</th>\n      <td>street_pedestrian-lyon-1003-40003-a.flac</td>\n      <td>street_pedestrian</td>\n    </tr>\n    <tr>\n      <th>4</th>\n      <td>street_pedestrian-lisbon-1004-40004-a.flac</td>\n      <td>street_pedestrian</td>\n    </tr>\n    <tr>\n      <th>...</th>\n      <td>...</td>\n      <td>...</td>\n    </tr>\n    <tr>\n      <th>14395</th>\n      <td>tram-vienna-285-8635-a.flac</td>\n      <td>tram</td>\n    </tr>\n    <tr>\n      <th>14396</th>\n      <td>tram-vienna-285-8636-a.flac</td>\n      <td>tram</td>\n    </tr>\n    <tr>\n      <th>14397</th>\n      <td>tram-vienna-285-8637-a.flac</td>\n      <td>tram</td>\n    </tr>\n    <tr>\n      <th>14398</th>\n      <td>tram-vienna-285-8638-a.flac</td>\n      <td>tram</td>\n    </tr>\n    <tr>\n      <th>14399</th>\n      <td>tram-vienna-285-8639-a.flac</td>\n      <td>tram</td>\n    </tr>\n  </tbody>\n</table>\n<p>14400 rows × 2 columns</p>\n</div>"
     },
     "execution_count": 4,
     "metadata": {},
     "output_type": "execute_result"
    }
   ],
   "source": [
    "tau_meta = (pd.read_csv(root / 'TAU-urban-acoustic-scenes-2019-development/meta.csv', sep='\\t')\n",
    "            .drop(columns=['identifier', 'source_label'])\n",
    "            .rename(columns={'scene_label': 'target'})\n",
    "            )\n",
    "tau_meta.filename = tau_meta.filename.apply(lambda f: Path(f).with_suffix('.flac').name)\n",
    "tau_meta.target = tau_meta.target.astype('category')\n",
    "tau_meta = tau_meta[tau_meta.filename.apply(lambda f: (root / 'audio' / f).exists())]\n",
    "tau_meta.to_parquet(root / 'TAU-urban-acoustic-scenes-2019-annot.parquet', index=False)\n",
    "tau_meta"
   ],
   "metadata": {
    "collapsed": false
   }
  },
  {
   "cell_type": "code",
   "execution_count": 5,
   "outputs": [
    {
     "name": "stderr",
     "output_type": "stream",
     "text": [
      "/tmp/ipykernel_195302/4014960439.py:1: FutureWarning: Indexing with multiple keys (implicitly converted to a tuple of keys) will be deprecated, use a list instead.\n",
      "  df_clean = (df\n"
     ]
    },
    {
     "data": {
      "text/plain": "                                  filename  \\\n0             airport-barcelona-0-0-a.flac   \n1            airport-barcelona-0-10-a.flac   \n2            airport-barcelona-0-11-a.flac   \n3            airport-barcelona-0-12-a.flac   \n4            airport-barcelona-0-13-a.flac   \n...                                    ...   \n3925  public_square-vienna-253-7600-a.flac   \n3926  public_square-vienna-253-7601-a.flac   \n3927  public_square-vienna-253-7602-a.flac   \n3928  public_square-vienna-253-7604-a.flac   \n3929  public_square-vienna-253-7605-a.flac   \n\n                                               captions  \\\n0     [a person whistling and singing, people are ta...   \n1     [whistling plates and cutlery clinging in a ca...   \n2     [whistling footsteps and adults talking, adult...   \n3     [distant adults talking some package unfolding...   \n4     [a lot of people are talking and walking aroun...   \n...                                                 ...   \n3925  [people talking while the baby cries, adults t...   \n3926  [a man talking some other person talking quiet...   \n3927  [far away traffic noise motorcycle birds and f...   \n3928  [sound of the group of people joyfully talking...   \n3929  [adults and children talking traffic noises, a...   \n\n                                                   tags         target  \n0                    {music, adults_talking, footsteps}        airport  \n1     {announcement_jingle, adults_talking, footstep...        airport  \n2                           {adults_talking, footsteps}        airport  \n3                           {adults_talking, footsteps}        airport  \n4          {adults_talking, children_voices, footsteps}        airport  \n...                                                 ...            ...  \n3925  {traffic_noise, adults_talking, children_voice...  public_square  \n3926         {footsteps, adults_talking, birds_singing}  public_square  \n3927     {traffic_noise, adults_talking, birds_singing}  public_square  \n3928    { , adults_talking, children_voices, footsteps}  public_square  \n3929   {traffic_noise, adults_talking, children_voices}  public_square  \n\n[3930 rows x 4 columns]",
      "text/html": "<div>\n<style scoped>\n    .dataframe tbody tr th:only-of-type {\n        vertical-align: middle;\n    }\n\n    .dataframe tbody tr th {\n        vertical-align: top;\n    }\n\n    .dataframe thead th {\n        text-align: right;\n    }\n</style>\n<table border=\"1\" class=\"dataframe\">\n  <thead>\n    <tr style=\"text-align: right;\">\n      <th></th>\n      <th>filename</th>\n      <th>captions</th>\n      <th>tags</th>\n      <th>target</th>\n    </tr>\n  </thead>\n  <tbody>\n    <tr>\n      <th>0</th>\n      <td>airport-barcelona-0-0-a.flac</td>\n      <td>[a person whistling and singing, people are ta...</td>\n      <td>{music, adults_talking, footsteps}</td>\n      <td>airport</td>\n    </tr>\n    <tr>\n      <th>1</th>\n      <td>airport-barcelona-0-10-a.flac</td>\n      <td>[whistling plates and cutlery clinging in a ca...</td>\n      <td>{announcement_jingle, adults_talking, footstep...</td>\n      <td>airport</td>\n    </tr>\n    <tr>\n      <th>2</th>\n      <td>airport-barcelona-0-11-a.flac</td>\n      <td>[whistling footsteps and adults talking, adult...</td>\n      <td>{adults_talking, footsteps}</td>\n      <td>airport</td>\n    </tr>\n    <tr>\n      <th>3</th>\n      <td>airport-barcelona-0-12-a.flac</td>\n      <td>[distant adults talking some package unfolding...</td>\n      <td>{adults_talking, footsteps}</td>\n      <td>airport</td>\n    </tr>\n    <tr>\n      <th>4</th>\n      <td>airport-barcelona-0-13-a.flac</td>\n      <td>[a lot of people are talking and walking aroun...</td>\n      <td>{adults_talking, children_voices, footsteps}</td>\n      <td>airport</td>\n    </tr>\n    <tr>\n      <th>...</th>\n      <td>...</td>\n      <td>...</td>\n      <td>...</td>\n      <td>...</td>\n    </tr>\n    <tr>\n      <th>3925</th>\n      <td>public_square-vienna-253-7600-a.flac</td>\n      <td>[people talking while the baby cries, adults t...</td>\n      <td>{traffic_noise, adults_talking, children_voice...</td>\n      <td>public_square</td>\n    </tr>\n    <tr>\n      <th>3926</th>\n      <td>public_square-vienna-253-7601-a.flac</td>\n      <td>[a man talking some other person talking quiet...</td>\n      <td>{footsteps, adults_talking, birds_singing}</td>\n      <td>public_square</td>\n    </tr>\n    <tr>\n      <th>3927</th>\n      <td>public_square-vienna-253-7602-a.flac</td>\n      <td>[far away traffic noise motorcycle birds and f...</td>\n      <td>{traffic_noise, adults_talking, birds_singing}</td>\n      <td>public_square</td>\n    </tr>\n    <tr>\n      <th>3928</th>\n      <td>public_square-vienna-253-7604-a.flac</td>\n      <td>[sound of the group of people joyfully talking...</td>\n      <td>{ , adults_talking, children_voices, footsteps}</td>\n      <td>public_square</td>\n    </tr>\n    <tr>\n      <th>3929</th>\n      <td>public_square-vienna-253-7605-a.flac</td>\n      <td>[adults and children talking traffic noises, a...</td>\n      <td>{traffic_noise, adults_talking, children_voices}</td>\n      <td>public_square</td>\n    </tr>\n  </tbody>\n</table>\n<p>3930 rows × 4 columns</p>\n</div>"
     },
     "execution_count": 5,
     "metadata": {},
     "output_type": "execute_result"
    }
   ],
   "source": [
    "df_clean = (df\n",
    "            .groupby('filename', as_index=False)\n",
    "            ['sentence', 'tags']\n",
    "            .agg({'sentence': list, 'tags': lambda x: set([item for sublist in x for item in sublist])})\n",
    "            .rename(columns={'sentence': 'captions'})\n",
    "            )\n",
    "df_clean.filename = df_clean.filename.apply(lambda f: Path(f).with_suffix('.flac').name)\n",
    "df_clean = df_clean.merge(tau_meta, on='filename')\n",
    "df_clean.target = df_clean.target.cat.remove_unused_categories()\n",
    "df_clean = df_clean[df_clean.filename.apply(lambda f: (root / 'audio' / f).exists())]\n",
    "df_clean.to_parquet(root / 'MACS_annot.parquet', index=False)\n",
    "df_clean"
   ],
   "metadata": {
    "collapsed": false
   }
  },
  {
   "cell_type": "code",
   "execution_count": 9,
   "outputs": [],
   "source": [
    "x = df_clean.captions.apply(len).value_counts()"
   ],
   "metadata": {
    "collapsed": false
   }
  },
  {
   "cell_type": "code",
   "execution_count": 16,
   "outputs": [
    {
     "data": {
      "text/plain": "5    2188\n4    1120\n3     611\n2      11\nName: captions, dtype: int64"
     },
     "execution_count": 16,
     "metadata": {},
     "output_type": "execute_result"
    }
   ],
   "source": [
    "x"
   ],
   "metadata": {
    "collapsed": false
   }
  },
  {
   "cell_type": "code",
   "execution_count": 7,
   "outputs": [],
   "source": [
    "macs_dir = root / 'macs_audio'\n",
    "macs_dir.mkdir()\n",
    "for _, row in df_clean.iterrows():\n",
    "    shutil.copy(root / 'audio' / row['filename'], macs_dir / row['filename'])"
   ],
   "metadata": {
    "collapsed": false
   }
  },
  {
   "cell_type": "code",
   "execution_count": 33,
   "outputs": [
    {
     "data": {
      "text/plain": "                                  filename  \\\n0             airport-barcelona-0-0-a.flac   \n1            airport-barcelona-0-10-a.flac   \n2            airport-barcelona-0-11-a.flac   \n3            airport-barcelona-0-12-a.flac   \n4            airport-barcelona-0-13-a.flac   \n...                                    ...   \n3925  public_square-vienna-253-7600-a.flac   \n3926  public_square-vienna-253-7601-a.flac   \n3927  public_square-vienna-253-7602-a.flac   \n3928  public_square-vienna-253-7604-a.flac   \n3929  public_square-vienna-253-7605-a.flac   \n\n                                               captions  \\\n0     [a person whistling and singing, people are ta...   \n1     [whistling plates and cutlery clinging in a ca...   \n2     [whistling footsteps and adults talking, adult...   \n3     [distant adults talking some package unfolding...   \n4     [a lot of people are talking and walking aroun...   \n...                                                 ...   \n3925  [people talking while the baby cries, adults t...   \n3926  [a man talking some other person talking quiet...   \n3927  [far away traffic noise motorcycle birds and f...   \n3928  [sound of the group of people joyfully talking...   \n3929  [adults and children talking traffic noises, a...   \n\n                                                   tags         target  \n0                    [music, adults_talking, footsteps]        airport  \n1     [announcement_jingle, adults_talking, footstep...        airport  \n2                           [adults_talking, footsteps]        airport  \n3                           [adults_talking, footsteps]        airport  \n4          [adults_talking, children_voices, footsteps]        airport  \n...                                                 ...            ...  \n3925  [traffic_noise, adults_talking, children_voice...  public_square  \n3926         [footsteps, adults_talking, birds_singing]  public_square  \n3927     [traffic_noise, adults_talking, birds_singing]  public_square  \n3928    [ , adults_talking, children_voices, footsteps]  public_square  \n3929   [traffic_noise, adults_talking, children_voices]  public_square  \n\n[3930 rows x 4 columns]",
      "text/html": "<div>\n<style scoped>\n    .dataframe tbody tr th:only-of-type {\n        vertical-align: middle;\n    }\n\n    .dataframe tbody tr th {\n        vertical-align: top;\n    }\n\n    .dataframe thead th {\n        text-align: right;\n    }\n</style>\n<table border=\"1\" class=\"dataframe\">\n  <thead>\n    <tr style=\"text-align: right;\">\n      <th></th>\n      <th>filename</th>\n      <th>captions</th>\n      <th>tags</th>\n      <th>target</th>\n    </tr>\n  </thead>\n  <tbody>\n    <tr>\n      <th>0</th>\n      <td>airport-barcelona-0-0-a.flac</td>\n      <td>[a person whistling and singing, people are ta...</td>\n      <td>[music, adults_talking, footsteps]</td>\n      <td>airport</td>\n    </tr>\n    <tr>\n      <th>1</th>\n      <td>airport-barcelona-0-10-a.flac</td>\n      <td>[whistling plates and cutlery clinging in a ca...</td>\n      <td>[announcement_jingle, adults_talking, footstep...</td>\n      <td>airport</td>\n    </tr>\n    <tr>\n      <th>2</th>\n      <td>airport-barcelona-0-11-a.flac</td>\n      <td>[whistling footsteps and adults talking, adult...</td>\n      <td>[adults_talking, footsteps]</td>\n      <td>airport</td>\n    </tr>\n    <tr>\n      <th>3</th>\n      <td>airport-barcelona-0-12-a.flac</td>\n      <td>[distant adults talking some package unfolding...</td>\n      <td>[adults_talking, footsteps]</td>\n      <td>airport</td>\n    </tr>\n    <tr>\n      <th>4</th>\n      <td>airport-barcelona-0-13-a.flac</td>\n      <td>[a lot of people are talking and walking aroun...</td>\n      <td>[adults_talking, children_voices, footsteps]</td>\n      <td>airport</td>\n    </tr>\n    <tr>\n      <th>...</th>\n      <td>...</td>\n      <td>...</td>\n      <td>...</td>\n      <td>...</td>\n    </tr>\n    <tr>\n      <th>3925</th>\n      <td>public_square-vienna-253-7600-a.flac</td>\n      <td>[people talking while the baby cries, adults t...</td>\n      <td>[traffic_noise, adults_talking, children_voice...</td>\n      <td>public_square</td>\n    </tr>\n    <tr>\n      <th>3926</th>\n      <td>public_square-vienna-253-7601-a.flac</td>\n      <td>[a man talking some other person talking quiet...</td>\n      <td>[footsteps, adults_talking, birds_singing]</td>\n      <td>public_square</td>\n    </tr>\n    <tr>\n      <th>3927</th>\n      <td>public_square-vienna-253-7602-a.flac</td>\n      <td>[far away traffic noise motorcycle birds and f...</td>\n      <td>[traffic_noise, adults_talking, birds_singing]</td>\n      <td>public_square</td>\n    </tr>\n    <tr>\n      <th>3928</th>\n      <td>public_square-vienna-253-7604-a.flac</td>\n      <td>[sound of the group of people joyfully talking...</td>\n      <td>[ , adults_talking, children_voices, footsteps]</td>\n      <td>public_square</td>\n    </tr>\n    <tr>\n      <th>3929</th>\n      <td>public_square-vienna-253-7605-a.flac</td>\n      <td>[adults and children talking traffic noises, a...</td>\n      <td>[traffic_noise, adults_talking, children_voices]</td>\n      <td>public_square</td>\n    </tr>\n  </tbody>\n</table>\n<p>3930 rows × 4 columns</p>\n</div>"
     },
     "execution_count": 33,
     "metadata": {},
     "output_type": "execute_result"
    }
   ],
   "source": [
    "df = pd.read_parquet('/media/ts/SSD_ubuntu/datasets/MACS/MACS_annot.parquet')\n",
    "df"
   ],
   "metadata": {
    "collapsed": false
   }
  },
  {
   "cell_type": "code",
   "execution_count": 34,
   "outputs": [
    {
     "data": {
      "text/plain": "park             197\nairport          196\npublic_square    196\nName: target, dtype: int64"
     },
     "execution_count": 34,
     "metadata": {},
     "output_type": "execute_result"
    }
   ],
   "source": [
    "df['freq'] = 1. / df.groupby('target')['target'].transform('count')\n",
    "sampledf = df.sample(n=int(0.15 * len(df)), weights=df.freq)\n",
    "sampledf.target.value_counts()"
   ],
   "metadata": {
    "collapsed": false
   }
  },
  {
   "cell_type": "code",
   "execution_count": 35,
   "outputs": [
    {
     "data": {
      "text/plain": "                                    filename  \\\n1451           park-helsinki-242-7209-a.flac   \n769          airport-milan-1172-45710-a.flac   \n31             airport-barcelona-1-37-a.flac   \n3492     public_square-paris-118-3470-a.flac   \n3551  public_square-prague-1027-42405-a.flac   \n...                                      ...   \n2403          park-stockholm-102-2911-a.flac   \n243            airport-helsinki-4-216-a.flac   \n72             airport-barcelona-1-85-a.flac   \n1824             park-lyon-1012-40014-a.flac   \n3556  public_square-prague-1027-43553-a.flac   \n\n                                               captions  \\\n1451  [far away talking nearby footsteps and far awa...   \n769   [the person says something while people are ma...   \n31    [man talking while other people are walking in...   \n3492  [distant teenager voices in the middle, footst...   \n3551  [a whine of a motor and the air rushing over t...   \n...                                                 ...   \n2403  [footsteps on gravelly soil with electrical st...   \n243   [talking in the distance squeaky noises static...   \n72    [announcement jingle and somebody speak while ...   \n1824  [sound of a traffic road, very calm surroundin...   \n3556  [adults are walking and talking with a siren g...   \n\n                                                   tags         target  \n1451  [children_voices, dog_barking, footsteps, adul...           park  \n769   [traffic_noise, adults_talking, children_voice...        airport  \n31    [traffic_noise, adults_talking, children_voice...        airport  \n3492  [adults_talking, children_voices, footsteps, b...  public_square  \n3551                                 [ , traffic_noise]  public_square  \n...                                                 ...            ...  \n2403       [adults_talking, children_voices, footsteps]           park  \n243                                    [adults_talking]        airport  \n72    [announcement_jingle, adults_talking, children...        airport  \n1824                                 [traffic_noise,  ]           park  \n3556  [traffic_noise, adults_talking, siren, footsteps]  public_square  \n\n[589 rows x 4 columns]",
      "text/html": "<div>\n<style scoped>\n    .dataframe tbody tr th:only-of-type {\n        vertical-align: middle;\n    }\n\n    .dataframe tbody tr th {\n        vertical-align: top;\n    }\n\n    .dataframe thead th {\n        text-align: right;\n    }\n</style>\n<table border=\"1\" class=\"dataframe\">\n  <thead>\n    <tr style=\"text-align: right;\">\n      <th></th>\n      <th>filename</th>\n      <th>captions</th>\n      <th>tags</th>\n      <th>target</th>\n    </tr>\n  </thead>\n  <tbody>\n    <tr>\n      <th>1451</th>\n      <td>park-helsinki-242-7209-a.flac</td>\n      <td>[far away talking nearby footsteps and far awa...</td>\n      <td>[children_voices, dog_barking, footsteps, adul...</td>\n      <td>park</td>\n    </tr>\n    <tr>\n      <th>769</th>\n      <td>airport-milan-1172-45710-a.flac</td>\n      <td>[the person says something while people are ma...</td>\n      <td>[traffic_noise, adults_talking, children_voice...</td>\n      <td>airport</td>\n    </tr>\n    <tr>\n      <th>31</th>\n      <td>airport-barcelona-1-37-a.flac</td>\n      <td>[man talking while other people are walking in...</td>\n      <td>[traffic_noise, adults_talking, children_voice...</td>\n      <td>airport</td>\n    </tr>\n    <tr>\n      <th>3492</th>\n      <td>public_square-paris-118-3470-a.flac</td>\n      <td>[distant teenager voices in the middle, footst...</td>\n      <td>[adults_talking, children_voices, footsteps, b...</td>\n      <td>public_square</td>\n    </tr>\n    <tr>\n      <th>3551</th>\n      <td>public_square-prague-1027-42405-a.flac</td>\n      <td>[a whine of a motor and the air rushing over t...</td>\n      <td>[ , traffic_noise]</td>\n      <td>public_square</td>\n    </tr>\n    <tr>\n      <th>...</th>\n      <td>...</td>\n      <td>...</td>\n      <td>...</td>\n      <td>...</td>\n    </tr>\n    <tr>\n      <th>2403</th>\n      <td>park-stockholm-102-2911-a.flac</td>\n      <td>[footsteps on gravelly soil with electrical st...</td>\n      <td>[adults_talking, children_voices, footsteps]</td>\n      <td>park</td>\n    </tr>\n    <tr>\n      <th>243</th>\n      <td>airport-helsinki-4-216-a.flac</td>\n      <td>[talking in the distance squeaky noises static...</td>\n      <td>[adults_talking]</td>\n      <td>airport</td>\n    </tr>\n    <tr>\n      <th>72</th>\n      <td>airport-barcelona-1-85-a.flac</td>\n      <td>[announcement jingle and somebody speak while ...</td>\n      <td>[announcement_jingle, adults_talking, children...</td>\n      <td>airport</td>\n    </tr>\n    <tr>\n      <th>1824</th>\n      <td>park-lyon-1012-40014-a.flac</td>\n      <td>[sound of a traffic road, very calm surroundin...</td>\n      <td>[traffic_noise,  ]</td>\n      <td>park</td>\n    </tr>\n    <tr>\n      <th>3556</th>\n      <td>public_square-prague-1027-43553-a.flac</td>\n      <td>[adults are walking and talking with a siren g...</td>\n      <td>[traffic_noise, adults_talking, siren, footsteps]</td>\n      <td>public_square</td>\n    </tr>\n  </tbody>\n</table>\n<p>589 rows × 4 columns</p>\n</div>"
     },
     "execution_count": 35,
     "metadata": {},
     "output_type": "execute_result"
    }
   ],
   "source": [
    "sampledf = sampledf.drop(columns=['freq'])\n",
    "sampledf.to_parquet('/media/ts/SSD_ubuntu/datasets/MACS/annot_val.parquet', index=False)\n",
    "sampledf"
   ],
   "metadata": {
    "collapsed": false
   }
  },
  {
   "cell_type": "code",
   "execution_count": 36,
   "outputs": [
    {
     "data": {
      "text/plain": "                                  filename  \\\n0             airport-barcelona-0-0-a.flac   \n1            airport-barcelona-0-10-a.flac   \n3            airport-barcelona-0-12-a.flac   \n5            airport-barcelona-0-14-a.flac   \n7             airport-barcelona-0-3-a.flac   \n...                                    ...   \n3925  public_square-vienna-253-7600-a.flac   \n3926  public_square-vienna-253-7601-a.flac   \n3927  public_square-vienna-253-7602-a.flac   \n3928  public_square-vienna-253-7604-a.flac   \n3929  public_square-vienna-253-7605-a.flac   \n\n                                               captions  \\\n0     [a person whistling and singing, people are ta...   \n1     [whistling plates and cutlery clinging in a ca...   \n3     [distant adults talking some package unfolding...   \n5     [people are walking and talking, footsteps and...   \n7     [people talking and moving whistling sound in ...   \n...                                                 ...   \n3925  [people talking while the baby cries, adults t...   \n3926  [a man talking some other person talking quiet...   \n3927  [far away traffic noise motorcycle birds and f...   \n3928  [sound of the group of people joyfully talking...   \n3929  [adults and children talking traffic noises, a...   \n\n                                                   tags         target  \n0                    [music, adults_talking, footsteps]        airport  \n1     [announcement_jingle, adults_talking, footstep...        airport  \n3                           [adults_talking, footsteps]        airport  \n5                           [adults_talking, footsteps]        airport  \n7          [adults_talking, children_voices, footsteps]        airport  \n...                                                 ...            ...  \n3925  [traffic_noise, adults_talking, children_voice...  public_square  \n3926         [footsteps, adults_talking, birds_singing]  public_square  \n3927     [traffic_noise, adults_talking, birds_singing]  public_square  \n3928    [ , adults_talking, children_voices, footsteps]  public_square  \n3929   [traffic_noise, adults_talking, children_voices]  public_square  \n\n[3341 rows x 4 columns]",
      "text/html": "<div>\n<style scoped>\n    .dataframe tbody tr th:only-of-type {\n        vertical-align: middle;\n    }\n\n    .dataframe tbody tr th {\n        vertical-align: top;\n    }\n\n    .dataframe thead th {\n        text-align: right;\n    }\n</style>\n<table border=\"1\" class=\"dataframe\">\n  <thead>\n    <tr style=\"text-align: right;\">\n      <th></th>\n      <th>filename</th>\n      <th>captions</th>\n      <th>tags</th>\n      <th>target</th>\n    </tr>\n  </thead>\n  <tbody>\n    <tr>\n      <th>0</th>\n      <td>airport-barcelona-0-0-a.flac</td>\n      <td>[a person whistling and singing, people are ta...</td>\n      <td>[music, adults_talking, footsteps]</td>\n      <td>airport</td>\n    </tr>\n    <tr>\n      <th>1</th>\n      <td>airport-barcelona-0-10-a.flac</td>\n      <td>[whistling plates and cutlery clinging in a ca...</td>\n      <td>[announcement_jingle, adults_talking, footstep...</td>\n      <td>airport</td>\n    </tr>\n    <tr>\n      <th>3</th>\n      <td>airport-barcelona-0-12-a.flac</td>\n      <td>[distant adults talking some package unfolding...</td>\n      <td>[adults_talking, footsteps]</td>\n      <td>airport</td>\n    </tr>\n    <tr>\n      <th>5</th>\n      <td>airport-barcelona-0-14-a.flac</td>\n      <td>[people are walking and talking, footsteps and...</td>\n      <td>[adults_talking, footsteps]</td>\n      <td>airport</td>\n    </tr>\n    <tr>\n      <th>7</th>\n      <td>airport-barcelona-0-3-a.flac</td>\n      <td>[people talking and moving whistling sound in ...</td>\n      <td>[adults_talking, children_voices, footsteps]</td>\n      <td>airport</td>\n    </tr>\n    <tr>\n      <th>...</th>\n      <td>...</td>\n      <td>...</td>\n      <td>...</td>\n      <td>...</td>\n    </tr>\n    <tr>\n      <th>3925</th>\n      <td>public_square-vienna-253-7600-a.flac</td>\n      <td>[people talking while the baby cries, adults t...</td>\n      <td>[traffic_noise, adults_talking, children_voice...</td>\n      <td>public_square</td>\n    </tr>\n    <tr>\n      <th>3926</th>\n      <td>public_square-vienna-253-7601-a.flac</td>\n      <td>[a man talking some other person talking quiet...</td>\n      <td>[footsteps, adults_talking, birds_singing]</td>\n      <td>public_square</td>\n    </tr>\n    <tr>\n      <th>3927</th>\n      <td>public_square-vienna-253-7602-a.flac</td>\n      <td>[far away traffic noise motorcycle birds and f...</td>\n      <td>[traffic_noise, adults_talking, birds_singing]</td>\n      <td>public_square</td>\n    </tr>\n    <tr>\n      <th>3928</th>\n      <td>public_square-vienna-253-7604-a.flac</td>\n      <td>[sound of the group of people joyfully talking...</td>\n      <td>[ , adults_talking, children_voices, footsteps]</td>\n      <td>public_square</td>\n    </tr>\n    <tr>\n      <th>3929</th>\n      <td>public_square-vienna-253-7605-a.flac</td>\n      <td>[adults and children talking traffic noises, a...</td>\n      <td>[traffic_noise, adults_talking, children_voices]</td>\n      <td>public_square</td>\n    </tr>\n  </tbody>\n</table>\n<p>3341 rows × 4 columns</p>\n</div>"
     },
     "execution_count": 36,
     "metadata": {},
     "output_type": "execute_result"
    }
   ],
   "source": [
    "df = df.drop(index=sampledf.index, columns=['freq'])\n",
    "df.to_parquet('/media/ts/SSD_ubuntu/datasets/MACS/annot_train.parquet', index=False)\n",
    "df"
   ],
   "metadata": {
    "collapsed": false
   }
  },
  {
   "cell_type": "code",
   "execution_count": 55,
   "outputs": [
    {
     "data": {
      "text/plain": "                                        filename  \\\n0             train/airport-barcelona-0-0-a.flac   \n1            train/airport-barcelona-0-10-a.flac   \n2            train/airport-barcelona-0-12-a.flac   \n3            train/airport-barcelona-0-14-a.flac   \n4             train/airport-barcelona-0-3-a.flac   \n...                                          ...   \n3336  train/public_square-vienna-253-7600-a.flac   \n3337  train/public_square-vienna-253-7601-a.flac   \n3338  train/public_square-vienna-253-7602-a.flac   \n3339  train/public_square-vienna-253-7604-a.flac   \n3340  train/public_square-vienna-253-7605-a.flac   \n\n                                               captions  \\\n0     [a person whistling and singing, people are ta...   \n1     [whistling plates and cutlery clinging in a ca...   \n2     [distant adults talking some package unfolding...   \n3     [people are walking and talking, footsteps and...   \n4     [people talking and moving whistling sound in ...   \n...                                                 ...   \n3336  [people talking while the baby cries, adults t...   \n3337  [a man talking some other person talking quiet...   \n3338  [far away traffic noise motorcycle birds and f...   \n3339  [sound of the group of people joyfully talking...   \n3340  [adults and children talking traffic noises, a...   \n\n                                                   tags         target  \n0                    [music, adults_talking, footsteps]        airport  \n1     [announcement_jingle, adults_talking, footstep...        airport  \n2                           [adults_talking, footsteps]        airport  \n3                           [adults_talking, footsteps]        airport  \n4          [adults_talking, children_voices, footsteps]        airport  \n...                                                 ...            ...  \n3336  [traffic_noise, adults_talking, children_voice...  public_square  \n3337         [footsteps, adults_talking, birds_singing]  public_square  \n3338     [traffic_noise, adults_talking, birds_singing]  public_square  \n3339    [ , adults_talking, children_voices, footsteps]  public_square  \n3340   [traffic_noise, adults_talking, children_voices]  public_square  \n\n[3341 rows x 4 columns]",
      "text/html": "<div>\n<style scoped>\n    .dataframe tbody tr th:only-of-type {\n        vertical-align: middle;\n    }\n\n    .dataframe tbody tr th {\n        vertical-align: top;\n    }\n\n    .dataframe thead th {\n        text-align: right;\n    }\n</style>\n<table border=\"1\" class=\"dataframe\">\n  <thead>\n    <tr style=\"text-align: right;\">\n      <th></th>\n      <th>filename</th>\n      <th>captions</th>\n      <th>tags</th>\n      <th>target</th>\n    </tr>\n  </thead>\n  <tbody>\n    <tr>\n      <th>0</th>\n      <td>train/airport-barcelona-0-0-a.flac</td>\n      <td>[a person whistling and singing, people are ta...</td>\n      <td>[music, adults_talking, footsteps]</td>\n      <td>airport</td>\n    </tr>\n    <tr>\n      <th>1</th>\n      <td>train/airport-barcelona-0-10-a.flac</td>\n      <td>[whistling plates and cutlery clinging in a ca...</td>\n      <td>[announcement_jingle, adults_talking, footstep...</td>\n      <td>airport</td>\n    </tr>\n    <tr>\n      <th>2</th>\n      <td>train/airport-barcelona-0-12-a.flac</td>\n      <td>[distant adults talking some package unfolding...</td>\n      <td>[adults_talking, footsteps]</td>\n      <td>airport</td>\n    </tr>\n    <tr>\n      <th>3</th>\n      <td>train/airport-barcelona-0-14-a.flac</td>\n      <td>[people are walking and talking, footsteps and...</td>\n      <td>[adults_talking, footsteps]</td>\n      <td>airport</td>\n    </tr>\n    <tr>\n      <th>4</th>\n      <td>train/airport-barcelona-0-3-a.flac</td>\n      <td>[people talking and moving whistling sound in ...</td>\n      <td>[adults_talking, children_voices, footsteps]</td>\n      <td>airport</td>\n    </tr>\n    <tr>\n      <th>...</th>\n      <td>...</td>\n      <td>...</td>\n      <td>...</td>\n      <td>...</td>\n    </tr>\n    <tr>\n      <th>3336</th>\n      <td>train/public_square-vienna-253-7600-a.flac</td>\n      <td>[people talking while the baby cries, adults t...</td>\n      <td>[traffic_noise, adults_talking, children_voice...</td>\n      <td>public_square</td>\n    </tr>\n    <tr>\n      <th>3337</th>\n      <td>train/public_square-vienna-253-7601-a.flac</td>\n      <td>[a man talking some other person talking quiet...</td>\n      <td>[footsteps, adults_talking, birds_singing]</td>\n      <td>public_square</td>\n    </tr>\n    <tr>\n      <th>3338</th>\n      <td>train/public_square-vienna-253-7602-a.flac</td>\n      <td>[far away traffic noise motorcycle birds and f...</td>\n      <td>[traffic_noise, adults_talking, birds_singing]</td>\n      <td>public_square</td>\n    </tr>\n    <tr>\n      <th>3339</th>\n      <td>train/public_square-vienna-253-7604-a.flac</td>\n      <td>[sound of the group of people joyfully talking...</td>\n      <td>[ , adults_talking, children_voices, footsteps]</td>\n      <td>public_square</td>\n    </tr>\n    <tr>\n      <th>3340</th>\n      <td>train/public_square-vienna-253-7605-a.flac</td>\n      <td>[adults and children talking traffic noises, a...</td>\n      <td>[traffic_noise, adults_talking, children_voices]</td>\n      <td>public_square</td>\n    </tr>\n  </tbody>\n</table>\n<p>3341 rows × 4 columns</p>\n</div>"
     },
     "execution_count": 55,
     "metadata": {},
     "output_type": "execute_result"
    }
   ],
   "source": [
    "val_df = pd.read_parquet('/media/ts/SSD_ubuntu/datasets/MACS/macs/annot_train.parquet')\n",
    "val_df.filename = val_df.filename.apply(lambda x: 'train/' + x)\n",
    "val_df.to_parquet('/media/ts/SSD_ubuntu/datasets/MACS/annot_train.parquet',\n",
    "              index=False)\n",
    "val_df"
   ],
   "metadata": {
    "collapsed": false
   }
  }
 ],
 "metadata": {
  "kernelspec": {
   "display_name": "Python 3",
   "language": "python",
   "name": "python3"
  },
  "language_info": {
   "codemirror_mode": {
    "name": "ipython",
    "version": 2
   },
   "file_extension": ".py",
   "mimetype": "text/x-python",
   "name": "python",
   "nbconvert_exporter": "python",
   "pygments_lexer": "ipython2",
   "version": "2.7.6"
  }
 },
 "nbformat": 4,
 "nbformat_minor": 0
}
