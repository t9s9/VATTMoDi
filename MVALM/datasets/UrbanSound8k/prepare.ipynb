{
 "cells": [
  {
   "cell_type": "code",
   "execution_count": 3,
   "metadata": {
    "collapsed": true
   },
   "outputs": [],
   "source": [
    "import pandas as pd\n",
    "from pathlib import Path\n",
    "\n",
    "root = Path('/media/t9s9/SSD_ubuntu/datasets/UrbanSound8k/')"
   ]
  },
  {
   "cell_type": "code",
   "execution_count": 5,
   "outputs": [
    {
     "data": {
      "text/plain": "        slice_file_name    fsID      start        end  salience  fold  \\\n122    102857-5-0-0.wav  102857   0.000000   4.000000         1    10   \n123    102857-5-0-1.wav  102857   0.500000   4.500000         1    10   \n124   102857-5-0-10.wav  102857   5.000000   9.000000         1    10   \n125   102857-5-0-11.wav  102857   5.500000   9.500000         1    10   \n126   102857-5-0-12.wav  102857   6.000000  10.000000         1    10   \n...                 ...     ...        ...        ...       ...   ...   \n8532    94710-5-0-1.wav   94710   0.500000   4.500000         1     2   \n8533    94710-5-0-2.wav   94710   1.000000   5.000000         1     2   \n8534    94710-5-0-3.wav   94710   1.500000   5.500000         1     2   \n8535    94710-5-1-0.wav   94710  23.239672  25.325283         1     2   \n8539    95077-5-0-0.wav   95077   0.000000   3.137255         1     3   \n\n      classID          class  \n122         5  engine_idling  \n123         5  engine_idling  \n124         5  engine_idling  \n125         5  engine_idling  \n126         5  engine_idling  \n...       ...            ...  \n8532        5  engine_idling  \n8533        5  engine_idling  \n8534        5  engine_idling  \n8535        5  engine_idling  \n8539        5  engine_idling  \n\n[1000 rows x 8 columns]",
      "text/html": "<div>\n<style scoped>\n    .dataframe tbody tr th:only-of-type {\n        vertical-align: middle;\n    }\n\n    .dataframe tbody tr th {\n        vertical-align: top;\n    }\n\n    .dataframe thead th {\n        text-align: right;\n    }\n</style>\n<table border=\"1\" class=\"dataframe\">\n  <thead>\n    <tr style=\"text-align: right;\">\n      <th></th>\n      <th>slice_file_name</th>\n      <th>fsID</th>\n      <th>start</th>\n      <th>end</th>\n      <th>salience</th>\n      <th>fold</th>\n      <th>classID</th>\n      <th>class</th>\n    </tr>\n  </thead>\n  <tbody>\n    <tr>\n      <th>122</th>\n      <td>102857-5-0-0.wav</td>\n      <td>102857</td>\n      <td>0.000000</td>\n      <td>4.000000</td>\n      <td>1</td>\n      <td>10</td>\n      <td>5</td>\n      <td>engine_idling</td>\n    </tr>\n    <tr>\n      <th>123</th>\n      <td>102857-5-0-1.wav</td>\n      <td>102857</td>\n      <td>0.500000</td>\n      <td>4.500000</td>\n      <td>1</td>\n      <td>10</td>\n      <td>5</td>\n      <td>engine_idling</td>\n    </tr>\n    <tr>\n      <th>124</th>\n      <td>102857-5-0-10.wav</td>\n      <td>102857</td>\n      <td>5.000000</td>\n      <td>9.000000</td>\n      <td>1</td>\n      <td>10</td>\n      <td>5</td>\n      <td>engine_idling</td>\n    </tr>\n    <tr>\n      <th>125</th>\n      <td>102857-5-0-11.wav</td>\n      <td>102857</td>\n      <td>5.500000</td>\n      <td>9.500000</td>\n      <td>1</td>\n      <td>10</td>\n      <td>5</td>\n      <td>engine_idling</td>\n    </tr>\n    <tr>\n      <th>126</th>\n      <td>102857-5-0-12.wav</td>\n      <td>102857</td>\n      <td>6.000000</td>\n      <td>10.000000</td>\n      <td>1</td>\n      <td>10</td>\n      <td>5</td>\n      <td>engine_idling</td>\n    </tr>\n    <tr>\n      <th>...</th>\n      <td>...</td>\n      <td>...</td>\n      <td>...</td>\n      <td>...</td>\n      <td>...</td>\n      <td>...</td>\n      <td>...</td>\n      <td>...</td>\n    </tr>\n    <tr>\n      <th>8532</th>\n      <td>94710-5-0-1.wav</td>\n      <td>94710</td>\n      <td>0.500000</td>\n      <td>4.500000</td>\n      <td>1</td>\n      <td>2</td>\n      <td>5</td>\n      <td>engine_idling</td>\n    </tr>\n    <tr>\n      <th>8533</th>\n      <td>94710-5-0-2.wav</td>\n      <td>94710</td>\n      <td>1.000000</td>\n      <td>5.000000</td>\n      <td>1</td>\n      <td>2</td>\n      <td>5</td>\n      <td>engine_idling</td>\n    </tr>\n    <tr>\n      <th>8534</th>\n      <td>94710-5-0-3.wav</td>\n      <td>94710</td>\n      <td>1.500000</td>\n      <td>5.500000</td>\n      <td>1</td>\n      <td>2</td>\n      <td>5</td>\n      <td>engine_idling</td>\n    </tr>\n    <tr>\n      <th>8535</th>\n      <td>94710-5-1-0.wav</td>\n      <td>94710</td>\n      <td>23.239672</td>\n      <td>25.325283</td>\n      <td>1</td>\n      <td>2</td>\n      <td>5</td>\n      <td>engine_idling</td>\n    </tr>\n    <tr>\n      <th>8539</th>\n      <td>95077-5-0-0.wav</td>\n      <td>95077</td>\n      <td>0.000000</td>\n      <td>3.137255</td>\n      <td>1</td>\n      <td>3</td>\n      <td>5</td>\n      <td>engine_idling</td>\n    </tr>\n  </tbody>\n</table>\n<p>1000 rows × 8 columns</p>\n</div>"
     },
     "execution_count": 5,
     "metadata": {},
     "output_type": "execute_result"
    }
   ],
   "source": [
    "annot = pd.read_csv(root / 'UrbanSound8K.csv')"
   ],
   "metadata": {
    "collapsed": false
   }
  },
  {
   "cell_type": "code",
   "execution_count": 15,
   "outputs": [
    {
     "data": {
      "text/plain": "{3: 'dog_bark',\n 2: 'children_playing',\n 1: 'car_horn',\n 0: 'air_conditioner',\n 9: 'street_music',\n 6: 'gun_shot',\n 8: 'siren',\n 5: 'engine_idling',\n 7: 'jackhammer',\n 4: 'drilling'}"
     },
     "execution_count": 15,
     "metadata": {},
     "output_type": "execute_result"
    }
   ],
   "source": [
    "annot[['classID', 'class']].drop_duplicates().set_index('classID').to_dict()['class']"
   ],
   "metadata": {
    "collapsed": false
   }
  },
  {
   "cell_type": "code",
   "execution_count": 16,
   "outputs": [],
   "source": [
    "annot['filename'] = annot.apply(lambda row: str(Path('fold' + str(row['fold'])) / row['slice_file_name']), result_type='expand', axis=1)"
   ],
   "metadata": {
    "collapsed": false
   }
  },
  {
   "cell_type": "code",
   "execution_count": 17,
   "outputs": [],
   "source": [
    "annot = annot[['filename', 'classID', 'fold']].rename(columns={'classID': 'target'})"
   ],
   "metadata": {
    "collapsed": false
   }
  },
  {
   "cell_type": "code",
   "execution_count": 18,
   "outputs": [
    {
     "data": {
      "text/plain": "True"
     },
     "execution_count": 18,
     "metadata": {},
     "output_type": "execute_result"
    }
   ],
   "source": [
    "annot.filename.apply(lambda x: (root / x).exists()).sum() == len(annot)"
   ],
   "metadata": {
    "collapsed": false
   }
  },
  {
   "cell_type": "code",
   "execution_count": 19,
   "outputs": [],
   "source": [
    "annot.to_parquet(root / 'urbansound.parquet', index=False)"
   ],
   "metadata": {
    "collapsed": false
   }
  }
 ],
 "metadata": {
  "kernelspec": {
   "display_name": "Python 3",
   "language": "python",
   "name": "python3"
  },
  "language_info": {
   "codemirror_mode": {
    "name": "ipython",
    "version": 2
   },
   "file_extension": ".py",
   "mimetype": "text/x-python",
   "name": "python",
   "nbconvert_exporter": "python",
   "pygments_lexer": "ipython2",
   "version": "2.7.6"
  }
 },
 "nbformat": 4,
 "nbformat_minor": 0
}
