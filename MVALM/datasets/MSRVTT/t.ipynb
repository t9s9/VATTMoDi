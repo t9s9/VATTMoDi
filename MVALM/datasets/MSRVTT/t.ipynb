{
 "cells": [
  {
   "cell_type": "code",
   "execution_count": 2,
   "metadata": {
    "collapsed": true,
    "pycharm": {
     "name": "#%%\n"
    }
   },
   "outputs": [],
   "source": [
    "from pathlib import Path\n",
    "import pandas as pd"
   ]
  },
  {
   "cell_type": "code",
   "execution_count": 11,
   "outputs": [
    {
     "data": {
      "text/plain": "        key                                        description      title  \\\n0      ret0         a person is connecting something to system  video9770   \n1      ret1                      a little girl does gymnastics  video9771   \n2      ret2         a woman creating a fondant baby and flower  video7020   \n3      ret3                     a boy plays grand theft auto 5  video9773   \n4      ret4              a man is giving a review on a vehicle  video7026   \n..      ...                                                ...        ...   \n995  ret995         the young performer impressed his audience  video9879   \n996  ret996                     some peole are sitting in hall  video9878   \n997  ret997                     man shows how to prepare pizza  video9873   \n998  ret998  someone is playing a first person shooter game...  video9872   \n999  ret999   bearded guy in grey tshirt talking to the camera  video9871   \n\n     vid_key  \n0    msr9770  \n1    msr9771  \n2    msr7020  \n3    msr9773  \n4    msr7026  \n..       ...  \n995  msr9879  \n996  msr9878  \n997  msr9873  \n998  msr9872  \n999  msr9871  \n\n[1000 rows x 4 columns]",
      "text/html": "<div>\n<style scoped>\n    .dataframe tbody tr th:only-of-type {\n        vertical-align: middle;\n    }\n\n    .dataframe tbody tr th {\n        vertical-align: top;\n    }\n\n    .dataframe thead th {\n        text-align: right;\n    }\n</style>\n<table border=\"1\" class=\"dataframe\">\n  <thead>\n    <tr style=\"text-align: right;\">\n      <th></th>\n      <th>key</th>\n      <th>description</th>\n      <th>title</th>\n      <th>vid_key</th>\n    </tr>\n  </thead>\n  <tbody>\n    <tr>\n      <th>0</th>\n      <td>ret0</td>\n      <td>a person is connecting something to system</td>\n      <td>video9770</td>\n      <td>msr9770</td>\n    </tr>\n    <tr>\n      <th>1</th>\n      <td>ret1</td>\n      <td>a little girl does gymnastics</td>\n      <td>video9771</td>\n      <td>msr9771</td>\n    </tr>\n    <tr>\n      <th>2</th>\n      <td>ret2</td>\n      <td>a woman creating a fondant baby and flower</td>\n      <td>video7020</td>\n      <td>msr7020</td>\n    </tr>\n    <tr>\n      <th>3</th>\n      <td>ret3</td>\n      <td>a boy plays grand theft auto 5</td>\n      <td>video9773</td>\n      <td>msr9773</td>\n    </tr>\n    <tr>\n      <th>4</th>\n      <td>ret4</td>\n      <td>a man is giving a review on a vehicle</td>\n      <td>video7026</td>\n      <td>msr7026</td>\n    </tr>\n    <tr>\n      <th>...</th>\n      <td>...</td>\n      <td>...</td>\n      <td>...</td>\n      <td>...</td>\n    </tr>\n    <tr>\n      <th>995</th>\n      <td>ret995</td>\n      <td>the young performer impressed his audience</td>\n      <td>video9879</td>\n      <td>msr9879</td>\n    </tr>\n    <tr>\n      <th>996</th>\n      <td>ret996</td>\n      <td>some peole are sitting in hall</td>\n      <td>video9878</td>\n      <td>msr9878</td>\n    </tr>\n    <tr>\n      <th>997</th>\n      <td>ret997</td>\n      <td>man shows how to prepare pizza</td>\n      <td>video9873</td>\n      <td>msr9873</td>\n    </tr>\n    <tr>\n      <th>998</th>\n      <td>ret998</td>\n      <td>someone is playing a first person shooter game...</td>\n      <td>video9872</td>\n      <td>msr9872</td>\n    </tr>\n    <tr>\n      <th>999</th>\n      <td>ret999</td>\n      <td>bearded guy in grey tshirt talking to the camera</td>\n      <td>video9871</td>\n      <td>msr9871</td>\n    </tr>\n  </tbody>\n</table>\n<p>1000 rows × 4 columns</p>\n</div>"
     },
     "execution_count": 11,
     "metadata": {},
     "output_type": "execute_result"
    }
   ],
   "source": [
    "df = pd.read_csv('/media/ts/SSD_ubuntu/datasets/MSRVTT/MSR_RET_test.csv', sep='\\t')\n",
    "df"
   ],
   "metadata": {
    "collapsed": false,
    "pycharm": {
     "name": "#%%\n"
    }
   }
  },
  {
   "cell_type": "code",
   "execution_count": 13,
   "outputs": [
    {
     "data": {
      "text/plain": "          filename                                           captions\n0    video9770.mp4       [a person is connecting something to system]\n1    video9771.mp4                    [a little girl does gymnastics]\n2    video7020.mp4       [a woman creating a fondant baby and flower]\n3    video9773.mp4                   [a boy plays grand theft auto 5]\n4    video7026.mp4            [a man is giving a review on a vehicle]\n..             ...                                                ...\n995  video9879.mp4       [the young performer impressed his audience]\n996  video9878.mp4                   [some peole are sitting in hall]\n997  video9873.mp4                   [man shows how to prepare pizza]\n998  video9872.mp4  [someone is playing a first person shooter gam...\n999  video9871.mp4  [bearded guy in grey tshirt talking to the cam...\n\n[1000 rows x 2 columns]",
      "text/html": "<div>\n<style scoped>\n    .dataframe tbody tr th:only-of-type {\n        vertical-align: middle;\n    }\n\n    .dataframe tbody tr th {\n        vertical-align: top;\n    }\n\n    .dataframe thead th {\n        text-align: right;\n    }\n</style>\n<table border=\"1\" class=\"dataframe\">\n  <thead>\n    <tr style=\"text-align: right;\">\n      <th></th>\n      <th>filename</th>\n      <th>captions</th>\n    </tr>\n  </thead>\n  <tbody>\n    <tr>\n      <th>0</th>\n      <td>video9770.mp4</td>\n      <td>[a person is connecting something to system]</td>\n    </tr>\n    <tr>\n      <th>1</th>\n      <td>video9771.mp4</td>\n      <td>[a little girl does gymnastics]</td>\n    </tr>\n    <tr>\n      <th>2</th>\n      <td>video7020.mp4</td>\n      <td>[a woman creating a fondant baby and flower]</td>\n    </tr>\n    <tr>\n      <th>3</th>\n      <td>video9773.mp4</td>\n      <td>[a boy plays grand theft auto 5]</td>\n    </tr>\n    <tr>\n      <th>4</th>\n      <td>video7026.mp4</td>\n      <td>[a man is giving a review on a vehicle]</td>\n    </tr>\n    <tr>\n      <th>...</th>\n      <td>...</td>\n      <td>...</td>\n    </tr>\n    <tr>\n      <th>995</th>\n      <td>video9879.mp4</td>\n      <td>[the young performer impressed his audience]</td>\n    </tr>\n    <tr>\n      <th>996</th>\n      <td>video9878.mp4</td>\n      <td>[some peole are sitting in hall]</td>\n    </tr>\n    <tr>\n      <th>997</th>\n      <td>video9873.mp4</td>\n      <td>[man shows how to prepare pizza]</td>\n    </tr>\n    <tr>\n      <th>998</th>\n      <td>video9872.mp4</td>\n      <td>[someone is playing a first person shooter gam...</td>\n    </tr>\n    <tr>\n      <th>999</th>\n      <td>video9871.mp4</td>\n      <td>[bearded guy in grey tshirt talking to the cam...</td>\n    </tr>\n  </tbody>\n</table>\n<p>1000 rows × 2 columns</p>\n</div>"
     },
     "execution_count": 13,
     "metadata": {},
     "output_type": "execute_result"
    }
   ],
   "source": [
    "df['filename'] = df['title'].apply(lambda x: x + '.mp4')\n",
    "df['captions'] = df['description'].apply(lambda x: [x])\n",
    "df = df[['filename', 'captions']]\n",
    "df"
   ],
   "metadata": {
    "collapsed": false,
    "pycharm": {
     "name": "#%%\n"
    }
   }
  },
  {
   "cell_type": "code",
   "execution_count": 16,
   "outputs": [
    {
     "name": "stdout",
     "output_type": "stream",
     "text": [
      "/media/ts/SSD_ubuntu/datasets/MSRVTT/data/test/video8915.mp4\n",
      "/media/ts/SSD_ubuntu/datasets/MSRVTT/data/test/video8919.mp4\n",
      "/media/ts/SSD_ubuntu/datasets/MSRVTT/data/test/video9517.mp4\n",
      "/media/ts/SSD_ubuntu/datasets/MSRVTT/data/test/video9208.mp4\n",
      "/media/ts/SSD_ubuntu/datasets/MSRVTT/data/test/video9349.mp4\n",
      "/media/ts/SSD_ubuntu/datasets/MSRVTT/data/test/video9340.mp4\n",
      "/media/ts/SSD_ubuntu/datasets/MSRVTT/data/test/video9838.mp4\n",
      "/media/ts/SSD_ubuntu/datasets/MSRVTT/data/test/video7831.mp4\n",
      "/media/ts/SSD_ubuntu/datasets/MSRVTT/data/test/video9622.mp4\n",
      "/media/ts/SSD_ubuntu/datasets/MSRVTT/data/test/video8903.mp4\n",
      "/media/ts/SSD_ubuntu/datasets/MSRVTT/data/test/video7695.mp4\n",
      "/media/ts/SSD_ubuntu/datasets/MSRVTT/data/test/video7164.mp4\n",
      "/media/ts/SSD_ubuntu/datasets/MSRVTT/data/test/video9697.mp4\n",
      "/media/ts/SSD_ubuntu/datasets/MSRVTT/data/test/video9524.mp4\n",
      "/media/ts/SSD_ubuntu/datasets/MSRVTT/data/test/video9522.mp4\n",
      "/media/ts/SSD_ubuntu/datasets/MSRVTT/data/test/video9352.mp4\n",
      "/media/ts/SSD_ubuntu/datasets/MSRVTT/data/test/video9350.mp4\n",
      "/media/ts/SSD_ubuntu/datasets/MSRVTT/data/test/video8337.mp4\n",
      "/media/ts/SSD_ubuntu/datasets/MSRVTT/data/test/video8245.mp4\n",
      "/media/ts/SSD_ubuntu/datasets/MSRVTT/data/test/video8461.mp4\n",
      "/media/ts/SSD_ubuntu/datasets/MSRVTT/data/test/video7227.mp4\n",
      "/media/ts/SSD_ubuntu/datasets/MSRVTT/data/test/video7919.mp4\n",
      "/media/ts/SSD_ubuntu/datasets/MSRVTT/data/test/video8662.mp4\n",
      "/media/ts/SSD_ubuntu/datasets/MSRVTT/data/test/video7179.mp4\n",
      "/media/ts/SSD_ubuntu/datasets/MSRVTT/data/test/video7175.mp4\n",
      "/media/ts/SSD_ubuntu/datasets/MSRVTT/data/test/video8800.mp4\n",
      "/media/ts/SSD_ubuntu/datasets/MSRVTT/data/test/video8805.mp4\n",
      "/media/ts/SSD_ubuntu/datasets/MSRVTT/data/test/video8806.mp4\n",
      "/media/ts/SSD_ubuntu/datasets/MSRVTT/data/test/video9323.mp4\n",
      "/media/ts/SSD_ubuntu/datasets/MSRVTT/data/test/video9321.mp4\n",
      "/media/ts/SSD_ubuntu/datasets/MSRVTT/data/test/video9326.mp4\n",
      "/media/ts/SSD_ubuntu/datasets/MSRVTT/data/test/video7218.mp4\n",
      "/media/ts/SSD_ubuntu/datasets/MSRVTT/data/test/video9258.mp4\n",
      "/media/ts/SSD_ubuntu/datasets/MSRVTT/data/test/video9336.mp4\n",
      "/media/ts/SSD_ubuntu/datasets/MSRVTT/data/test/video7976.mp4\n",
      "/media/ts/SSD_ubuntu/datasets/MSRVTT/data/test/video8687.mp4\n",
      "/media/ts/SSD_ubuntu/datasets/MSRVTT/data/test/video8671.mp4\n"
     ]
    },
    {
     "data": {
      "text/plain": "37"
     },
     "execution_count": 16,
     "metadata": {},
     "output_type": "execute_result"
    }
   ],
   "source": [
    "root = Path('/media/ts/SSD_ubuntu/datasets/MSRVTT/data/test')\n",
    "c = 0\n",
    "for i, (filename, captions) in df.iterrows():\n",
    "    if not (root / filename).exists():\n",
    "        print(root / filename)\n",
    "        c+=1\n",
    "c"
   ],
   "metadata": {
    "collapsed": false,
    "pycharm": {
     "name": "#%%\n"
    }
   }
  }
 ],
 "metadata": {
  "kernelspec": {
   "display_name": "Python 3",
   "language": "python",
   "name": "python3"
  },
  "language_info": {
   "codemirror_mode": {
    "name": "ipython",
    "version": 2
   },
   "file_extension": ".py",
   "mimetype": "text/x-python",
   "name": "python",
   "nbconvert_exporter": "python",
   "pygments_lexer": "ipython2",
   "version": "2.7.6"
  }
 },
 "nbformat": 4,
 "nbformat_minor": 0
}