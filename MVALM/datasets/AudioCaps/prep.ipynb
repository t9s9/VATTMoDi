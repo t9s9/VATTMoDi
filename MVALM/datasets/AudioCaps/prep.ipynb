{
 "cells": [
  {
   "cell_type": "code",
   "execution_count": 2,
   "metadata": {
    "collapsed": true
   },
   "outputs": [],
   "source": [
    "import pandas as pd"
   ]
  },
  {
   "cell_type": "code",
   "execution_count": 4,
   "outputs": [
    {
     "data": {
      "text/plain": "                                  filename  \\\n0      train/---1_cCGK4M_000000_000010.mp4   \n1      train/---lTs1dxhU_000030_000040.mp4   \n2      train/--0PQM4-hqg_000030_000040.mp4   \n3      train/--1l6WGE7AU_000030_000040.mp4   \n4      train/--299m5_DdE_000000_000010.mp4   \n...                                    ...   \n45791  train/zzlfP-snUeY_000010_000020.mp4   \n45792  train/zzm3dwoXY8Y_000030_000040.mp4   \n45793  train/zzvWbSyZfr0_000000_000010.mp4   \n45794  train/zzwBazlj0Oc_000030_000040.mp4   \n45795  train/zzznDcamMpw_000000_000010.mp4   \n\n                                                captions  \\\n0              [Idling car, train blows horn and passes]   \n1          [A racing vehicle engine is heard passing by]   \n2                 [A waterfall is pouring into a stream]   \n3                               [A man speaks earnestly]   \n4      [Water flows as a child shouts in the background]   \n...                                                  ...   \n45791                       [A vehicle engine is idling]   \n45792  [A man talking as a flock of pigeons coo follo...   \n45793  [A person snoring as a man speaks through a te...   \n45794         [Several pigeons coo and flap their wings]   \n45795  [A duck quacking as a man is softly talking in...   \n\n                                                    tags  \n0      [Railroad car, train wagon, Train horn, Rail t...  \n1      [Motor vehicle (road), Vehicle, Car, Car passi...  \n2                          [Gurgling, Waterfall, Stream]  \n3      [Narration, monologue, Male speech, man speaki...  \n4                                  [Gurgling, Waterfall]  \n...                                                  ...  \n45791  [Engine, Idling, Vehicle, Outside, rural or na...  \n45792  [Bird, Speech, Pigeon, dove, Outside, rural or...  \n45793                                  [Snoring, Speech]  \n45794           [Bird, Pigeon, dove, Inside, small room]  \n45795                                     [Duck, Speech]  \n\n[45796 rows x 3 columns]",
      "text/html": "<div>\n<style scoped>\n    .dataframe tbody tr th:only-of-type {\n        vertical-align: middle;\n    }\n\n    .dataframe tbody tr th {\n        vertical-align: top;\n    }\n\n    .dataframe thead th {\n        text-align: right;\n    }\n</style>\n<table border=\"1\" class=\"dataframe\">\n  <thead>\n    <tr style=\"text-align: right;\">\n      <th></th>\n      <th>filename</th>\n      <th>captions</th>\n      <th>tags</th>\n    </tr>\n  </thead>\n  <tbody>\n    <tr>\n      <th>0</th>\n      <td>train/---1_cCGK4M_000000_000010.mp4</td>\n      <td>[Idling car, train blows horn and passes]</td>\n      <td>[Railroad car, train wagon, Train horn, Rail t...</td>\n    </tr>\n    <tr>\n      <th>1</th>\n      <td>train/---lTs1dxhU_000030_000040.mp4</td>\n      <td>[A racing vehicle engine is heard passing by]</td>\n      <td>[Motor vehicle (road), Vehicle, Car, Car passi...</td>\n    </tr>\n    <tr>\n      <th>2</th>\n      <td>train/--0PQM4-hqg_000030_000040.mp4</td>\n      <td>[A waterfall is pouring into a stream]</td>\n      <td>[Gurgling, Waterfall, Stream]</td>\n    </tr>\n    <tr>\n      <th>3</th>\n      <td>train/--1l6WGE7AU_000030_000040.mp4</td>\n      <td>[A man speaks earnestly]</td>\n      <td>[Narration, monologue, Male speech, man speaki...</td>\n    </tr>\n    <tr>\n      <th>4</th>\n      <td>train/--299m5_DdE_000000_000010.mp4</td>\n      <td>[Water flows as a child shouts in the background]</td>\n      <td>[Gurgling, Waterfall]</td>\n    </tr>\n    <tr>\n      <th>...</th>\n      <td>...</td>\n      <td>...</td>\n      <td>...</td>\n    </tr>\n    <tr>\n      <th>45791</th>\n      <td>train/zzlfP-snUeY_000010_000020.mp4</td>\n      <td>[A vehicle engine is idling]</td>\n      <td>[Engine, Idling, Vehicle, Outside, rural or na...</td>\n    </tr>\n    <tr>\n      <th>45792</th>\n      <td>train/zzm3dwoXY8Y_000030_000040.mp4</td>\n      <td>[A man talking as a flock of pigeons coo follo...</td>\n      <td>[Bird, Speech, Pigeon, dove, Outside, rural or...</td>\n    </tr>\n    <tr>\n      <th>45793</th>\n      <td>train/zzvWbSyZfr0_000000_000010.mp4</td>\n      <td>[A person snoring as a man speaks through a te...</td>\n      <td>[Snoring, Speech]</td>\n    </tr>\n    <tr>\n      <th>45794</th>\n      <td>train/zzwBazlj0Oc_000030_000040.mp4</td>\n      <td>[Several pigeons coo and flap their wings]</td>\n      <td>[Bird, Pigeon, dove, Inside, small room]</td>\n    </tr>\n    <tr>\n      <th>45795</th>\n      <td>train/zzznDcamMpw_000000_000010.mp4</td>\n      <td>[A duck quacking as a man is softly talking in...</td>\n      <td>[Duck, Speech]</td>\n    </tr>\n  </tbody>\n</table>\n<p>45796 rows × 3 columns</p>\n</div>"
     },
     "execution_count": 4,
     "metadata": {},
     "output_type": "execute_result"
    }
   ],
   "source": [
    "p = '/home/t9s9/Datasets/AudioCaps/annot_tags_train.parquet'\n",
    "df = pd.read_parquet(p)\n",
    "# df = df.rename(columns={'target': 'captions'})\n",
    "# df.to_parquet(p, index=False)\n",
    "df"
   ],
   "metadata": {
    "collapsed": false
   }
  },
  {
   "cell_type": "code",
   "execution_count": 17,
   "outputs": [],
   "source": [
    "df.to_parquet(p, index=False)"
   ],
   "metadata": {
    "collapsed": false
   }
  },
  {
   "cell_type": "markdown",
   "source": [
    "## Visual Captions"
   ],
   "metadata": {
    "collapsed": false
   }
  },
  {
   "cell_type": "code",
   "execution_count": 18,
   "outputs": [],
   "source": [
    "from PIL import Image\n",
    "from pathlib import Path\n",
    "image_root = Path(\"/media/ts/SSD_ubuntu/datasets/AudioCaps/images/\")"
   ],
   "metadata": {
    "collapsed": false
   }
  },
  {
   "cell_type": "code",
   "execution_count": 16,
   "outputs": [],
   "source": [
    "vis_train = pd.read_parquet('/media/ts/SSD_ubuntu/datasets/AudioCaps/visual_captions/vis_caption_val.parquet').rename(columns={'caption': 'visual'})\n",
    "aud_train = pd.read_parquet('/media/ts/SSD_ubuntu/datasets/AudioCaps/annot_val.parquet').rename(columns={'captions': 'audio'})\n",
    "merge = vis_train.merge(aud_train, on='filename')\n",
    "merge.audio = merge.audio.apply(lambda x: x[0])"
   ],
   "metadata": {
    "collapsed": false
   }
  },
  {
   "cell_type": "code",
   "execution_count": 22,
   "outputs": [
    {
     "data": {
      "text/plain": "filename                    val/ztQ79sWWC34_000060_000070.mp4\nvisual      a little girl is making a bowl of soup in the ...\naudio       A child speaks with some light rustling and cl...\nName: 2, dtype: object"
     },
     "execution_count": 22,
     "metadata": {},
     "output_type": "execute_result"
    }
   ],
   "source": [
    "dp = merge.iloc[2]\n",
    "dp"
   ],
   "metadata": {
    "collapsed": false
   }
  }
 ],
 "metadata": {
  "kernelspec": {
   "display_name": "Python 3",
   "language": "python",
   "name": "python3"
  },
  "language_info": {
   "codemirror_mode": {
    "name": "ipython",
    "version": 2
   },
   "file_extension": ".py",
   "mimetype": "text/x-python",
   "name": "python",
   "nbconvert_exporter": "python",
   "pygments_lexer": "ipython2",
   "version": "2.7.6"
  }
 },
 "nbformat": 4,
 "nbformat_minor": 0
}
