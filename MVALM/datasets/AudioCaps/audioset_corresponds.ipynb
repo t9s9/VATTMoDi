{
 "cells": [
  {
   "cell_type": "code",
   "execution_count": 1,
   "metadata": {
    "collapsed": true,
    "pycharm": {
     "name": "#%%\n"
    }
   },
   "outputs": [],
   "source": [
    "import pandas as pd\n",
    "from pathlib import Path"
   ]
  },
  {
   "cell_type": "code",
   "execution_count": 14,
   "outputs": [],
   "source": [
    "root = Path('/media/ts/SSD_ubuntu/datasets/')\n",
    "\n",
    "audioset_train = pd.read_csv(root / 'AudioSet/audioset_train.csv')\n",
    "audioset_tag2name = pd.read_csv(root / 'AudioSet/class_labels_indices.csv').set_index('mid')\n",
    "audioset_tag2name = audioset_tag2name['display_name'].to_dict()"
   ],
   "metadata": {
    "collapsed": false,
    "pycharm": {
     "name": "#%%\n"
    }
   }
  },
  {
   "cell_type": "code",
   "execution_count": 58,
   "outputs": [],
   "source": [
    "for split in ['train', 'test', 'val']:\n",
    "    df = pd.read_parquet(root / f'AudioCaps/annot_{split}.parquet')\n",
    "    df['youtube_id'] = df.filename.apply(lambda x: Path(x).stem[:11])\n",
    "    df['time_start'] = df.filename.apply(lambda x: float(Path(x).stem[12:18]))\n",
    "    df['time_end'] = df.filename.apply(lambda x: float(Path(x).stem[19:]))\n",
    "    # merging over 'youtube_id' (excluding 'time_start', 'time_end') is sufficient since the\n",
    "    # id is unique and AudioCaps round the clips to 10s.\n",
    "    merge = df.merge(audioset_train, on=['youtube_id'], how='inner')\n",
    "    assert len(merge) == len(df)\n",
    "    merge['tags'] = merge.positive_labels.apply(lambda x: [audioset_tag2name[i] for i in x.strip('\"').split(',')])\n",
    "    merge = merge.drop(columns=['time_start_x', 'time_end_x', 'time_end_y', 'time_start_y', 'youtube_id', 'positive_labels'])\n",
    "    merge.to_parquet(root / f'AudioCaps/annot_tags_{split}.parquet', index=False)"
   ],
   "metadata": {
    "collapsed": false,
    "pycharm": {
     "name": "#%%\n"
    }
   }
  },
  {
   "cell_type": "code",
   "execution_count": 3,
   "outputs": [
    {
     "data": {
      "text/plain": "                                  filename  \\\n0      train/---1_cCGK4M_000000_000010.mp4   \n1      train/---lTs1dxhU_000030_000040.mp4   \n2      train/--0PQM4-hqg_000030_000040.mp4   \n3      train/--1l6WGE7AU_000030_000040.mp4   \n4      train/--299m5_DdE_000000_000010.mp4   \n...                                    ...   \n45794  train/zzlfP-snUeY_000010_000020.mp4   \n45795  train/zzm3dwoXY8Y_000030_000040.mp4   \n45796  train/zzvWbSyZfr0_000000_000010.mp4   \n45797  train/zzwBazlj0Oc_000030_000040.mp4   \n45798  train/zzznDcamMpw_000000_000010.mp4   \n\n                                                captions  \\\n0              [Idling car, train blows horn and passes]   \n1          [A racing vehicle engine is heard passing by]   \n2                 [A waterfall is pouring into a stream]   \n3                               [A man speaks earnestly]   \n4      [Water flows as a child shouts in the background]   \n...                                                  ...   \n45794                       [A vehicle engine is idling]   \n45795  [A man talking as a flock of pigeons coo follo...   \n45796  [A person snoring as a man speaks through a te...   \n45797         [Several pigeons coo and flap their wings]   \n45798  [A duck quacking as a man is softly talking in...   \n\n                                                    tags  \n0      [Railroad car, train wagon, Train horn, Rail t...  \n1      [Motor vehicle (road), Vehicle, Car, Car passi...  \n2                          [Gurgling, Waterfall, Stream]  \n3      [Narration, monologue, Male speech, man speaki...  \n4                                  [Gurgling, Waterfall]  \n...                                                  ...  \n45794  [Engine, Idling, Vehicle, Outside, rural or na...  \n45795  [Bird, Speech, Pigeon, dove, Outside, rural or...  \n45796                                  [Snoring, Speech]  \n45797           [Bird, Pigeon, dove, Inside, small room]  \n45798                                     [Duck, Speech]  \n\n[45799 rows x 3 columns]",
      "text/html": "<div>\n<style scoped>\n    .dataframe tbody tr th:only-of-type {\n        vertical-align: middle;\n    }\n\n    .dataframe tbody tr th {\n        vertical-align: top;\n    }\n\n    .dataframe thead th {\n        text-align: right;\n    }\n</style>\n<table border=\"1\" class=\"dataframe\">\n  <thead>\n    <tr style=\"text-align: right;\">\n      <th></th>\n      <th>filename</th>\n      <th>captions</th>\n      <th>tags</th>\n    </tr>\n  </thead>\n  <tbody>\n    <tr>\n      <th>0</th>\n      <td>train/---1_cCGK4M_000000_000010.mp4</td>\n      <td>[Idling car, train blows horn and passes]</td>\n      <td>[Railroad car, train wagon, Train horn, Rail t...</td>\n    </tr>\n    <tr>\n      <th>1</th>\n      <td>train/---lTs1dxhU_000030_000040.mp4</td>\n      <td>[A racing vehicle engine is heard passing by]</td>\n      <td>[Motor vehicle (road), Vehicle, Car, Car passi...</td>\n    </tr>\n    <tr>\n      <th>2</th>\n      <td>train/--0PQM4-hqg_000030_000040.mp4</td>\n      <td>[A waterfall is pouring into a stream]</td>\n      <td>[Gurgling, Waterfall, Stream]</td>\n    </tr>\n    <tr>\n      <th>3</th>\n      <td>train/--1l6WGE7AU_000030_000040.mp4</td>\n      <td>[A man speaks earnestly]</td>\n      <td>[Narration, monologue, Male speech, man speaki...</td>\n    </tr>\n    <tr>\n      <th>4</th>\n      <td>train/--299m5_DdE_000000_000010.mp4</td>\n      <td>[Water flows as a child shouts in the background]</td>\n      <td>[Gurgling, Waterfall]</td>\n    </tr>\n    <tr>\n      <th>...</th>\n      <td>...</td>\n      <td>...</td>\n      <td>...</td>\n    </tr>\n    <tr>\n      <th>45794</th>\n      <td>train/zzlfP-snUeY_000010_000020.mp4</td>\n      <td>[A vehicle engine is idling]</td>\n      <td>[Engine, Idling, Vehicle, Outside, rural or na...</td>\n    </tr>\n    <tr>\n      <th>45795</th>\n      <td>train/zzm3dwoXY8Y_000030_000040.mp4</td>\n      <td>[A man talking as a flock of pigeons coo follo...</td>\n      <td>[Bird, Speech, Pigeon, dove, Outside, rural or...</td>\n    </tr>\n    <tr>\n      <th>45796</th>\n      <td>train/zzvWbSyZfr0_000000_000010.mp4</td>\n      <td>[A person snoring as a man speaks through a te...</td>\n      <td>[Snoring, Speech]</td>\n    </tr>\n    <tr>\n      <th>45797</th>\n      <td>train/zzwBazlj0Oc_000030_000040.mp4</td>\n      <td>[Several pigeons coo and flap their wings]</td>\n      <td>[Bird, Pigeon, dove, Inside, small room]</td>\n    </tr>\n    <tr>\n      <th>45798</th>\n      <td>train/zzznDcamMpw_000000_000010.mp4</td>\n      <td>[A duck quacking as a man is softly talking in...</td>\n      <td>[Duck, Speech]</td>\n    </tr>\n  </tbody>\n</table>\n<p>45799 rows × 3 columns</p>\n</div>"
     },
     "execution_count": 3,
     "metadata": {},
     "output_type": "execute_result"
    }
   ],
   "source": [
    "root = Path('/media/t9s9/SSD_ubuntu/datasets/')\n",
    "pd.read_parquet(root /f'AudioCaps/annot_tags_train.parquet' )"
   ],
   "metadata": {
    "collapsed": false
   }
  },
  {
   "cell_type": "code",
   "execution_count": 4,
   "outputs": [
    {
     "data": {
      "text/plain": "                                                                    captions\nfilename                                                                    \n3VgonYwfqwo_000170_000180  how to build a cnc machine from the very begin...\nnLxbwx-eu9w_000020_000030                           herd of goats on a farm.\n3xiiXWQA8cY_000030_000040    friends having fun at night in the living room.\nYFZEH0SYrCU_000120_000130  this is the first time i've seen this type of ...\nHlJdfKYg6As_000030_000040  a close up of a clock attached to a wall      ...\n...                                                                      ...\n0kBc1q-dm6I_000030_000040                 children ride on a roller coaster.\n77W8716C44A_000030_000040          A large green frog floating in the water.\nTFydYI3enJM_000030_000040  A woman sitting on a pink wall talking on a ce...\nL8bRZH3Ad9U_000022_000032     A person riding a horse through a wooded area.\n6wtUZBZIjBs_000003_000013  A cat sitting on top of a table in front of a ...\n\n[45795 rows x 1 columns]",
      "text/html": "<div>\n<style scoped>\n    .dataframe tbody tr th:only-of-type {\n        vertical-align: middle;\n    }\n\n    .dataframe tbody tr th {\n        vertical-align: top;\n    }\n\n    .dataframe thead th {\n        text-align: right;\n    }\n</style>\n<table border=\"1\" class=\"dataframe\">\n  <thead>\n    <tr style=\"text-align: right;\">\n      <th></th>\n      <th>captions</th>\n    </tr>\n    <tr>\n      <th>filename</th>\n      <th></th>\n    </tr>\n  </thead>\n  <tbody>\n    <tr>\n      <th>3VgonYwfqwo_000170_000180</th>\n      <td>how to build a cnc machine from the very begin...</td>\n    </tr>\n    <tr>\n      <th>nLxbwx-eu9w_000020_000030</th>\n      <td>herd of goats on a farm.</td>\n    </tr>\n    <tr>\n      <th>3xiiXWQA8cY_000030_000040</th>\n      <td>friends having fun at night in the living room.</td>\n    </tr>\n    <tr>\n      <th>YFZEH0SYrCU_000120_000130</th>\n      <td>this is the first time i've seen this type of ...</td>\n    </tr>\n    <tr>\n      <th>HlJdfKYg6As_000030_000040</th>\n      <td>a close up of a clock attached to a wall      ...</td>\n    </tr>\n    <tr>\n      <th>...</th>\n      <td>...</td>\n    </tr>\n    <tr>\n      <th>0kBc1q-dm6I_000030_000040</th>\n      <td>children ride on a roller coaster.</td>\n    </tr>\n    <tr>\n      <th>77W8716C44A_000030_000040</th>\n      <td>A large green frog floating in the water.</td>\n    </tr>\n    <tr>\n      <th>TFydYI3enJM_000030_000040</th>\n      <td>A woman sitting on a pink wall talking on a ce...</td>\n    </tr>\n    <tr>\n      <th>L8bRZH3Ad9U_000022_000032</th>\n      <td>A person riding a horse through a wooded area.</td>\n    </tr>\n    <tr>\n      <th>6wtUZBZIjBs_000003_000013</th>\n      <td>A cat sitting on top of a table in front of a ...</td>\n    </tr>\n  </tbody>\n</table>\n<p>45795 rows × 1 columns</p>\n</div>"
     },
     "execution_count": 4,
     "metadata": {},
     "output_type": "execute_result"
    }
   ],
   "source": [
    "pd.read_parquet('/media/t9s9/SSD_ubuntu/datasets/AudioCaps/visual_captions/visual_captions_train.parquet')"
   ],
   "metadata": {
    "collapsed": false,
    "pycharm": {
     "name": "#%%\n"
    }
   }
  }
 ],
 "metadata": {
  "kernelspec": {
   "display_name": "Python 3",
   "language": "python",
   "name": "python3"
  },
  "language_info": {
   "codemirror_mode": {
    "name": "ipython",
    "version": 2
   },
   "file_extension": ".py",
   "mimetype": "text/x-python",
   "name": "python",
   "nbconvert_exporter": "python",
   "pygments_lexer": "ipython2",
   "version": "2.7.6"
  }
 },
 "nbformat": 4,
 "nbformat_minor": 0
}