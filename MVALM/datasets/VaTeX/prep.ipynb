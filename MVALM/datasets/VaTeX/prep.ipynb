{
 "cells": [
  {
   "cell_type": "code",
   "execution_count": 4,
   "metadata": {
    "collapsed": true
   },
   "outputs": [],
   "source": [
    "from pathlib import Path\n",
    "\n",
    "import pandas as pd\n",
    "\n",
    "root = Path(\"/media/t9s9/SSD_ubuntu/datasets/VaTeX/\")"
   ]
  },
  {
   "cell_type": "code",
   "execution_count": 5,
   "outputs": [],
   "source": [
    "def apply(df, split):\n",
    "    df = df.rename(columns={'videoID': 'filename', 'enCap': 'captions'})\n",
    "    if 'chCap' in df.columns:\n",
    "        df = df.drop(columns=['chCap'])\n",
    "    df['filename'] = df['filename'].apply(lambda x: str(Path(split) / (x + '.mp4')))\n",
    "    return df"
   ],
   "metadata": {
    "collapsed": false
   }
  },
  {
   "cell_type": "code",
   "execution_count": 6,
   "outputs": [],
   "source": [
    "df_train = apply(pd.read_json(root / 'vatex_training_v1.0.json'), 'train')\n",
    "df_val = apply(pd.read_json(root / 'vatex_validation_v1.0.json'), 'val')\n",
    "df_test = apply(pd.read_json(root / 'vatex_public_test_english_v1.1.json'), 'test')"
   ],
   "metadata": {
    "collapsed": false
   }
  },
  {
   "cell_type": "code",
   "execution_count": 7,
   "outputs": [],
   "source": [
    "train_imgs = list(map(lambda p: str(Path(p.parent.name) / p.name), (root / 'data' / 'train').iterdir()))\n",
    "val_imgs = list(map(lambda p: str(Path(p.parent.name) / p.name), (root / 'data' / 'val').iterdir()))\n",
    "test_imgs = list(map(lambda p: str(Path(p.parent.name) / p.name), (root / 'data' / 'test').iterdir()))"
   ],
   "metadata": {
    "collapsed": false
   }
  },
  {
   "cell_type": "code",
   "execution_count": 8,
   "outputs": [],
   "source": [
    "df_train = df_train[df_train['filename'].isin(train_imgs)]\n",
    "df_val = df_val[df_val['filename'].isin(val_imgs)]\n",
    "df_test = df_test[df_test['filename'].isin(test_imgs)]\n",
    "assert df_train.shape[0] == len(train_imgs)\n",
    "assert df_val.shape[0] == len(val_imgs)\n",
    "assert df_test.shape[0] == len(test_imgs)"
   ],
   "metadata": {
    "collapsed": false
   }
  },
  {
   "cell_type": "code",
   "execution_count": 10,
   "outputs": [],
   "source": [
    "df_train.to_parquet(root / 'annot_train.parquet', index=False)\n",
    "df_val.to_parquet(root / 'annot_val.parquet', index=False)\n",
    "df_test.to_parquet(root / 'annot_test.parquet', index=False)"
   ],
   "metadata": {
    "collapsed": false
   }
  }
 ],
 "metadata": {
  "kernelspec": {
   "display_name": "Python 3",
   "language": "python",
   "name": "python3"
  },
  "language_info": {
   "codemirror_mode": {
    "name": "ipython",
    "version": 2
   },
   "file_extension": ".py",
   "mimetype": "text/x-python",
   "name": "python",
   "nbconvert_exporter": "python",
   "pygments_lexer": "ipython2",
   "version": "2.7.6"
  }
 },
 "nbformat": 4,
 "nbformat_minor": 0
}
