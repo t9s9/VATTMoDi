{
 "cells": [
  {
   "cell_type": "code",
   "execution_count": 16,
   "metadata": {
    "collapsed": true
   },
   "outputs": [],
   "source": [
    "import ast\n",
    "from pathlib import Path\n",
    "\n",
    "import pandas as pd\n",
    "import spacy\n",
    "\n",
    "nlp = spacy.load(\"en_core_web_sm\")"
   ]
  },
  {
   "cell_type": "code",
   "execution_count": 18,
   "outputs": [
    {
     "name": "stderr",
     "output_type": "stream",
     "text": [
      "/tmp/ipykernel_66908/406120864.py:14: FutureWarning: The default value of regex will change from True to False in a future version.\n",
      "  df.tags = df.tags.str.replace(bad, '')\n",
      "/tmp/ipykernel_66908/406120864.py:15: FutureWarning: The default value of regex will change from True to False in a future version.\n",
      "  df.tags = df.tags.str.replace(bad2, '')\n"
     ]
    },
    {
     "data": {
      "text/plain": "                        title  \\\n0                      Forest   \n1            Rain and Storm 2   \n2              Wilhelm scream   \n3                        Wind   \n4     Waves and Sandwich tern   \n...                       ...   \n4520                Bat Sonar   \n4521     Bat Call Inside Cave   \n4522             Baby Monitor   \n4523       Baby Girl Speaking   \n4524        Anti Aircraft Gun   \n\n                                            description  \\\n0                       Birds singing, drive away, fly.   \n1                         Heavy rain and thunderstorms.   \n2                                                   NaN   \n3                                                   NaN   \n4     Sea waves at medium volume and a few cries of ...   \n...                                                 ...   \n4520                          Bat sonar chirping clicks   \n4521                               Bat call inside cave   \n4522     Cute Kid talking over baby monitor with static   \n4523                              Baby Girl Saying Mama   \n4524                               Anti Aircraft Cannon   \n\n                                                   tags  \\\n0                                                    []   \n1                                                    []   \n2                                                    []   \n3                                                    []   \n4                                                    []   \n...                                                 ...   \n4520  [bat, call, inside, cave, sonar, bats, rodent,...   \n4521     [bat, call, inside, cave, sonar, bats, rodent]   \n4522  [static noise, static, kid, monitor, baby, tal...   \n4523  [Baby, Girl, Speaking, child, kid, young, mom,...   \n4524  [Anti, Aircraft, Cannon, gun, shoot, shooting,...   \n\n                                  filename  \n0                          train/0100.flac  \n1                          train/0740.flac  \n2                          train/0477.flac  \n3                          train/0595.flac  \n4                          train/0267.flac  \n...                                    ...  \n4520             train/bat sonar_2110.flac  \n4521  train/bat call inside cave_2111.flac  \n4522          train/baby monitor_2112.flac  \n4523    train/baby girl speaking_2113.flac  \n4524     train/anti aircraft gun_2114.flac  \n\n[4520 rows x 4 columns]",
      "text/html": "<div>\n<style scoped>\n    .dataframe tbody tr th:only-of-type {\n        vertical-align: middle;\n    }\n\n    .dataframe tbody tr th {\n        vertical-align: top;\n    }\n\n    .dataframe thead th {\n        text-align: right;\n    }\n</style>\n<table border=\"1\" class=\"dataframe\">\n  <thead>\n    <tr style=\"text-align: right;\">\n      <th></th>\n      <th>title</th>\n      <th>description</th>\n      <th>tags</th>\n      <th>filename</th>\n    </tr>\n  </thead>\n  <tbody>\n    <tr>\n      <th>0</th>\n      <td>Forest</td>\n      <td>Birds singing, drive away, fly.</td>\n      <td>[]</td>\n      <td>train/0100.flac</td>\n    </tr>\n    <tr>\n      <th>1</th>\n      <td>Rain and Storm 2</td>\n      <td>Heavy rain and thunderstorms.</td>\n      <td>[]</td>\n      <td>train/0740.flac</td>\n    </tr>\n    <tr>\n      <th>2</th>\n      <td>Wilhelm scream</td>\n      <td>NaN</td>\n      <td>[]</td>\n      <td>train/0477.flac</td>\n    </tr>\n    <tr>\n      <th>3</th>\n      <td>Wind</td>\n      <td>NaN</td>\n      <td>[]</td>\n      <td>train/0595.flac</td>\n    </tr>\n    <tr>\n      <th>4</th>\n      <td>Waves and Sandwich tern</td>\n      <td>Sea waves at medium volume and a few cries of ...</td>\n      <td>[]</td>\n      <td>train/0267.flac</td>\n    </tr>\n    <tr>\n      <th>...</th>\n      <td>...</td>\n      <td>...</td>\n      <td>...</td>\n      <td>...</td>\n    </tr>\n    <tr>\n      <th>4520</th>\n      <td>Bat Sonar</td>\n      <td>Bat sonar chirping clicks</td>\n      <td>[bat, call, inside, cave, sonar, bats, rodent,...</td>\n      <td>train/bat sonar_2110.flac</td>\n    </tr>\n    <tr>\n      <th>4521</th>\n      <td>Bat Call Inside Cave</td>\n      <td>Bat call inside cave</td>\n      <td>[bat, call, inside, cave, sonar, bats, rodent]</td>\n      <td>train/bat call inside cave_2111.flac</td>\n    </tr>\n    <tr>\n      <th>4522</th>\n      <td>Baby Monitor</td>\n      <td>Cute Kid talking over baby monitor with static</td>\n      <td>[static noise, static, kid, monitor, baby, tal...</td>\n      <td>train/baby monitor_2112.flac</td>\n    </tr>\n    <tr>\n      <th>4523</th>\n      <td>Baby Girl Speaking</td>\n      <td>Baby Girl Saying Mama</td>\n      <td>[Baby, Girl, Speaking, child, kid, young, mom,...</td>\n      <td>train/baby girl speaking_2113.flac</td>\n    </tr>\n    <tr>\n      <th>4524</th>\n      <td>Anti Aircraft Gun</td>\n      <td>Anti Aircraft Cannon</td>\n      <td>[Anti, Aircraft, Cannon, gun, shoot, shooting,...</td>\n      <td>train/anti aircraft gun_2114.flac</td>\n    </tr>\n  </tbody>\n</table>\n<p>4520 rows × 4 columns</p>\n</div>"
     },
     "execution_count": 18,
     "metadata": {},
     "output_type": "execute_result"
    }
   ],
   "source": [
    "root = Path('/media/t9s9/SSD_ubuntu/datasets/WavText5k/')\n",
    "df = pd.read_csv(root / 'WavText5K.csv')\n",
    "df['filename'] = df.fname.apply(lambda f: str(Path('train') / Path(f).with_suffix('.flac')))\n",
    "\n",
    "exists = df.filename.apply(lambda p: (root / 'data' / p).exists())\n",
    "df = df[exists]\n",
    "\n",
    "df = df.drop(columns=['download_link', 'view_link', 'fname'])\n",
    "df = df.dropna(subset=['title', 'description', 'tags'], how='all')\n",
    "df.tags = df.tags.replace(pd.NA, '[]')\n",
    "\n",
    "bad = \"<li><i class=\\\"icofont-sound-wave icofont-1x\\\"></i> <a href=\\\"tags-alcohol-bashed.html\\\">alcohol bashed</a></li>,\"\n",
    "bad2 = \"<li><i class=\\\"icofont-sound-wave icofont-1x\\\"></i> <a href=\\\"tags-bow-and-arrow.html\\\">bow and arrow</a></li>,\"\n",
    "df.tags = df.tags.str.replace(bad, '')\n",
    "df.tags = df.tags.str.replace(bad2, '')\n",
    "df.tags = df.tags.apply(ast.literal_eval)\n",
    "df"
   ],
   "metadata": {
    "collapsed": false
   }
  },
  {
   "cell_type": "code",
   "execution_count": 19,
   "outputs": [
    {
     "data": {
      "text/plain": "                        title  \\\n0                      Forest   \n1            Rain and Storm 2   \n2              Wilhelm scream   \n3                        Wind   \n4     Waves and Sandwich tern   \n...                       ...   \n4520                Bat Sonar   \n4521     Bat Call Inside Cave   \n4522             Baby Monitor   \n4523       Baby Girl Speaking   \n4524        Anti Aircraft Gun   \n\n                                            description  \\\n0                       Birds singing, drive away, fly.   \n1                         Heavy rain and thunderstorms.   \n2                                                   NaN   \n3                                                   NaN   \n4     Sea waves at medium volume and a few cries of ...   \n...                                                 ...   \n4520                          Bat sonar chirping clicks   \n4521                               Bat call inside cave   \n4522     Cute Kid talking over baby monitor with static   \n4523                              Baby Girl Saying Mama   \n4524                               Anti Aircraft Cannon   \n\n                                                   tags  \\\n0                                              [Forest]   \n1                                         [Rain, Storm]   \n2                                     [Wilhelm, scream]   \n3                                                [Wind]   \n4                               [Waves, Sandwich, tern]   \n...                                                 ...   \n4520  [bat, call, inside, cave, sonar, bats, rodent,...   \n4521     [bat, call, inside, cave, sonar, bats, rodent]   \n4522  [static noise, static, kid, monitor, baby, tal...   \n4523  [Baby, Girl, Speaking, child, kid, young, mom,...   \n4524  [Anti, Aircraft, Cannon, gun, shoot, shooting,...   \n\n                                  filename  \\\n0                          train/0100.flac   \n1                          train/0740.flac   \n2                          train/0477.flac   \n3                          train/0595.flac   \n4                          train/0267.flac   \n...                                    ...   \n4520             train/bat sonar_2110.flac   \n4521  train/bat call inside cave_2111.flac   \n4522          train/baby monitor_2112.flac   \n4523    train/baby girl speaking_2113.flac   \n4524     train/anti aircraft gun_2114.flac   \n\n                                               captions  \n0                     [Birds singing, drive away, fly.]  \n1                       [Heavy rain and thunderstorms.]  \n2                                     [Wilhelm scream.]  \n3                                               [Wind.]  \n4     [Sea waves at medium volume and a few cries of...  \n...                                                 ...  \n4520                       [Bat sonar chirping clicks.]  \n4521                            [Bat call inside cave.]  \n4522  [Cute Kid talking over baby monitor with static.]  \n4523                           [Baby Girl Saying Mama.]  \n4524                            [Anti Aircraft Cannon.]  \n\n[4520 rows x 5 columns]",
      "text/html": "<div>\n<style scoped>\n    .dataframe tbody tr th:only-of-type {\n        vertical-align: middle;\n    }\n\n    .dataframe tbody tr th {\n        vertical-align: top;\n    }\n\n    .dataframe thead th {\n        text-align: right;\n    }\n</style>\n<table border=\"1\" class=\"dataframe\">\n  <thead>\n    <tr style=\"text-align: right;\">\n      <th></th>\n      <th>title</th>\n      <th>description</th>\n      <th>tags</th>\n      <th>filename</th>\n      <th>captions</th>\n    </tr>\n  </thead>\n  <tbody>\n    <tr>\n      <th>0</th>\n      <td>Forest</td>\n      <td>Birds singing, drive away, fly.</td>\n      <td>[Forest]</td>\n      <td>train/0100.flac</td>\n      <td>[Birds singing, drive away, fly.]</td>\n    </tr>\n    <tr>\n      <th>1</th>\n      <td>Rain and Storm 2</td>\n      <td>Heavy rain and thunderstorms.</td>\n      <td>[Rain, Storm]</td>\n      <td>train/0740.flac</td>\n      <td>[Heavy rain and thunderstorms.]</td>\n    </tr>\n    <tr>\n      <th>2</th>\n      <td>Wilhelm scream</td>\n      <td>NaN</td>\n      <td>[Wilhelm, scream]</td>\n      <td>train/0477.flac</td>\n      <td>[Wilhelm scream.]</td>\n    </tr>\n    <tr>\n      <th>3</th>\n      <td>Wind</td>\n      <td>NaN</td>\n      <td>[Wind]</td>\n      <td>train/0595.flac</td>\n      <td>[Wind.]</td>\n    </tr>\n    <tr>\n      <th>4</th>\n      <td>Waves and Sandwich tern</td>\n      <td>Sea waves at medium volume and a few cries of ...</td>\n      <td>[Waves, Sandwich, tern]</td>\n      <td>train/0267.flac</td>\n      <td>[Sea waves at medium volume and a few cries of...</td>\n    </tr>\n    <tr>\n      <th>...</th>\n      <td>...</td>\n      <td>...</td>\n      <td>...</td>\n      <td>...</td>\n      <td>...</td>\n    </tr>\n    <tr>\n      <th>4520</th>\n      <td>Bat Sonar</td>\n      <td>Bat sonar chirping clicks</td>\n      <td>[bat, call, inside, cave, sonar, bats, rodent,...</td>\n      <td>train/bat sonar_2110.flac</td>\n      <td>[Bat sonar chirping clicks.]</td>\n    </tr>\n    <tr>\n      <th>4521</th>\n      <td>Bat Call Inside Cave</td>\n      <td>Bat call inside cave</td>\n      <td>[bat, call, inside, cave, sonar, bats, rodent]</td>\n      <td>train/bat call inside cave_2111.flac</td>\n      <td>[Bat call inside cave.]</td>\n    </tr>\n    <tr>\n      <th>4522</th>\n      <td>Baby Monitor</td>\n      <td>Cute Kid talking over baby monitor with static</td>\n      <td>[static noise, static, kid, monitor, baby, tal...</td>\n      <td>train/baby monitor_2112.flac</td>\n      <td>[Cute Kid talking over baby monitor with static.]</td>\n    </tr>\n    <tr>\n      <th>4523</th>\n      <td>Baby Girl Speaking</td>\n      <td>Baby Girl Saying Mama</td>\n      <td>[Baby, Girl, Speaking, child, kid, young, mom,...</td>\n      <td>train/baby girl speaking_2113.flac</td>\n      <td>[Baby Girl Saying Mama.]</td>\n    </tr>\n    <tr>\n      <th>4524</th>\n      <td>Anti Aircraft Gun</td>\n      <td>Anti Aircraft Cannon</td>\n      <td>[Anti, Aircraft, Cannon, gun, shoot, shooting,...</td>\n      <td>train/anti aircraft gun_2114.flac</td>\n      <td>[Anti Aircraft Cannon.]</td>\n    </tr>\n  </tbody>\n</table>\n<p>4520 rows × 5 columns</p>\n</div>"
     },
     "execution_count": 19,
     "metadata": {},
     "output_type": "execute_result"
    }
   ],
   "source": [
    "def create_caption(row):\n",
    "    title, desc, tags = row.title, row.description, row.tags\n",
    "    has_title, has_desc = not pd.isna(title), not pd.isna(desc)\n",
    "    has_tags = tags != []\n",
    "\n",
    "    if has_title:\n",
    "        title = ''.join(filter(lambda x: not x.isdigit(), title)).strip()\n",
    "\n",
    "    if not has_tags:\n",
    "        if has_title:\n",
    "            tags = [token.text for token in nlp(title) if not token.is_stop and not token.is_punct]\n",
    "        elif has_desc:\n",
    "            tags = [token.text for token in nlp(desc) if not token.is_stop and not token.is_punct]\n",
    "        else:\n",
    "            print(\"Warning: No tags can be formed\")\n",
    "\n",
    "    if has_desc:\n",
    "        caption = f\"{desc.strip().rstrip('.')}.\"\n",
    "    elif has_title:\n",
    "        caption = f\"{title}.\"\n",
    "    elif has_tags:\n",
    "        print(\"Warning: Caption made from tags\")\n",
    "        caption = f\"{' '.join(row.tags)}.\"\n",
    "    else:\n",
    "        print(\"Warning: No caption formed\")\n",
    "        caption = ''\n",
    "\n",
    "\n",
    "    return [caption], tags\n",
    "\n",
    "df[['captions', 'tags']] = df.apply(create_caption, axis=1, result_type='expand')\n",
    "df"
   ],
   "metadata": {
    "collapsed": false
   }
  },
  {
   "cell_type": "code",
   "execution_count": 21,
   "outputs": [
    {
     "ename": "KeyError",
     "evalue": "\"['description', 'title'] not found in axis\"",
     "output_type": "error",
     "traceback": [
      "\u001B[0;31m---------------------------------------------------------------------------\u001B[0m",
      "\u001B[0;31mKeyError\u001B[0m                                  Traceback (most recent call last)",
      "Cell \u001B[0;32mIn[21], line 1\u001B[0m\n\u001B[0;32m----> 1\u001B[0m df \u001B[38;5;241m=\u001B[39m \u001B[43mdf\u001B[49m\u001B[38;5;241;43m.\u001B[39;49m\u001B[43mdrop\u001B[49m\u001B[43m(\u001B[49m\u001B[43mcolumns\u001B[49m\u001B[38;5;241;43m=\u001B[39;49m\u001B[43m[\u001B[49m\u001B[38;5;124;43m'\u001B[39;49m\u001B[38;5;124;43mdescription\u001B[39;49m\u001B[38;5;124;43m'\u001B[39;49m\u001B[43m,\u001B[49m\u001B[43m \u001B[49m\u001B[38;5;124;43m'\u001B[39;49m\u001B[38;5;124;43mtitle\u001B[39;49m\u001B[38;5;124;43m'\u001B[39;49m\u001B[43m]\u001B[49m\u001B[43m)\u001B[49m\n\u001B[1;32m      2\u001B[0m df \u001B[38;5;241m=\u001B[39m df\u001B[38;5;241m.\u001B[39mdrop(index\u001B[38;5;241m=\u001B[39mdf[df\u001B[38;5;241m.\u001B[39mtags\u001B[38;5;241m.\u001B[39mapply(\u001B[38;5;28mlen\u001B[39m) \u001B[38;5;241m==\u001B[39m \u001B[38;5;241m0\u001B[39m]\u001B[38;5;241m.\u001B[39mindex)\n\u001B[1;32m      3\u001B[0m df\u001B[38;5;241m.\u001B[39mto_parquet(\u001B[38;5;124m'\u001B[39m\u001B[38;5;124m/media/t9s9/SSD_ubuntu/datasets/WavText5k/annot.parquet\u001B[39m\u001B[38;5;124m'\u001B[39m, index\u001B[38;5;241m=\u001B[39m\u001B[38;5;28;01mFalse\u001B[39;00m)\n",
      "File \u001B[0;32m~/miniconda3/envs/fasttorch/lib/python3.10/site-packages/pandas/util/_decorators.py:331\u001B[0m, in \u001B[0;36mdeprecate_nonkeyword_arguments.<locals>.decorate.<locals>.wrapper\u001B[0;34m(*args, **kwargs)\u001B[0m\n\u001B[1;32m    325\u001B[0m \u001B[38;5;28;01mif\u001B[39;00m \u001B[38;5;28mlen\u001B[39m(args) \u001B[38;5;241m>\u001B[39m num_allow_args:\n\u001B[1;32m    326\u001B[0m     warnings\u001B[38;5;241m.\u001B[39mwarn(\n\u001B[1;32m    327\u001B[0m         msg\u001B[38;5;241m.\u001B[39mformat(arguments\u001B[38;5;241m=\u001B[39m_format_argument_list(allow_args)),\n\u001B[1;32m    328\u001B[0m         \u001B[38;5;167;01mFutureWarning\u001B[39;00m,\n\u001B[1;32m    329\u001B[0m         stacklevel\u001B[38;5;241m=\u001B[39mfind_stack_level(),\n\u001B[1;32m    330\u001B[0m     )\n\u001B[0;32m--> 331\u001B[0m \u001B[38;5;28;01mreturn\u001B[39;00m \u001B[43mfunc\u001B[49m\u001B[43m(\u001B[49m\u001B[38;5;241;43m*\u001B[39;49m\u001B[43margs\u001B[49m\u001B[43m,\u001B[49m\u001B[43m \u001B[49m\u001B[38;5;241;43m*\u001B[39;49m\u001B[38;5;241;43m*\u001B[39;49m\u001B[43mkwargs\u001B[49m\u001B[43m)\u001B[49m\n",
      "File \u001B[0;32m~/miniconda3/envs/fasttorch/lib/python3.10/site-packages/pandas/core/frame.py:5396\u001B[0m, in \u001B[0;36mDataFrame.drop\u001B[0;34m(self, labels, axis, index, columns, level, inplace, errors)\u001B[0m\n\u001B[1;32m   5248\u001B[0m \u001B[38;5;129m@deprecate_nonkeyword_arguments\u001B[39m(version\u001B[38;5;241m=\u001B[39m\u001B[38;5;28;01mNone\u001B[39;00m, allowed_args\u001B[38;5;241m=\u001B[39m[\u001B[38;5;124m\"\u001B[39m\u001B[38;5;124mself\u001B[39m\u001B[38;5;124m\"\u001B[39m, \u001B[38;5;124m\"\u001B[39m\u001B[38;5;124mlabels\u001B[39m\u001B[38;5;124m\"\u001B[39m])\n\u001B[1;32m   5249\u001B[0m \u001B[38;5;28;01mdef\u001B[39;00m \u001B[38;5;21mdrop\u001B[39m(  \u001B[38;5;66;03m# type: ignore[override]\u001B[39;00m\n\u001B[1;32m   5250\u001B[0m     \u001B[38;5;28mself\u001B[39m,\n\u001B[0;32m   (...)\u001B[0m\n\u001B[1;32m   5257\u001B[0m     errors: IgnoreRaise \u001B[38;5;241m=\u001B[39m \u001B[38;5;124m\"\u001B[39m\u001B[38;5;124mraise\u001B[39m\u001B[38;5;124m\"\u001B[39m,\n\u001B[1;32m   5258\u001B[0m ) \u001B[38;5;241m-\u001B[39m\u001B[38;5;241m>\u001B[39m DataFrame \u001B[38;5;241m|\u001B[39m \u001B[38;5;28;01mNone\u001B[39;00m:\n\u001B[1;32m   5259\u001B[0m     \u001B[38;5;124;03m\"\"\"\u001B[39;00m\n\u001B[1;32m   5260\u001B[0m \u001B[38;5;124;03m    Drop specified labels from rows or columns.\u001B[39;00m\n\u001B[1;32m   5261\u001B[0m \n\u001B[0;32m   (...)\u001B[0m\n\u001B[1;32m   5394\u001B[0m \u001B[38;5;124;03m            weight  1.0     0.8\u001B[39;00m\n\u001B[1;32m   5395\u001B[0m \u001B[38;5;124;03m    \"\"\"\u001B[39;00m\n\u001B[0;32m-> 5396\u001B[0m     \u001B[38;5;28;01mreturn\u001B[39;00m \u001B[38;5;28;43msuper\u001B[39;49m\u001B[43m(\u001B[49m\u001B[43m)\u001B[49m\u001B[38;5;241;43m.\u001B[39;49m\u001B[43mdrop\u001B[49m\u001B[43m(\u001B[49m\n\u001B[1;32m   5397\u001B[0m \u001B[43m        \u001B[49m\u001B[43mlabels\u001B[49m\u001B[38;5;241;43m=\u001B[39;49m\u001B[43mlabels\u001B[49m\u001B[43m,\u001B[49m\n\u001B[1;32m   5398\u001B[0m \u001B[43m        \u001B[49m\u001B[43maxis\u001B[49m\u001B[38;5;241;43m=\u001B[39;49m\u001B[43maxis\u001B[49m\u001B[43m,\u001B[49m\n\u001B[1;32m   5399\u001B[0m \u001B[43m        \u001B[49m\u001B[43mindex\u001B[49m\u001B[38;5;241;43m=\u001B[39;49m\u001B[43mindex\u001B[49m\u001B[43m,\u001B[49m\n\u001B[1;32m   5400\u001B[0m \u001B[43m        \u001B[49m\u001B[43mcolumns\u001B[49m\u001B[38;5;241;43m=\u001B[39;49m\u001B[43mcolumns\u001B[49m\u001B[43m,\u001B[49m\n\u001B[1;32m   5401\u001B[0m \u001B[43m        \u001B[49m\u001B[43mlevel\u001B[49m\u001B[38;5;241;43m=\u001B[39;49m\u001B[43mlevel\u001B[49m\u001B[43m,\u001B[49m\n\u001B[1;32m   5402\u001B[0m \u001B[43m        \u001B[49m\u001B[43minplace\u001B[49m\u001B[38;5;241;43m=\u001B[39;49m\u001B[43minplace\u001B[49m\u001B[43m,\u001B[49m\n\u001B[1;32m   5403\u001B[0m \u001B[43m        \u001B[49m\u001B[43merrors\u001B[49m\u001B[38;5;241;43m=\u001B[39;49m\u001B[43merrors\u001B[49m\u001B[43m,\u001B[49m\n\u001B[1;32m   5404\u001B[0m \u001B[43m    \u001B[49m\u001B[43m)\u001B[49m\n",
      "File \u001B[0;32m~/miniconda3/envs/fasttorch/lib/python3.10/site-packages/pandas/util/_decorators.py:331\u001B[0m, in \u001B[0;36mdeprecate_nonkeyword_arguments.<locals>.decorate.<locals>.wrapper\u001B[0;34m(*args, **kwargs)\u001B[0m\n\u001B[1;32m    325\u001B[0m \u001B[38;5;28;01mif\u001B[39;00m \u001B[38;5;28mlen\u001B[39m(args) \u001B[38;5;241m>\u001B[39m num_allow_args:\n\u001B[1;32m    326\u001B[0m     warnings\u001B[38;5;241m.\u001B[39mwarn(\n\u001B[1;32m    327\u001B[0m         msg\u001B[38;5;241m.\u001B[39mformat(arguments\u001B[38;5;241m=\u001B[39m_format_argument_list(allow_args)),\n\u001B[1;32m    328\u001B[0m         \u001B[38;5;167;01mFutureWarning\u001B[39;00m,\n\u001B[1;32m    329\u001B[0m         stacklevel\u001B[38;5;241m=\u001B[39mfind_stack_level(),\n\u001B[1;32m    330\u001B[0m     )\n\u001B[0;32m--> 331\u001B[0m \u001B[38;5;28;01mreturn\u001B[39;00m \u001B[43mfunc\u001B[49m\u001B[43m(\u001B[49m\u001B[38;5;241;43m*\u001B[39;49m\u001B[43margs\u001B[49m\u001B[43m,\u001B[49m\u001B[43m \u001B[49m\u001B[38;5;241;43m*\u001B[39;49m\u001B[38;5;241;43m*\u001B[39;49m\u001B[43mkwargs\u001B[49m\u001B[43m)\u001B[49m\n",
      "File \u001B[0;32m~/miniconda3/envs/fasttorch/lib/python3.10/site-packages/pandas/core/generic.py:4505\u001B[0m, in \u001B[0;36mNDFrame.drop\u001B[0;34m(self, labels, axis, index, columns, level, inplace, errors)\u001B[0m\n\u001B[1;32m   4503\u001B[0m \u001B[38;5;28;01mfor\u001B[39;00m axis, labels \u001B[38;5;129;01min\u001B[39;00m axes\u001B[38;5;241m.\u001B[39mitems():\n\u001B[1;32m   4504\u001B[0m     \u001B[38;5;28;01mif\u001B[39;00m labels \u001B[38;5;129;01mis\u001B[39;00m \u001B[38;5;129;01mnot\u001B[39;00m \u001B[38;5;28;01mNone\u001B[39;00m:\n\u001B[0;32m-> 4505\u001B[0m         obj \u001B[38;5;241m=\u001B[39m \u001B[43mobj\u001B[49m\u001B[38;5;241;43m.\u001B[39;49m\u001B[43m_drop_axis\u001B[49m\u001B[43m(\u001B[49m\u001B[43mlabels\u001B[49m\u001B[43m,\u001B[49m\u001B[43m \u001B[49m\u001B[43maxis\u001B[49m\u001B[43m,\u001B[49m\u001B[43m \u001B[49m\u001B[43mlevel\u001B[49m\u001B[38;5;241;43m=\u001B[39;49m\u001B[43mlevel\u001B[49m\u001B[43m,\u001B[49m\u001B[43m \u001B[49m\u001B[43merrors\u001B[49m\u001B[38;5;241;43m=\u001B[39;49m\u001B[43merrors\u001B[49m\u001B[43m)\u001B[49m\n\u001B[1;32m   4507\u001B[0m \u001B[38;5;28;01mif\u001B[39;00m inplace:\n\u001B[1;32m   4508\u001B[0m     \u001B[38;5;28mself\u001B[39m\u001B[38;5;241m.\u001B[39m_update_inplace(obj)\n",
      "File \u001B[0;32m~/miniconda3/envs/fasttorch/lib/python3.10/site-packages/pandas/core/generic.py:4546\u001B[0m, in \u001B[0;36mNDFrame._drop_axis\u001B[0;34m(self, labels, axis, level, errors, only_slice)\u001B[0m\n\u001B[1;32m   4544\u001B[0m         new_axis \u001B[38;5;241m=\u001B[39m axis\u001B[38;5;241m.\u001B[39mdrop(labels, level\u001B[38;5;241m=\u001B[39mlevel, errors\u001B[38;5;241m=\u001B[39merrors)\n\u001B[1;32m   4545\u001B[0m     \u001B[38;5;28;01melse\u001B[39;00m:\n\u001B[0;32m-> 4546\u001B[0m         new_axis \u001B[38;5;241m=\u001B[39m \u001B[43maxis\u001B[49m\u001B[38;5;241;43m.\u001B[39;49m\u001B[43mdrop\u001B[49m\u001B[43m(\u001B[49m\u001B[43mlabels\u001B[49m\u001B[43m,\u001B[49m\u001B[43m \u001B[49m\u001B[43merrors\u001B[49m\u001B[38;5;241;43m=\u001B[39;49m\u001B[43merrors\u001B[49m\u001B[43m)\u001B[49m\n\u001B[1;32m   4547\u001B[0m     indexer \u001B[38;5;241m=\u001B[39m axis\u001B[38;5;241m.\u001B[39mget_indexer(new_axis)\n\u001B[1;32m   4549\u001B[0m \u001B[38;5;66;03m# Case for non-unique axis\u001B[39;00m\n\u001B[1;32m   4550\u001B[0m \u001B[38;5;28;01melse\u001B[39;00m:\n",
      "File \u001B[0;32m~/miniconda3/envs/fasttorch/lib/python3.10/site-packages/pandas/core/indexes/base.py:6977\u001B[0m, in \u001B[0;36mIndex.drop\u001B[0;34m(self, labels, errors)\u001B[0m\n\u001B[1;32m   6975\u001B[0m \u001B[38;5;28;01mif\u001B[39;00m mask\u001B[38;5;241m.\u001B[39many():\n\u001B[1;32m   6976\u001B[0m     \u001B[38;5;28;01mif\u001B[39;00m errors \u001B[38;5;241m!=\u001B[39m \u001B[38;5;124m\"\u001B[39m\u001B[38;5;124mignore\u001B[39m\u001B[38;5;124m\"\u001B[39m:\n\u001B[0;32m-> 6977\u001B[0m         \u001B[38;5;28;01mraise\u001B[39;00m \u001B[38;5;167;01mKeyError\u001B[39;00m(\u001B[38;5;124mf\u001B[39m\u001B[38;5;124m\"\u001B[39m\u001B[38;5;132;01m{\u001B[39;00m\u001B[38;5;28mlist\u001B[39m(labels[mask])\u001B[38;5;132;01m}\u001B[39;00m\u001B[38;5;124m not found in axis\u001B[39m\u001B[38;5;124m\"\u001B[39m)\n\u001B[1;32m   6978\u001B[0m     indexer \u001B[38;5;241m=\u001B[39m indexer[\u001B[38;5;241m~\u001B[39mmask]\n\u001B[1;32m   6979\u001B[0m \u001B[38;5;28;01mreturn\u001B[39;00m \u001B[38;5;28mself\u001B[39m\u001B[38;5;241m.\u001B[39mdelete(indexer)\n",
      "\u001B[0;31mKeyError\u001B[0m: \"['description', 'title'] not found in axis\""
     ]
    }
   ],
   "source": [
    "df = df.drop(columns=['description', 'title'])\n",
    "df = df.drop(index=df[df.tags.apply(len) == 0].index)"
   ],
   "metadata": {
    "collapsed": false
   }
  },
  {
   "cell_type": "code",
   "execution_count": 23,
   "outputs": [
    {
     "data": {
      "text/plain": "                                                   tags  \\\n0                                              [Forest]   \n1                                         [Rain, Storm]   \n2                                     [Wilhelm, scream]   \n3                                                [Wind]   \n4                               [Waves, Sandwich, tern]   \n...                                                 ...   \n4514  [bat, call, inside, cave, sonar, bats, rodent,...   \n4515     [bat, call, inside, cave, sonar, bats, rodent]   \n4516  [static noise, static, kid, monitor, baby, tal...   \n4517  [Baby, Girl, Speaking, child, kid, young, mom,...   \n4518  [Anti, Aircraft, Cannon, gun, shoot, shooting,...   \n\n                                  filename  \\\n0                          train/0100.flac   \n1                          train/0740.flac   \n2                          train/0477.flac   \n3                          train/0595.flac   \n4                          train/0267.flac   \n...                                    ...   \n4514             train/bat sonar_2110.flac   \n4515  train/bat call inside cave_2111.flac   \n4516          train/baby monitor_2112.flac   \n4517    train/baby girl speaking_2113.flac   \n4518     train/anti aircraft gun_2114.flac   \n\n                                               captions  \n0                     [Birds singing, drive away, fly.]  \n1                       [Heavy rain and thunderstorms.]  \n2                                     [Wilhelm scream.]  \n3                                               [Wind.]  \n4     [Sea waves at medium volume and a few cries of...  \n...                                                 ...  \n4514                       [Bat sonar chirping clicks.]  \n4515                            [Bat call inside cave.]  \n4516  [Cute Kid talking over baby monitor with static.]  \n4517                           [Baby Girl Saying Mama.]  \n4518                            [Anti Aircraft Cannon.]  \n\n[4519 rows x 3 columns]",
      "text/html": "<div>\n<style scoped>\n    .dataframe tbody tr th:only-of-type {\n        vertical-align: middle;\n    }\n\n    .dataframe tbody tr th {\n        vertical-align: top;\n    }\n\n    .dataframe thead th {\n        text-align: right;\n    }\n</style>\n<table border=\"1\" class=\"dataframe\">\n  <thead>\n    <tr style=\"text-align: right;\">\n      <th></th>\n      <th>tags</th>\n      <th>filename</th>\n      <th>captions</th>\n    </tr>\n  </thead>\n  <tbody>\n    <tr>\n      <th>0</th>\n      <td>[Forest]</td>\n      <td>train/0100.flac</td>\n      <td>[Birds singing, drive away, fly.]</td>\n    </tr>\n    <tr>\n      <th>1</th>\n      <td>[Rain, Storm]</td>\n      <td>train/0740.flac</td>\n      <td>[Heavy rain and thunderstorms.]</td>\n    </tr>\n    <tr>\n      <th>2</th>\n      <td>[Wilhelm, scream]</td>\n      <td>train/0477.flac</td>\n      <td>[Wilhelm scream.]</td>\n    </tr>\n    <tr>\n      <th>3</th>\n      <td>[Wind]</td>\n      <td>train/0595.flac</td>\n      <td>[Wind.]</td>\n    </tr>\n    <tr>\n      <th>4</th>\n      <td>[Waves, Sandwich, tern]</td>\n      <td>train/0267.flac</td>\n      <td>[Sea waves at medium volume and a few cries of...</td>\n    </tr>\n    <tr>\n      <th>...</th>\n      <td>...</td>\n      <td>...</td>\n      <td>...</td>\n    </tr>\n    <tr>\n      <th>4514</th>\n      <td>[bat, call, inside, cave, sonar, bats, rodent,...</td>\n      <td>train/bat sonar_2110.flac</td>\n      <td>[Bat sonar chirping clicks.]</td>\n    </tr>\n    <tr>\n      <th>4515</th>\n      <td>[bat, call, inside, cave, sonar, bats, rodent]</td>\n      <td>train/bat call inside cave_2111.flac</td>\n      <td>[Bat call inside cave.]</td>\n    </tr>\n    <tr>\n      <th>4516</th>\n      <td>[static noise, static, kid, monitor, baby, tal...</td>\n      <td>train/baby monitor_2112.flac</td>\n      <td>[Cute Kid talking over baby monitor with static.]</td>\n    </tr>\n    <tr>\n      <th>4517</th>\n      <td>[Baby, Girl, Speaking, child, kid, young, mom,...</td>\n      <td>train/baby girl speaking_2113.flac</td>\n      <td>[Baby Girl Saying Mama.]</td>\n    </tr>\n    <tr>\n      <th>4518</th>\n      <td>[Anti, Aircraft, Cannon, gun, shoot, shooting,...</td>\n      <td>train/anti aircraft gun_2114.flac</td>\n      <td>[Anti Aircraft Cannon.]</td>\n    </tr>\n  </tbody>\n</table>\n<p>4519 rows × 3 columns</p>\n</div>"
     },
     "execution_count": 23,
     "metadata": {},
     "output_type": "execute_result"
    }
   ],
   "source": [
    "df = pd.read_parquet('/media/t9s9/SSD_ubuntu/datasets/WavText5k/annot.parquet')\n",
    "df"
   ],
   "metadata": {
    "collapsed": false
   }
  },
  {
   "cell_type": "code",
   "execution_count": 22,
   "outputs": [
    {
     "data": {
      "text/plain": "                                                   tags  \\\n0                                              [Forest]   \n1                                         [Rain, Storm]   \n2                                     [Wilhelm, scream]   \n3                                                [Wind]   \n4                               [Waves, Sandwich, tern]   \n...                                                 ...   \n4520  [bat, call, inside, cave, sonar, bats, rodent,...   \n4521     [bat, call, inside, cave, sonar, bats, rodent]   \n4522  [static noise, static, kid, monitor, baby, tal...   \n4523  [Baby, Girl, Speaking, child, kid, young, mom,...   \n4524  [Anti, Aircraft, Cannon, gun, shoot, shooting,...   \n\n                                  filename  \\\n0                          train/0100.flac   \n1                          train/0740.flac   \n2                          train/0477.flac   \n3                          train/0595.flac   \n4                          train/0267.flac   \n...                                    ...   \n4520             train/bat sonar_2110.flac   \n4521  train/bat call inside cave_2111.flac   \n4522          train/baby monitor_2112.flac   \n4523    train/baby girl speaking_2113.flac   \n4524     train/anti aircraft gun_2114.flac   \n\n                                               captions  \n0                     [Birds singing, drive away, fly.]  \n1                       [Heavy rain and thunderstorms.]  \n2                                     [Wilhelm scream.]  \n3                                               [Wind.]  \n4     [Sea waves at medium volume and a few cries of...  \n...                                                 ...  \n4520                       [Bat sonar chirping clicks.]  \n4521                            [Bat call inside cave.]  \n4522  [Cute Kid talking over baby monitor with static.]  \n4523                           [Baby Girl Saying Mama.]  \n4524                            [Anti Aircraft Cannon.]  \n\n[4519 rows x 3 columns]",
      "text/html": "<div>\n<style scoped>\n    .dataframe tbody tr th:only-of-type {\n        vertical-align: middle;\n    }\n\n    .dataframe tbody tr th {\n        vertical-align: top;\n    }\n\n    .dataframe thead th {\n        text-align: right;\n    }\n</style>\n<table border=\"1\" class=\"dataframe\">\n  <thead>\n    <tr style=\"text-align: right;\">\n      <th></th>\n      <th>tags</th>\n      <th>filename</th>\n      <th>captions</th>\n    </tr>\n  </thead>\n  <tbody>\n    <tr>\n      <th>0</th>\n      <td>[Forest]</td>\n      <td>train/0100.flac</td>\n      <td>[Birds singing, drive away, fly.]</td>\n    </tr>\n    <tr>\n      <th>1</th>\n      <td>[Rain, Storm]</td>\n      <td>train/0740.flac</td>\n      <td>[Heavy rain and thunderstorms.]</td>\n    </tr>\n    <tr>\n      <th>2</th>\n      <td>[Wilhelm, scream]</td>\n      <td>train/0477.flac</td>\n      <td>[Wilhelm scream.]</td>\n    </tr>\n    <tr>\n      <th>3</th>\n      <td>[Wind]</td>\n      <td>train/0595.flac</td>\n      <td>[Wind.]</td>\n    </tr>\n    <tr>\n      <th>4</th>\n      <td>[Waves, Sandwich, tern]</td>\n      <td>train/0267.flac</td>\n      <td>[Sea waves at medium volume and a few cries of...</td>\n    </tr>\n    <tr>\n      <th>...</th>\n      <td>...</td>\n      <td>...</td>\n      <td>...</td>\n    </tr>\n    <tr>\n      <th>4520</th>\n      <td>[bat, call, inside, cave, sonar, bats, rodent,...</td>\n      <td>train/bat sonar_2110.flac</td>\n      <td>[Bat sonar chirping clicks.]</td>\n    </tr>\n    <tr>\n      <th>4521</th>\n      <td>[bat, call, inside, cave, sonar, bats, rodent]</td>\n      <td>train/bat call inside cave_2111.flac</td>\n      <td>[Bat call inside cave.]</td>\n    </tr>\n    <tr>\n      <th>4522</th>\n      <td>[static noise, static, kid, monitor, baby, tal...</td>\n      <td>train/baby monitor_2112.flac</td>\n      <td>[Cute Kid talking over baby monitor with static.]</td>\n    </tr>\n    <tr>\n      <th>4523</th>\n      <td>[Baby, Girl, Speaking, child, kid, young, mom,...</td>\n      <td>train/baby girl speaking_2113.flac</td>\n      <td>[Baby Girl Saying Mama.]</td>\n    </tr>\n    <tr>\n      <th>4524</th>\n      <td>[Anti, Aircraft, Cannon, gun, shoot, shooting,...</td>\n      <td>train/anti aircraft gun_2114.flac</td>\n      <td>[Anti Aircraft Cannon.]</td>\n    </tr>\n  </tbody>\n</table>\n<p>4519 rows × 3 columns</p>\n</div>"
     },
     "execution_count": 22,
     "metadata": {},
     "output_type": "execute_result"
    }
   ],
   "source": [
    "df.to_parquet('/media/t9s9/SSD_ubuntu/datasets/WavText5k/annot.parquet', index=False)\n",
    "df"
   ],
   "metadata": {
    "collapsed": false
   }
  }
 ],
 "metadata": {
  "kernelspec": {
   "display_name": "Python 3",
   "language": "python",
   "name": "python3"
  },
  "language_info": {
   "codemirror_mode": {
    "name": "ipython",
    "version": 2
   },
   "file_extension": ".py",
   "mimetype": "text/x-python",
   "name": "python",
   "nbconvert_exporter": "python",
   "pygments_lexer": "ipython2",
   "version": "2.7.6"
  }
 },
 "nbformat": 4,
 "nbformat_minor": 0
}
