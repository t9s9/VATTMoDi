{
 "cells": [
  {
   "cell_type": "code",
   "execution_count": 1,
   "metadata": {
    "collapsed": true
   },
   "outputs": [],
   "source": [
    "import pandas as pd\n",
    "from pathlib import Path\n",
    "from collections import Counter\n",
    "from itertools import chain"
   ]
  },
  {
   "cell_type": "code",
   "execution_count": 37,
   "outputs": [],
   "source": [
    "base = Path('/media/ts/SSD_ubuntu/datasets/Clotho/labels')\n",
    "splits = {'train': 'development', 'test': 'evaluation', 'val': 'validation'}\n",
    "\n",
    "for split, filename in splits.items():\n",
    "    df = pd.read_csv(base / f'clotho_captions_{filename}.csv')\n",
    "    meta = pd.read_csv(base / f'clotho_metadata_{filename}.csv', engine='python', encoding='latin')\n",
    "\n",
    "    df = df.merge(meta[['file_name', 'keywords']], on='file_name', how='inner')\n",
    "    df['filename'] = df['file_name'].apply(lambda x: str(split / Path(x).with_suffix('.flac')))\n",
    "    df['captions'] = df[[f'caption_{i}' for i in range(1, 6)]].values.tolist()\n",
    "    df['tags'] = df['keywords'].str.split(';')\n",
    "    df = df.drop(columns=[f'caption_{i}' for i in range(1, 6)] + ['file_name', 'keywords'])\n",
    "\n",
    "    df.to_parquet((base.parent / ('annot_' + split)).with_suffix('.parquet'), index=False)"
   ],
   "metadata": {
    "collapsed": false
   }
  },
  {
   "cell_type": "code",
   "execution_count": 38,
   "outputs": [
    {
     "data": {
      "text/plain": "                                           filename  \\\n0               train/Distorted AM Radio noise.flac   \n1               train/Paper_Parchment_Rustling.flac   \n2                 train/03 Whales Slowing Down.flac   \n3              train/Rope tied to boat in port.flac   \n4                          train/carpenter bee.flac   \n...                                             ...   \n3834          train/Metallic Ping CPU Heatsink.flac   \n3835                            train/Fumbling.flac   \n3836        train/cold waterdrops in a hot pot.flac   \n3837  train/Dry leaves falling on cement floor.flac   \n3838                          train/Wood chips.flac   \n\n                                               captions  \\\n0     [A muddled noise of broken channel of the TV, ...   \n1     [A person is turning a map over and over., A p...   \n2     [Several barnyard animals mooing in a barn whi...   \n3     [An office chair is squeaking as someone bends...   \n4     [A flying bee is buzzing loudly around an obje...   \n...                                                 ...   \n3834  [Tools are being tried to make different sound...   \n3835  [multiple items are picked up, and a tin pan i...   \n3836  [Someone is flipping over food on a hot grill....   \n3837  [Tapping noises are being made before paper is...   \n3838  [Some pounding in a room follows breaking of m...   \n\n                                                   tags  \n0                                        [noise, radio]  \n1     [movement, parchment, scroll, crinkle, pages, ...  \n2     [boat, voice, earth, sea, humpback-whales, liv...  \n3     [tanker, sail-boat, rope, ocean, shipping, yac...  \n4                      [bugs, field-recording, insects]  \n...                                                 ...  \n3834                    [cpu, heatsink, metallic, ping]  \n3835  [junk, crash, items, metal, searching, plastic...  \n3836         [drop, hiss, hot-plate, pot, steam, water]  \n3837  [crinkle, falling, OWI, fall, dropping, crisp,...  \n3838                              [wood, chips, casino]  \n\n[3839 rows x 3 columns]",
      "text/html": "<div>\n<style scoped>\n    .dataframe tbody tr th:only-of-type {\n        vertical-align: middle;\n    }\n\n    .dataframe tbody tr th {\n        vertical-align: top;\n    }\n\n    .dataframe thead th {\n        text-align: right;\n    }\n</style>\n<table border=\"1\" class=\"dataframe\">\n  <thead>\n    <tr style=\"text-align: right;\">\n      <th></th>\n      <th>filename</th>\n      <th>captions</th>\n      <th>tags</th>\n    </tr>\n  </thead>\n  <tbody>\n    <tr>\n      <th>0</th>\n      <td>train/Distorted AM Radio noise.flac</td>\n      <td>[A muddled noise of broken channel of the TV, ...</td>\n      <td>[noise, radio]</td>\n    </tr>\n    <tr>\n      <th>1</th>\n      <td>train/Paper_Parchment_Rustling.flac</td>\n      <td>[A person is turning a map over and over., A p...</td>\n      <td>[movement, parchment, scroll, crinkle, pages, ...</td>\n    </tr>\n    <tr>\n      <th>2</th>\n      <td>train/03 Whales Slowing Down.flac</td>\n      <td>[Several barnyard animals mooing in a barn whi...</td>\n      <td>[boat, voice, earth, sea, humpback-whales, liv...</td>\n    </tr>\n    <tr>\n      <th>3</th>\n      <td>train/Rope tied to boat in port.flac</td>\n      <td>[An office chair is squeaking as someone bends...</td>\n      <td>[tanker, sail-boat, rope, ocean, shipping, yac...</td>\n    </tr>\n    <tr>\n      <th>4</th>\n      <td>train/carpenter bee.flac</td>\n      <td>[A flying bee is buzzing loudly around an obje...</td>\n      <td>[bugs, field-recording, insects]</td>\n    </tr>\n    <tr>\n      <th>...</th>\n      <td>...</td>\n      <td>...</td>\n      <td>...</td>\n    </tr>\n    <tr>\n      <th>3834</th>\n      <td>train/Metallic Ping CPU Heatsink.flac</td>\n      <td>[Tools are being tried to make different sound...</td>\n      <td>[cpu, heatsink, metallic, ping]</td>\n    </tr>\n    <tr>\n      <th>3835</th>\n      <td>train/Fumbling.flac</td>\n      <td>[multiple items are picked up, and a tin pan i...</td>\n      <td>[junk, crash, items, metal, searching, plastic...</td>\n    </tr>\n    <tr>\n      <th>3836</th>\n      <td>train/cold waterdrops in a hot pot.flac</td>\n      <td>[Someone is flipping over food on a hot grill....</td>\n      <td>[drop, hiss, hot-plate, pot, steam, water]</td>\n    </tr>\n    <tr>\n      <th>3837</th>\n      <td>train/Dry leaves falling on cement floor.flac</td>\n      <td>[Tapping noises are being made before paper is...</td>\n      <td>[crinkle, falling, OWI, fall, dropping, crisp,...</td>\n    </tr>\n    <tr>\n      <th>3838</th>\n      <td>train/Wood chips.flac</td>\n      <td>[Some pounding in a room follows breaking of m...</td>\n      <td>[wood, chips, casino]</td>\n    </tr>\n  </tbody>\n</table>\n<p>3839 rows × 3 columns</p>\n</div>"
     },
     "execution_count": 38,
     "metadata": {},
     "output_type": "execute_result"
    }
   ],
   "source": [
    "df = pd.read_parquet('/media/ts/SSD_ubuntu/datasets/Clotho/annot_train.parquet')\n",
    "df"
   ],
   "metadata": {
    "collapsed": false
   }
  },
  {
   "cell_type": "code",
   "execution_count": 34,
   "outputs": [
    {
     "data": {
      "text/plain": "[('field-recording', 313),\n ('water', 138),\n ('nature', 98),\n ('ambience', 84),\n ('ambient', 81),\n ('birds', 80),\n ('noise', 76),\n ('city', 66),\n ('people', 55),\n ('wind', 55)]"
     },
     "execution_count": 34,
     "metadata": {},
     "output_type": "execute_result"
    }
   ],
   "source": [
    "Counter(chain.from_iterable(df.tags.to_list())).most_common(10)"
   ],
   "metadata": {
    "collapsed": false
   }
  }
 ],
 "metadata": {
  "kernelspec": {
   "display_name": "Python 3",
   "language": "python",
   "name": "python3"
  },
  "language_info": {
   "codemirror_mode": {
    "name": "ipython",
    "version": 2
   },
   "file_extension": ".py",
   "mimetype": "text/x-python",
   "name": "python",
   "nbconvert_exporter": "python",
   "pygments_lexer": "ipython2",
   "version": "2.7.6"
  }
 },
 "nbformat": 4,
 "nbformat_minor": 0
}
