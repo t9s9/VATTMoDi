{
 "cells": [
  {
   "cell_type": "code",
   "execution_count": 2,
   "metadata": {
    "collapsed": true
   },
   "outputs": [],
   "source": [
    "import ast\n",
    "from pathlib import Path\n",
    "\n",
    "import pandas as pd"
   ]
  },
  {
   "cell_type": "code",
   "execution_count": 2,
   "outputs": [],
   "source": [
    "def process(path):\n",
    "    path = Path(path)\n",
    "    df = pd.read_csv(path)\n",
    "    df.captions = df.captions.apply(ast.literal_eval)\n",
    "    exists = df.filename.apply(lambda f: (path.parent / 'video_clips' / f).exists())\n",
    "    if not exists.sum() == df.shape[0]:\n",
    "        print(f\"{exists.sum()}/{df.shape[0]} of the files do not exist!\")\n",
    "        df = df[exists]\n",
    "    df.to_parquet(path.with_suffix('.parquet'), index=False)"
   ],
   "metadata": {
    "collapsed": false
   }
  },
  {
   "cell_type": "code",
   "execution_count": 3,
   "outputs": [
    {
     "name": "stdout",
     "output_type": "stream",
     "text": [
      "31022/31111 of the files do not exist!\n"
     ]
    }
   ],
   "source": [
    "annot = ['/media/ts/SSD_ubuntu/datasets/ActivityNetDense/annot_val.csv',\n",
    "         '/media/ts/SSD_ubuntu/datasets/ActivityNetDense/annot_train.csv']\n",
    "for p in annot:\n",
    "    process(p)"
   ],
   "metadata": {
    "collapsed": false
   }
  },
  {
   "cell_type": "code",
   "execution_count": 4,
   "outputs": [],
   "source": [
    "a = Path(annot[1])\n",
    "df = pd.read_parquet(a.with_suffix('.parquet'))\n",
    "exists = df.filename.apply(lambda f: (Path(a).parent / 'video_clips' / f).exists())\n",
    "assert exists.sum() == df.shape[0]"
   ],
   "metadata": {
    "collapsed": false
   }
  },
  {
   "cell_type": "code",
   "execution_count": 7,
   "outputs": [
    {
     "data": {
      "text/plain": "                               filename  \\\n0          val1/cLTDcBhgRw8_150_2601.pt   \n1       val1/0hdwFR5qWz4_17041_17384.pt   \n2        val1/bPZRYmr7p1k_6613_11214.pt   \n3           val1/moUL_qLnNDM_188_297.pt   \n4            val1/uaBTWbu0jps_0_2584.pt   \n...                                 ...   \n45700       train/MEwGjGcV_Ik_0_4006.pt   \n45701       train/FCKkV9mYuI4_0_1267.pt   \n45702    train/vBCnsp-NEAg_2975_5342.pt   \n45703  train/C_fqFJyf5SU_11495_16680.pt   \n45704    train/L5nqeFWufrE_1886_2881.pt   \n\n                                                 caption  \n0       Rubbing and rattling followed by a man speaking.  \n1      A car engine is idling and a person is talking...  \n2        Music plays in the background as a piano plays.  \n3                         Wind blows and water splashes.  \n4      People are talking in the background as a hors...  \n...                                                  ...  \n45700  A car engine is idling and a person is talking...  \n45701  An adult male speaks, and music plays in the b...  \n45702          Music is playing and a person is singing.  \n45703  People are cheering and clapping, and an adult...  \n45704  Music is playing in the background as a musica...  \n\n[45705 rows x 2 columns]",
      "text/html": "<div>\n<style scoped>\n    .dataframe tbody tr th:only-of-type {\n        vertical-align: middle;\n    }\n\n    .dataframe tbody tr th {\n        vertical-align: top;\n    }\n\n    .dataframe thead th {\n        text-align: right;\n    }\n</style>\n<table border=\"1\" class=\"dataframe\">\n  <thead>\n    <tr style=\"text-align: right;\">\n      <th></th>\n      <th>filename</th>\n      <th>caption</th>\n    </tr>\n  </thead>\n  <tbody>\n    <tr>\n      <th>0</th>\n      <td>val1/cLTDcBhgRw8_150_2601.pt</td>\n      <td>Rubbing and rattling followed by a man speaking.</td>\n    </tr>\n    <tr>\n      <th>1</th>\n      <td>val1/0hdwFR5qWz4_17041_17384.pt</td>\n      <td>A car engine is idling and a person is talking...</td>\n    </tr>\n    <tr>\n      <th>2</th>\n      <td>val1/bPZRYmr7p1k_6613_11214.pt</td>\n      <td>Music plays in the background as a piano plays.</td>\n    </tr>\n    <tr>\n      <th>3</th>\n      <td>val1/moUL_qLnNDM_188_297.pt</td>\n      <td>Wind blows and water splashes.</td>\n    </tr>\n    <tr>\n      <th>4</th>\n      <td>val1/uaBTWbu0jps_0_2584.pt</td>\n      <td>People are talking in the background as a hors...</td>\n    </tr>\n    <tr>\n      <th>...</th>\n      <td>...</td>\n      <td>...</td>\n    </tr>\n    <tr>\n      <th>45700</th>\n      <td>train/MEwGjGcV_Ik_0_4006.pt</td>\n      <td>A car engine is idling and a person is talking...</td>\n    </tr>\n    <tr>\n      <th>45701</th>\n      <td>train/FCKkV9mYuI4_0_1267.pt</td>\n      <td>An adult male speaks, and music plays in the b...</td>\n    </tr>\n    <tr>\n      <th>45702</th>\n      <td>train/vBCnsp-NEAg_2975_5342.pt</td>\n      <td>Music is playing and a person is singing.</td>\n    </tr>\n    <tr>\n      <th>45703</th>\n      <td>train/C_fqFJyf5SU_11495_16680.pt</td>\n      <td>People are cheering and clapping, and an adult...</td>\n    </tr>\n    <tr>\n      <th>45704</th>\n      <td>train/L5nqeFWufrE_1886_2881.pt</td>\n      <td>Music is playing in the background as a musica...</td>\n    </tr>\n  </tbody>\n</table>\n<p>45705 rows × 2 columns</p>\n</div>"
     },
     "execution_count": 7,
     "metadata": {},
     "output_type": "execute_result"
    }
   ],
   "source": [
    "df = pd.read_csv('/media/ts/SSD_ubuntu/datasets/ActivityNetDense/captions/auditory_captions.csv')\n",
    "df"
   ],
   "metadata": {
    "collapsed": false
   }
  },
  {
   "cell_type": "code",
   "execution_count": 12,
   "outputs": [],
   "source": [
    "def f(x):\n",
    "    x = Path(x)\n",
    "    if x.parent.name == 'val1':\n",
    "        x = Path('val') / x.name\n",
    "    return str(x)\n",
    "df.filename = df.filename.apply(f)"
   ],
   "metadata": {
    "collapsed": false
   }
  },
  {
   "cell_type": "code",
   "execution_count": 15,
   "outputs": [
    {
     "data": {
      "text/plain": "                               filename  \\\n0           val/cLTDcBhgRw8_150_2601.pt   \n1        val/0hdwFR5qWz4_17041_17384.pt   \n2         val/bPZRYmr7p1k_6613_11214.pt   \n3            val/moUL_qLnNDM_188_297.pt   \n4             val/uaBTWbu0jps_0_2584.pt   \n...                                 ...   \n45700       train/MEwGjGcV_Ik_0_4006.pt   \n45701       train/FCKkV9mYuI4_0_1267.pt   \n45702    train/vBCnsp-NEAg_2975_5342.pt   \n45703  train/C_fqFJyf5SU_11495_16680.pt   \n45704    train/L5nqeFWufrE_1886_2881.pt   \n\n                                                 caption  \n0       Rubbing and rattling followed by a man speaking.  \n1      A car engine is idling and a person is talking...  \n2        Music plays in the background as a piano plays.  \n3                         Wind blows and water splashes.  \n4      People are talking in the background as a hors...  \n...                                                  ...  \n45700  A car engine is idling and a person is talking...  \n45701  An adult male speaks, and music plays in the b...  \n45702          Music is playing and a person is singing.  \n45703  People are cheering and clapping, and an adult...  \n45704  Music is playing in the background as a musica...  \n\n[45705 rows x 2 columns]",
      "text/html": "<div>\n<style scoped>\n    .dataframe tbody tr th:only-of-type {\n        vertical-align: middle;\n    }\n\n    .dataframe tbody tr th {\n        vertical-align: top;\n    }\n\n    .dataframe thead th {\n        text-align: right;\n    }\n</style>\n<table border=\"1\" class=\"dataframe\">\n  <thead>\n    <tr style=\"text-align: right;\">\n      <th></th>\n      <th>filename</th>\n      <th>caption</th>\n    </tr>\n  </thead>\n  <tbody>\n    <tr>\n      <th>0</th>\n      <td>val/cLTDcBhgRw8_150_2601.pt</td>\n      <td>Rubbing and rattling followed by a man speaking.</td>\n    </tr>\n    <tr>\n      <th>1</th>\n      <td>val/0hdwFR5qWz4_17041_17384.pt</td>\n      <td>A car engine is idling and a person is talking...</td>\n    </tr>\n    <tr>\n      <th>2</th>\n      <td>val/bPZRYmr7p1k_6613_11214.pt</td>\n      <td>Music plays in the background as a piano plays.</td>\n    </tr>\n    <tr>\n      <th>3</th>\n      <td>val/moUL_qLnNDM_188_297.pt</td>\n      <td>Wind blows and water splashes.</td>\n    </tr>\n    <tr>\n      <th>4</th>\n      <td>val/uaBTWbu0jps_0_2584.pt</td>\n      <td>People are talking in the background as a hors...</td>\n    </tr>\n    <tr>\n      <th>...</th>\n      <td>...</td>\n      <td>...</td>\n    </tr>\n    <tr>\n      <th>45700</th>\n      <td>train/MEwGjGcV_Ik_0_4006.pt</td>\n      <td>A car engine is idling and a person is talking...</td>\n    </tr>\n    <tr>\n      <th>45701</th>\n      <td>train/FCKkV9mYuI4_0_1267.pt</td>\n      <td>An adult male speaks, and music plays in the b...</td>\n    </tr>\n    <tr>\n      <th>45702</th>\n      <td>train/vBCnsp-NEAg_2975_5342.pt</td>\n      <td>Music is playing and a person is singing.</td>\n    </tr>\n    <tr>\n      <th>45703</th>\n      <td>train/C_fqFJyf5SU_11495_16680.pt</td>\n      <td>People are cheering and clapping, and an adult...</td>\n    </tr>\n    <tr>\n      <th>45704</th>\n      <td>train/L5nqeFWufrE_1886_2881.pt</td>\n      <td>Music is playing in the background as a musica...</td>\n    </tr>\n  </tbody>\n</table>\n<p>45705 rows × 2 columns</p>\n</div>"
     },
     "execution_count": 15,
     "metadata": {},
     "output_type": "execute_result"
    }
   ],
   "source": [
    "df"
   ],
   "metadata": {
    "collapsed": false
   }
  },
  {
   "cell_type": "code",
   "execution_count": 16,
   "outputs": [],
   "source": [
    "df.to_csv('/media/ts/SSD_ubuntu/datasets/ActivityNetDense/captions/auditory_captions.csv', index=False)"
   ],
   "metadata": {
    "collapsed": false
   }
  }
 ],
 "metadata": {
  "kernelspec": {
   "display_name": "Python 3",
   "language": "python",
   "name": "python3"
  },
  "language_info": {
   "codemirror_mode": {
    "name": "ipython",
    "version": 2
   },
   "file_extension": ".py",
   "mimetype": "text/x-python",
   "name": "python",
   "nbconvert_exporter": "python",
   "pygments_lexer": "ipython2",
   "version": "2.7.6"
  }
 },
 "nbformat": 4,
 "nbformat_minor": 0
}
